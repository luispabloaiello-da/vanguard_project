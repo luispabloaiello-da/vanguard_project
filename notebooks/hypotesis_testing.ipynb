{
 "cells": [
  {
   "cell_type": "code",
   "execution_count": 1,
   "id": "bdfaaae6",
   "metadata": {},
   "outputs": [],
   "source": [
    "# <-- Import libraries, custom functions, and load configuration & datasets <-- #\n",
    "\n",
    "import yaml\n",
    "import datetime as dt\n",
    "import re\n",
    "import pandas as pd\n",
    "import scipy.stats as st\n",
    "import numpy as np\n",
    "import matplotlib.pyplot as plt\n",
    "import plotly.express as px\n",
    "import statsmodels.api as sm\n",
    "import seaborn as sns\n",
    "\n",
    "from pathlib import Path\n",
    "import sys\n",
    "# Point to the project root (adjust parents[1] to parents[2] if your notebook is deeper)\n",
    "PROJECT_ROOT = Path.cwd().resolve().parent\n",
    "sys.path.insert(0, str(PROJECT_ROOT))\n",
    "\n",
    "from statsmodels.stats.proportion import proportions_ztest, proportion_confint\n",
    "from statsmodels.multivariate.manova import MANOVA\n",
    "from scipy import stats\n",
    "from scipy.stats import pearsonr, boxcox, chi2_contingency, shapiro, probplot\n",
    "from scipy.stats.contingency import association\n",
    "\n",
    "sns.set(style=\"whitegrid\")\n",
    "\n",
    "# <-- Imports custom preprocessing functions from 'functions.py' <-- #\n",
    "\n",
    "from lib.functions import (kpis_from_processes, \n",
    "                           step_dropoff_table,\n",
    "                           two_proportion_ztest,\n",
    "                           welch_t_one_sided,\n",
    "                           stratified_completion_tests,\n",
    "                           decision_line,\n",
    "                           show_statistical_test)\n",
    "\n",
    "# <-- Loads YAML configuration to dynamically reference CSV output files. <-- #\n",
    "\n",
    "config = None  # <-- Initialize config\n",
    "try:\n",
    "    with open(\"../config.yaml\", \"r\") as file:\n",
    "        config = yaml.safe_load(file)\n",
    "except:\n",
    "    print(\"Yaml configuration file not found!\")\n",
    "\n",
    "df_proc_control_no_out = pd.read_csv(config['output_data']['file12'])   # \n",
    "df_proc_test_no_out = pd.read_csv(config['output_data']['file14'])      # \n",
    "df_demo_control = pd.read_csv(config['output_data']['file4'])           # \n",
    "df_demo_test = pd.read_csv(config['output_data']['file3'])              # "
   ]
  },
  {
   "cell_type": "code",
   "execution_count": 2,
   "id": "8248b70b",
   "metadata": {},
   "outputs": [
    {
     "data": {
      "text/plain": [
       "array(['fail', 'successful'], dtype=object)"
      ]
     },
     "execution_count": 2,
     "metadata": {},
     "output_type": "execute_result"
    }
   ],
   "source": [
    "df_proc_control_no_out['outcome'].unique()"
   ]
  },
  {
   "cell_type": "code",
   "execution_count": 3,
   "id": "f291aef9",
   "metadata": {},
   "outputs": [
    {
     "data": {
      "text/plain": [
       "array(['successful', 'fail', 'completed_with_errors'], dtype=object)"
      ]
     },
     "execution_count": 3,
     "metadata": {},
     "output_type": "execute_result"
    }
   ],
   "source": [
    "df_proc_test_no_out['outcome'].unique()"
   ]
  },
  {
   "cell_type": "code",
   "execution_count": 4,
   "id": "e68ee23c",
   "metadata": {},
   "outputs": [
    {
     "name": "stdout",
     "output_type": "stream",
     "text": [
      "<class 'pandas.core.frame.DataFrame'>\n",
      "RangeIndex: 23526 entries, 0 to 23525\n",
      "Data columns (total 11 columns):\n",
      " #   Column             Non-Null Count  Dtype  \n",
      "---  ------             --------------  -----  \n",
      " 0   client_id          23526 non-null  int64  \n",
      " 1   clnt_tenure_yr     23526 non-null  float64\n",
      " 2   clnt_tenure_mnth   23526 non-null  float64\n",
      " 3   clnt_age           23526 non-null  float64\n",
      " 4   num_accts          23526 non-null  float64\n",
      " 5   bal                23526 non-null  float64\n",
      " 6   calls_6_mnth       23526 non-null  float64\n",
      " 7   logons_6_mnth      23526 non-null  float64\n",
      " 8   Variation          23526 non-null  object \n",
      " 9   clnt_age_quantile  23526 non-null  object \n",
      " 10  tenure_quantile    23526 non-null  object \n",
      "dtypes: float64(7), int64(1), object(3)\n",
      "memory usage: 2.0+ MB\n"
     ]
    }
   ],
   "source": [
    "df_demo_control.info()"
   ]
  },
  {
   "cell_type": "code",
   "execution_count": 5,
   "id": "d1752dda",
   "metadata": {},
   "outputs": [
    {
     "data": {
      "text/html": [
       "<div>\n",
       "<style scoped>\n",
       "    .dataframe tbody tr th:only-of-type {\n",
       "        vertical-align: middle;\n",
       "    }\n",
       "\n",
       "    .dataframe tbody tr th {\n",
       "        vertical-align: top;\n",
       "    }\n",
       "\n",
       "    .dataframe thead th {\n",
       "        text-align: right;\n",
       "    }\n",
       "</style>\n",
       "<table border=\"1\" class=\"dataframe\">\n",
       "  <thead>\n",
       "    <tr style=\"text-align: right;\">\n",
       "      <th></th>\n",
       "      <th>client_id</th>\n",
       "      <th>clnt_tenure_yr</th>\n",
       "      <th>clnt_tenure_mnth</th>\n",
       "      <th>clnt_age</th>\n",
       "      <th>num_accts</th>\n",
       "      <th>bal</th>\n",
       "      <th>calls_6_mnth</th>\n",
       "      <th>logons_6_mnth</th>\n",
       "      <th>Variation</th>\n",
       "      <th>clnt_age_quantile</th>\n",
       "      <th>tenure_quantile</th>\n",
       "    </tr>\n",
       "  </thead>\n",
       "  <tbody>\n",
       "    <tr>\n",
       "      <th>0</th>\n",
       "      <td>2304905</td>\n",
       "      <td>7.0</td>\n",
       "      <td>94.0</td>\n",
       "      <td>58.0</td>\n",
       "      <td>2.0</td>\n",
       "      <td>110860.30</td>\n",
       "      <td>6.0</td>\n",
       "      <td>9.0</td>\n",
       "      <td>Control</td>\n",
       "      <td>A3</td>\n",
       "      <td>T2</td>\n",
       "    </tr>\n",
       "    <tr>\n",
       "      <th>1</th>\n",
       "      <td>5126305</td>\n",
       "      <td>12.0</td>\n",
       "      <td>145.0</td>\n",
       "      <td>33.0</td>\n",
       "      <td>2.0</td>\n",
       "      <td>103671.75</td>\n",
       "      <td>0.0</td>\n",
       "      <td>3.0</td>\n",
       "      <td>Control</td>\n",
       "      <td>A2</td>\n",
       "      <td>T3</td>\n",
       "    </tr>\n",
       "    <tr>\n",
       "      <th>2</th>\n",
       "      <td>3727881</td>\n",
       "      <td>5.0</td>\n",
       "      <td>71.0</td>\n",
       "      <td>30.5</td>\n",
       "      <td>2.0</td>\n",
       "      <td>23915.60</td>\n",
       "      <td>0.0</td>\n",
       "      <td>3.0</td>\n",
       "      <td>Control</td>\n",
       "      <td>A1</td>\n",
       "      <td>T1</td>\n",
       "    </tr>\n",
       "    <tr>\n",
       "      <th>3</th>\n",
       "      <td>272934</td>\n",
       "      <td>5.0</td>\n",
       "      <td>66.0</td>\n",
       "      <td>58.5</td>\n",
       "      <td>2.0</td>\n",
       "      <td>27021.42</td>\n",
       "      <td>2.0</td>\n",
       "      <td>5.0</td>\n",
       "      <td>Control</td>\n",
       "      <td>A3</td>\n",
       "      <td>T1</td>\n",
       "    </tr>\n",
       "    <tr>\n",
       "      <th>4</th>\n",
       "      <td>285619</td>\n",
       "      <td>30.0</td>\n",
       "      <td>369.0</td>\n",
       "      <td>67.5</td>\n",
       "      <td>2.0</td>\n",
       "      <td>299388.72</td>\n",
       "      <td>3.0</td>\n",
       "      <td>6.0</td>\n",
       "      <td>Control</td>\n",
       "      <td>A4</td>\n",
       "      <td>T4</td>\n",
       "    </tr>\n",
       "  </tbody>\n",
       "</table>\n",
       "</div>"
      ],
      "text/plain": [
       "   client_id  clnt_tenure_yr  clnt_tenure_mnth  clnt_age  num_accts  \\\n",
       "0    2304905             7.0              94.0      58.0        2.0   \n",
       "1    5126305            12.0             145.0      33.0        2.0   \n",
       "2    3727881             5.0              71.0      30.5        2.0   \n",
       "3     272934             5.0              66.0      58.5        2.0   \n",
       "4     285619            30.0             369.0      67.5        2.0   \n",
       "\n",
       "         bal  calls_6_mnth  logons_6_mnth Variation clnt_age_quantile  \\\n",
       "0  110860.30           6.0            9.0   Control                A3   \n",
       "1  103671.75           0.0            3.0   Control                A2   \n",
       "2   23915.60           0.0            3.0   Control                A1   \n",
       "3   27021.42           2.0            5.0   Control                A3   \n",
       "4  299388.72           3.0            6.0   Control                A4   \n",
       "\n",
       "  tenure_quantile  \n",
       "0              T2  \n",
       "1              T3  \n",
       "2              T1  \n",
       "3              T1  \n",
       "4              T4  "
      ]
     },
     "execution_count": 5,
     "metadata": {},
     "output_type": "execute_result"
    }
   ],
   "source": [
    "df_demo_control.head(5)"
   ]
  },
  {
   "cell_type": "code",
   "execution_count": 6,
   "id": "6f0146db",
   "metadata": {},
   "outputs": [],
   "source": [
    "# Keep only the columns we need from df_demo_control and df_demo_test\n",
    "demo_cols = [\n",
    "    'client_id','clnt_tenure_yr','clnt_tenure_mnth','clnt_age','num_accts','bal','clnt_age_quantile','tenure_quantile'\n",
    "]\n",
    "\n",
    "proc_control_aug = (df_proc_control_no_out\n",
    "    .merge(df_demo_control[demo_cols], on='client_id', how='left'))\n",
    "\n",
    "proc_test_aug = (df_proc_test_no_out\n",
    "    .merge(df_demo_test[demo_cols], on='client_id', how='left'))\n",
    "\n",
    "# convenience aliases we’ll use below\n",
    "control = proc_control_aug\n",
    "test = proc_test_aug"
   ]
  },
  {
   "cell_type": "code",
   "execution_count": 7,
   "id": "219c034f",
   "metadata": {},
   "outputs": [
    {
     "data": {
      "text/plain": [
       "Index(['client_id', 'visitor_id', 'visit_id', 'reached_start',\n",
       "       'reached_step_1', 'reached_step_2', 'reached_step_3', 'reached_confirm',\n",
       "       'completed', 't_start_step1', 't_step1_step2', 't_step2_step3',\n",
       "       't_step3_conf', 't_total', 'n_back_jumps', 'outcome', 'clnt_tenure_yr',\n",
       "       'clnt_tenure_mnth', 'clnt_age', 'num_accts', 'bal', 'clnt_age_quantile',\n",
       "       'tenure_quantile'],\n",
       "      dtype='object')"
      ]
     },
     "execution_count": 7,
     "metadata": {},
     "output_type": "execute_result"
    }
   ],
   "source": [
    "control.columns"
   ]
  },
  {
   "cell_type": "code",
   "execution_count": 8,
   "id": "10aecc72",
   "metadata": {},
   "outputs": [
    {
     "data": {
      "text/html": [
       "<div>\n",
       "<style scoped>\n",
       "    .dataframe tbody tr th:only-of-type {\n",
       "        vertical-align: middle;\n",
       "    }\n",
       "\n",
       "    .dataframe tbody tr th {\n",
       "        vertical-align: top;\n",
       "    }\n",
       "\n",
       "    .dataframe thead th {\n",
       "        text-align: right;\n",
       "    }\n",
       "</style>\n",
       "<table border=\"1\" class=\"dataframe\">\n",
       "  <thead>\n",
       "    <tr style=\"text-align: right;\">\n",
       "      <th></th>\n",
       "      <th>client_id</th>\n",
       "      <th>visitor_id</th>\n",
       "      <th>visit_id</th>\n",
       "      <th>reached_start</th>\n",
       "      <th>reached_step_1</th>\n",
       "      <th>reached_step_2</th>\n",
       "      <th>reached_step_3</th>\n",
       "      <th>reached_confirm</th>\n",
       "      <th>completed</th>\n",
       "    </tr>\n",
       "  </thead>\n",
       "  <tbody>\n",
       "    <tr>\n",
       "      <th>0</th>\n",
       "      <td>1186</td>\n",
       "      <td>446844663_31615102958</td>\n",
       "      <td>507052512_11309370126_442139</td>\n",
       "      <td>1</td>\n",
       "      <td>0</td>\n",
       "      <td>0</td>\n",
       "      <td>0</td>\n",
       "      <td>0</td>\n",
       "      <td>0</td>\n",
       "    </tr>\n",
       "    <tr>\n",
       "      <th>1</th>\n",
       "      <td>1186</td>\n",
       "      <td>446844663_31615102958</td>\n",
       "      <td>795373564_99931517312_810896</td>\n",
       "      <td>1</td>\n",
       "      <td>1</td>\n",
       "      <td>1</td>\n",
       "      <td>0</td>\n",
       "      <td>0</td>\n",
       "      <td>0</td>\n",
       "    </tr>\n",
       "    <tr>\n",
       "      <th>2</th>\n",
       "      <td>1195</td>\n",
       "      <td>766842522_69992551638</td>\n",
       "      <td>393817425_39015278493_996341</td>\n",
       "      <td>1</td>\n",
       "      <td>1</td>\n",
       "      <td>1</td>\n",
       "      <td>1</td>\n",
       "      <td>1</td>\n",
       "      <td>1</td>\n",
       "    </tr>\n",
       "    <tr>\n",
       "      <th>3</th>\n",
       "      <td>1368</td>\n",
       "      <td>366307863_19014662045</td>\n",
       "      <td>784065271_45379483290_309335</td>\n",
       "      <td>1</td>\n",
       "      <td>0</td>\n",
       "      <td>0</td>\n",
       "      <td>0</td>\n",
       "      <td>0</td>\n",
       "      <td>0</td>\n",
       "    </tr>\n",
       "    <tr>\n",
       "      <th>4</th>\n",
       "      <td>2439</td>\n",
       "      <td>607208067_70160939111</td>\n",
       "      <td>848231744_22569944243_37711</td>\n",
       "      <td>1</td>\n",
       "      <td>0</td>\n",
       "      <td>0</td>\n",
       "      <td>0</td>\n",
       "      <td>0</td>\n",
       "      <td>0</td>\n",
       "    </tr>\n",
       "  </tbody>\n",
       "</table>\n",
       "</div>"
      ],
      "text/plain": [
       "   client_id             visitor_id                      visit_id  \\\n",
       "0       1186  446844663_31615102958  507052512_11309370126_442139   \n",
       "1       1186  446844663_31615102958  795373564_99931517312_810896   \n",
       "2       1195  766842522_69992551638  393817425_39015278493_996341   \n",
       "3       1368  366307863_19014662045  784065271_45379483290_309335   \n",
       "4       2439  607208067_70160939111   848231744_22569944243_37711   \n",
       "\n",
       "   reached_start  reached_step_1  reached_step_2  reached_step_3  \\\n",
       "0              1               0               0               0   \n",
       "1              1               1               1               0   \n",
       "2              1               1               1               1   \n",
       "3              1               0               0               0   \n",
       "4              1               0               0               0   \n",
       "\n",
       "   reached_confirm  completed  \n",
       "0                0          0  \n",
       "1                0          0  \n",
       "2                1          1  \n",
       "3                0          0  \n",
       "4                0          0  "
      ]
     },
     "metadata": {},
     "output_type": "display_data"
    },
    {
     "data": {
      "text/html": [
       "<div>\n",
       "<style scoped>\n",
       "    .dataframe tbody tr th:only-of-type {\n",
       "        vertical-align: middle;\n",
       "    }\n",
       "\n",
       "    .dataframe tbody tr th {\n",
       "        vertical-align: top;\n",
       "    }\n",
       "\n",
       "    .dataframe thead th {\n",
       "        text-align: right;\n",
       "    }\n",
       "</style>\n",
       "<table border=\"1\" class=\"dataframe\">\n",
       "  <thead>\n",
       "    <tr style=\"text-align: right;\">\n",
       "      <th></th>\n",
       "      <th>client_id</th>\n",
       "      <th>visitor_id</th>\n",
       "      <th>visit_id</th>\n",
       "      <th>t_start_step1</th>\n",
       "      <th>t_step1_step2</th>\n",
       "      <th>t_step2_step3</th>\n",
       "      <th>t_step3_conf</th>\n",
       "      <th>t_total</th>\n",
       "      <th>n_back_jumps</th>\n",
       "      <th>outcome</th>\n",
       "    </tr>\n",
       "  </thead>\n",
       "  <tbody>\n",
       "    <tr>\n",
       "      <th>0</th>\n",
       "      <td>1186</td>\n",
       "      <td>446844663_31615102958</td>\n",
       "      <td>507052512_11309370126_442139</td>\n",
       "      <td>NaN</td>\n",
       "      <td>NaN</td>\n",
       "      <td>NaN</td>\n",
       "      <td>NaN</td>\n",
       "      <td>NaN</td>\n",
       "      <td>0</td>\n",
       "      <td>fail</td>\n",
       "    </tr>\n",
       "    <tr>\n",
       "      <th>1</th>\n",
       "      <td>1186</td>\n",
       "      <td>446844663_31615102958</td>\n",
       "      <td>795373564_99931517312_810896</td>\n",
       "      <td>0.183333</td>\n",
       "      <td>0.183333</td>\n",
       "      <td>NaN</td>\n",
       "      <td>NaN</td>\n",
       "      <td>NaN</td>\n",
       "      <td>0</td>\n",
       "      <td>fail</td>\n",
       "    </tr>\n",
       "    <tr>\n",
       "      <th>2</th>\n",
       "      <td>1195</td>\n",
       "      <td>766842522_69992551638</td>\n",
       "      <td>393817425_39015278493_996341</td>\n",
       "      <td>0.550000</td>\n",
       "      <td>1.633333</td>\n",
       "      <td>0.516667</td>\n",
       "      <td>1.383333</td>\n",
       "      <td>4.083333</td>\n",
       "      <td>0</td>\n",
       "      <td>successful</td>\n",
       "    </tr>\n",
       "    <tr>\n",
       "      <th>3</th>\n",
       "      <td>1368</td>\n",
       "      <td>366307863_19014662045</td>\n",
       "      <td>784065271_45379483290_309335</td>\n",
       "      <td>NaN</td>\n",
       "      <td>NaN</td>\n",
       "      <td>NaN</td>\n",
       "      <td>NaN</td>\n",
       "      <td>NaN</td>\n",
       "      <td>0</td>\n",
       "      <td>fail</td>\n",
       "    </tr>\n",
       "    <tr>\n",
       "      <th>4</th>\n",
       "      <td>2439</td>\n",
       "      <td>607208067_70160939111</td>\n",
       "      <td>848231744_22569944243_37711</td>\n",
       "      <td>NaN</td>\n",
       "      <td>NaN</td>\n",
       "      <td>NaN</td>\n",
       "      <td>NaN</td>\n",
       "      <td>NaN</td>\n",
       "      <td>0</td>\n",
       "      <td>fail</td>\n",
       "    </tr>\n",
       "  </tbody>\n",
       "</table>\n",
       "</div>"
      ],
      "text/plain": [
       "   client_id             visitor_id                      visit_id  \\\n",
       "0       1186  446844663_31615102958  507052512_11309370126_442139   \n",
       "1       1186  446844663_31615102958  795373564_99931517312_810896   \n",
       "2       1195  766842522_69992551638  393817425_39015278493_996341   \n",
       "3       1368  366307863_19014662045  784065271_45379483290_309335   \n",
       "4       2439  607208067_70160939111   848231744_22569944243_37711   \n",
       "\n",
       "   t_start_step1  t_step1_step2  t_step2_step3  t_step3_conf   t_total  \\\n",
       "0            NaN            NaN            NaN           NaN       NaN   \n",
       "1       0.183333       0.183333            NaN           NaN       NaN   \n",
       "2       0.550000       1.633333       0.516667      1.383333  4.083333   \n",
       "3            NaN            NaN            NaN           NaN       NaN   \n",
       "4            NaN            NaN            NaN           NaN       NaN   \n",
       "\n",
       "   n_back_jumps     outcome  \n",
       "0             0        fail  \n",
       "1             0        fail  \n",
       "2             0  successful  \n",
       "3             0        fail  \n",
       "4             0        fail  "
      ]
     },
     "metadata": {},
     "output_type": "display_data"
    },
    {
     "data": {
      "text/html": [
       "<div>\n",
       "<style scoped>\n",
       "    .dataframe tbody tr th:only-of-type {\n",
       "        vertical-align: middle;\n",
       "    }\n",
       "\n",
       "    .dataframe tbody tr th {\n",
       "        vertical-align: top;\n",
       "    }\n",
       "\n",
       "    .dataframe thead th {\n",
       "        text-align: right;\n",
       "    }\n",
       "</style>\n",
       "<table border=\"1\" class=\"dataframe\">\n",
       "  <thead>\n",
       "    <tr style=\"text-align: right;\">\n",
       "      <th></th>\n",
       "      <th>n_processes</th>\n",
       "      <th>started</th>\n",
       "      <th>step1_rate_%</th>\n",
       "      <th>step2_rate_%</th>\n",
       "      <th>step3_rate_%</th>\n",
       "      <th>completion_rate_%</th>\n",
       "      <th>successful_%</th>\n",
       "      <th>completed_with_errors_%</th>\n",
       "      <th>fail%</th>\n",
       "    </tr>\n",
       "  </thead>\n",
       "  <tbody>\n",
       "    <tr>\n",
       "      <th>0</th>\n",
       "      <td>17327</td>\n",
       "      <td>17327</td>\n",
       "      <td>66.439661</td>\n",
       "      <td>55.329832</td>\n",
       "      <td>49.829745</td>\n",
       "      <td>42.915681</td>\n",
       "      <td>42.915681</td>\n",
       "      <td>0.0</td>\n",
       "      <td>57.084319</td>\n",
       "    </tr>\n",
       "  </tbody>\n",
       "</table>\n",
       "</div>"
      ],
      "text/plain": [
       "   n_processes  started  step1_rate_%  step2_rate_%  step3_rate_%  \\\n",
       "0        17327    17327     66.439661     55.329832     49.829745   \n",
       "\n",
       "   completion_rate_%  successful_%  completed_with_errors_%      fail%  \n",
       "0          42.915681     42.915681                      0.0  57.084319  "
      ]
     },
     "metadata": {},
     "output_type": "display_data"
    },
    {
     "data": {
      "text/html": [
       "<div>\n",
       "<style scoped>\n",
       "    .dataframe tbody tr th:only-of-type {\n",
       "        vertical-align: middle;\n",
       "    }\n",
       "\n",
       "    .dataframe tbody tr th {\n",
       "        vertical-align: top;\n",
       "    }\n",
       "\n",
       "    .dataframe thead th {\n",
       "        text-align: right;\n",
       "    }\n",
       "</style>\n",
       "<table border=\"1\" class=\"dataframe\">\n",
       "  <thead>\n",
       "    <tr style=\"text-align: right;\">\n",
       "      <th></th>\n",
       "      <th>t_total_avg_min</th>\n",
       "      <th>t_step1_avg_min</th>\n",
       "      <th>t_step2_avg_min</th>\n",
       "      <th>t_step3_avg_min</th>\n",
       "      <th>t_conf_avg_min</th>\n",
       "      <th>n_back_jumps</th>\n",
       "      <th>avg_back_jumps</th>\n",
       "    </tr>\n",
       "  </thead>\n",
       "  <tbody>\n",
       "    <tr>\n",
       "      <th>0</th>\n",
       "      <td>4.560866</td>\n",
       "      <td>0.593359</td>\n",
       "      <td>0.58524</td>\n",
       "      <td>1.500851</td>\n",
       "      <td>1.915156</td>\n",
       "      <td>0</td>\n",
       "      <td>0.0</td>\n",
       "    </tr>\n",
       "  </tbody>\n",
       "</table>\n",
       "</div>"
      ],
      "text/plain": [
       "   t_total_avg_min  t_step1_avg_min  t_step2_avg_min  t_step3_avg_min  \\\n",
       "0         4.560866         0.593359          0.58524         1.500851   \n",
       "\n",
       "   t_conf_avg_min  n_back_jumps  avg_back_jumps  \n",
       "0        1.915156             0             0.0  "
      ]
     },
     "metadata": {},
     "output_type": "display_data"
    },
    {
     "data": {
      "text/html": [
       "<div>\n",
       "<style scoped>\n",
       "    .dataframe tbody tr th:only-of-type {\n",
       "        vertical-align: middle;\n",
       "    }\n",
       "\n",
       "    .dataframe tbody tr th {\n",
       "        vertical-align: top;\n",
       "    }\n",
       "\n",
       "    .dataframe thead th {\n",
       "        text-align: right;\n",
       "    }\n",
       "</style>\n",
       "<table border=\"1\" class=\"dataframe\">\n",
       "  <thead>\n",
       "    <tr style=\"text-align: right;\">\n",
       "      <th></th>\n",
       "      <th>from_to</th>\n",
       "      <th>n_from</th>\n",
       "      <th>n_to</th>\n",
       "      <th>conv_rate_%</th>\n",
       "      <th>dropoff_%</th>\n",
       "    </tr>\n",
       "  </thead>\n",
       "  <tbody>\n",
       "    <tr>\n",
       "      <th>0</th>\n",
       "      <td>start→step_1</td>\n",
       "      <td>17327</td>\n",
       "      <td>11512</td>\n",
       "      <td>66.439661</td>\n",
       "      <td>33.560339</td>\n",
       "    </tr>\n",
       "    <tr>\n",
       "      <th>1</th>\n",
       "      <td>step_1→step_2</td>\n",
       "      <td>11512</td>\n",
       "      <td>9587</td>\n",
       "      <td>83.278318</td>\n",
       "      <td>16.721682</td>\n",
       "    </tr>\n",
       "    <tr>\n",
       "      <th>2</th>\n",
       "      <td>step_2→step_3</td>\n",
       "      <td>9587</td>\n",
       "      <td>8634</td>\n",
       "      <td>90.059456</td>\n",
       "      <td>9.940544</td>\n",
       "    </tr>\n",
       "    <tr>\n",
       "      <th>3</th>\n",
       "      <td>step_3→confirm</td>\n",
       "      <td>8634</td>\n",
       "      <td>7436</td>\n",
       "      <td>86.124624</td>\n",
       "      <td>13.875376</td>\n",
       "    </tr>\n",
       "  </tbody>\n",
       "</table>\n",
       "</div>"
      ],
      "text/plain": [
       "          from_to  n_from   n_to  conv_rate_%  dropoff_%\n",
       "0    start→step_1   17327  11512    66.439661  33.560339\n",
       "1   step_1→step_2   11512   9587    83.278318  16.721682\n",
       "2   step_2→step_3    9587   8634    90.059456   9.940544\n",
       "3  step_3→confirm    8634   7436    86.124624  13.875376"
      ]
     },
     "metadata": {},
     "output_type": "display_data"
    },
    {
     "name": "stdout",
     "output_type": "stream",
     "text": [
      "Valid processes: 17327\n",
      "Distinct control clients with activity: 14174\n"
     ]
    }
   ],
   "source": [
    "kpis_control = kpis_from_processes(control)                        # KPIs\n",
    "dropoff_control = step_dropoff_table(control)\n",
    "\n",
    "display(control[['client_id', 'visitor_id', 'visit_id','reached_start','reached_step_1', 'reached_step_2', 'reached_step_3', 'reached_confirm','completed']].head(5))\n",
    "display(control[['client_id', 'visitor_id', 'visit_id','t_start_step1', 't_step1_step2', 't_step2_step3','t_step3_conf', 't_total', 'n_back_jumps', 'outcome']].head(5))\n",
    "# display(control.head(5))\n",
    "display(kpis_control[['n_processes', 'started', 'step1_rate_%', 'step2_rate_%','step3_rate_%', 'completion_rate_%', 'successful_%', 'completed_with_errors_%', 'fail%']])\n",
    "display(kpis_control[['t_total_avg_min','t_step1_avg_min', 't_step2_avg_min', 't_step3_avg_min','t_conf_avg_min', 'n_back_jumps', 'avg_back_jumps']])\n",
    "# display(kpis_control)\n",
    "display(dropoff_control)\n",
    "\n",
    "print(\"Valid processes:\", len(control))\n",
    "\n",
    "# Count distinct control clients represented in web data\n",
    "print(\"Distinct control clients with activity:\", control['client_id'].nunique())"
   ]
  },
  {
   "cell_type": "code",
   "execution_count": 9,
   "id": "7e76c8c8",
   "metadata": {},
   "outputs": [
    {
     "data": {
      "text/html": [
       "<div>\n",
       "<style scoped>\n",
       "    .dataframe tbody tr th:only-of-type {\n",
       "        vertical-align: middle;\n",
       "    }\n",
       "\n",
       "    .dataframe tbody tr th {\n",
       "        vertical-align: top;\n",
       "    }\n",
       "\n",
       "    .dataframe thead th {\n",
       "        text-align: right;\n",
       "    }\n",
       "</style>\n",
       "<table border=\"1\" class=\"dataframe\">\n",
       "  <thead>\n",
       "    <tr style=\"text-align: right;\">\n",
       "      <th></th>\n",
       "      <th>client_id</th>\n",
       "      <th>visitor_id</th>\n",
       "      <th>visit_id</th>\n",
       "      <th>reached_start</th>\n",
       "      <th>reached_step_1</th>\n",
       "      <th>reached_step_2</th>\n",
       "      <th>reached_step_3</th>\n",
       "      <th>reached_confirm</th>\n",
       "      <th>completed</th>\n",
       "    </tr>\n",
       "  </thead>\n",
       "  <tbody>\n",
       "    <tr>\n",
       "      <th>0</th>\n",
       "      <td>555</td>\n",
       "      <td>402506806_56087378777</td>\n",
       "      <td>637149525_38041617439_716659</td>\n",
       "      <td>1</td>\n",
       "      <td>1</td>\n",
       "      <td>1</td>\n",
       "      <td>1</td>\n",
       "      <td>1</td>\n",
       "      <td>1</td>\n",
       "    </tr>\n",
       "    <tr>\n",
       "      <th>1</th>\n",
       "      <td>647</td>\n",
       "      <td>66758770_53988066587</td>\n",
       "      <td>40369564_40101682850_311847</td>\n",
       "      <td>1</td>\n",
       "      <td>1</td>\n",
       "      <td>1</td>\n",
       "      <td>1</td>\n",
       "      <td>1</td>\n",
       "      <td>1</td>\n",
       "    </tr>\n",
       "    <tr>\n",
       "      <th>2</th>\n",
       "      <td>934</td>\n",
       "      <td>810392784_45004760546</td>\n",
       "      <td>7076463_57954418406_971348</td>\n",
       "      <td>1</td>\n",
       "      <td>0</td>\n",
       "      <td>0</td>\n",
       "      <td>0</td>\n",
       "      <td>0</td>\n",
       "      <td>0</td>\n",
       "    </tr>\n",
       "    <tr>\n",
       "      <th>3</th>\n",
       "      <td>1516</td>\n",
       "      <td>182314299_63168583136</td>\n",
       "      <td>481123290_95510977345_707323</td>\n",
       "      <td>1</td>\n",
       "      <td>1</td>\n",
       "      <td>1</td>\n",
       "      <td>0</td>\n",
       "      <td>0</td>\n",
       "      <td>0</td>\n",
       "    </tr>\n",
       "    <tr>\n",
       "      <th>4</th>\n",
       "      <td>1643</td>\n",
       "      <td>910842861_51062379179</td>\n",
       "      <td>379946188_1773022140_107963</td>\n",
       "      <td>1</td>\n",
       "      <td>0</td>\n",
       "      <td>0</td>\n",
       "      <td>0</td>\n",
       "      <td>0</td>\n",
       "      <td>0</td>\n",
       "    </tr>\n",
       "  </tbody>\n",
       "</table>\n",
       "</div>"
      ],
      "text/plain": [
       "   client_id             visitor_id                      visit_id  \\\n",
       "0        555  402506806_56087378777  637149525_38041617439_716659   \n",
       "1        647   66758770_53988066587   40369564_40101682850_311847   \n",
       "2        934  810392784_45004760546    7076463_57954418406_971348   \n",
       "3       1516  182314299_63168583136  481123290_95510977345_707323   \n",
       "4       1643  910842861_51062379179   379946188_1773022140_107963   \n",
       "\n",
       "   reached_start  reached_step_1  reached_step_2  reached_step_3  \\\n",
       "0              1               1               1               1   \n",
       "1              1               1               1               1   \n",
       "2              1               0               0               0   \n",
       "3              1               1               1               0   \n",
       "4              1               0               0               0   \n",
       "\n",
       "   reached_confirm  completed  \n",
       "0                1          1  \n",
       "1                1          1  \n",
       "2                0          0  \n",
       "3                0          0  \n",
       "4                0          0  "
      ]
     },
     "metadata": {},
     "output_type": "display_data"
    },
    {
     "data": {
      "text/html": [
       "<div>\n",
       "<style scoped>\n",
       "    .dataframe tbody tr th:only-of-type {\n",
       "        vertical-align: middle;\n",
       "    }\n",
       "\n",
       "    .dataframe tbody tr th {\n",
       "        vertical-align: top;\n",
       "    }\n",
       "\n",
       "    .dataframe thead th {\n",
       "        text-align: right;\n",
       "    }\n",
       "</style>\n",
       "<table border=\"1\" class=\"dataframe\">\n",
       "  <thead>\n",
       "    <tr style=\"text-align: right;\">\n",
       "      <th></th>\n",
       "      <th>client_id</th>\n",
       "      <th>visitor_id</th>\n",
       "      <th>visit_id</th>\n",
       "      <th>t_start_step1</th>\n",
       "      <th>t_step1_step2</th>\n",
       "      <th>t_step2_step3</th>\n",
       "      <th>t_step3_conf</th>\n",
       "      <th>t_total</th>\n",
       "      <th>n_back_jumps</th>\n",
       "      <th>outcome</th>\n",
       "    </tr>\n",
       "  </thead>\n",
       "  <tbody>\n",
       "    <tr>\n",
       "      <th>0</th>\n",
       "      <td>555</td>\n",
       "      <td>402506806_56087378777</td>\n",
       "      <td>637149525_38041617439_716659</td>\n",
       "      <td>0.116667</td>\n",
       "      <td>0.533333</td>\n",
       "      <td>1.65</td>\n",
       "      <td>0.333333</td>\n",
       "      <td>2.633333</td>\n",
       "      <td>0</td>\n",
       "      <td>successful</td>\n",
       "    </tr>\n",
       "    <tr>\n",
       "      <th>1</th>\n",
       "      <td>647</td>\n",
       "      <td>66758770_53988066587</td>\n",
       "      <td>40369564_40101682850_311847</td>\n",
       "      <td>0.116667</td>\n",
       "      <td>0.300000</td>\n",
       "      <td>3.15</td>\n",
       "      <td>2.716667</td>\n",
       "      <td>6.283333</td>\n",
       "      <td>0</td>\n",
       "      <td>successful</td>\n",
       "    </tr>\n",
       "    <tr>\n",
       "      <th>2</th>\n",
       "      <td>934</td>\n",
       "      <td>810392784_45004760546</td>\n",
       "      <td>7076463_57954418406_971348</td>\n",
       "      <td>NaN</td>\n",
       "      <td>NaN</td>\n",
       "      <td>NaN</td>\n",
       "      <td>NaN</td>\n",
       "      <td>NaN</td>\n",
       "      <td>0</td>\n",
       "      <td>fail</td>\n",
       "    </tr>\n",
       "    <tr>\n",
       "      <th>3</th>\n",
       "      <td>1516</td>\n",
       "      <td>182314299_63168583136</td>\n",
       "      <td>481123290_95510977345_707323</td>\n",
       "      <td>4.083333</td>\n",
       "      <td>NaN</td>\n",
       "      <td>NaN</td>\n",
       "      <td>NaN</td>\n",
       "      <td>NaN</td>\n",
       "      <td>3</td>\n",
       "      <td>fail</td>\n",
       "    </tr>\n",
       "    <tr>\n",
       "      <th>4</th>\n",
       "      <td>1643</td>\n",
       "      <td>910842861_51062379179</td>\n",
       "      <td>379946188_1773022140_107963</td>\n",
       "      <td>NaN</td>\n",
       "      <td>NaN</td>\n",
       "      <td>NaN</td>\n",
       "      <td>NaN</td>\n",
       "      <td>NaN</td>\n",
       "      <td>0</td>\n",
       "      <td>fail</td>\n",
       "    </tr>\n",
       "  </tbody>\n",
       "</table>\n",
       "</div>"
      ],
      "text/plain": [
       "   client_id             visitor_id                      visit_id  \\\n",
       "0        555  402506806_56087378777  637149525_38041617439_716659   \n",
       "1        647   66758770_53988066587   40369564_40101682850_311847   \n",
       "2        934  810392784_45004760546    7076463_57954418406_971348   \n",
       "3       1516  182314299_63168583136  481123290_95510977345_707323   \n",
       "4       1643  910842861_51062379179   379946188_1773022140_107963   \n",
       "\n",
       "   t_start_step1  t_step1_step2  t_step2_step3  t_step3_conf   t_total  \\\n",
       "0       0.116667       0.533333           1.65      0.333333  2.633333   \n",
       "1       0.116667       0.300000           3.15      2.716667  6.283333   \n",
       "2            NaN            NaN            NaN           NaN       NaN   \n",
       "3       4.083333            NaN            NaN           NaN       NaN   \n",
       "4            NaN            NaN            NaN           NaN       NaN   \n",
       "\n",
       "   n_back_jumps     outcome  \n",
       "0             0  successful  \n",
       "1             0  successful  \n",
       "2             0        fail  \n",
       "3             3        fail  \n",
       "4             0        fail  "
      ]
     },
     "metadata": {},
     "output_type": "display_data"
    },
    {
     "data": {
      "text/html": [
       "<div>\n",
       "<style scoped>\n",
       "    .dataframe tbody tr th:only-of-type {\n",
       "        vertical-align: middle;\n",
       "    }\n",
       "\n",
       "    .dataframe tbody tr th {\n",
       "        vertical-align: top;\n",
       "    }\n",
       "\n",
       "    .dataframe thead th {\n",
       "        text-align: right;\n",
       "    }\n",
       "</style>\n",
       "<table border=\"1\" class=\"dataframe\">\n",
       "  <thead>\n",
       "    <tr style=\"text-align: right;\">\n",
       "      <th></th>\n",
       "      <th>n_processes</th>\n",
       "      <th>started</th>\n",
       "      <th>step1_rate_%</th>\n",
       "      <th>step2_rate_%</th>\n",
       "      <th>step3_rate_%</th>\n",
       "      <th>completion_rate_%</th>\n",
       "      <th>successful_%</th>\n",
       "      <th>completed_with_errors_%</th>\n",
       "      <th>fail%</th>\n",
       "    </tr>\n",
       "  </thead>\n",
       "  <tbody>\n",
       "    <tr>\n",
       "      <th>0</th>\n",
       "      <td>22213</td>\n",
       "      <td>22213</td>\n",
       "      <td>83.595192</td>\n",
       "      <td>70.791879</td>\n",
       "      <td>63.251249</td>\n",
       "      <td>53.558727</td>\n",
       "      <td>43.861703</td>\n",
       "      <td>9.697024</td>\n",
       "      <td>46.441273</td>\n",
       "    </tr>\n",
       "  </tbody>\n",
       "</table>\n",
       "</div>"
      ],
      "text/plain": [
       "   n_processes  started  step1_rate_%  step2_rate_%  step3_rate_%  \\\n",
       "0        22213    22213     83.595192     70.791879     63.251249   \n",
       "\n",
       "   completion_rate_%  successful_%  completed_with_errors_%      fail%  \n",
       "0          53.558727     43.861703                 9.697024  46.441273  "
      ]
     },
     "metadata": {},
     "output_type": "display_data"
    },
    {
     "data": {
      "text/html": [
       "<div>\n",
       "<style scoped>\n",
       "    .dataframe tbody tr th:only-of-type {\n",
       "        vertical-align: middle;\n",
       "    }\n",
       "\n",
       "    .dataframe tbody tr th {\n",
       "        vertical-align: top;\n",
       "    }\n",
       "\n",
       "    .dataframe thead th {\n",
       "        text-align: right;\n",
       "    }\n",
       "</style>\n",
       "<table border=\"1\" class=\"dataframe\">\n",
       "  <thead>\n",
       "    <tr style=\"text-align: right;\">\n",
       "      <th></th>\n",
       "      <th>t_total_avg_min</th>\n",
       "      <th>t_step1_avg_min</th>\n",
       "      <th>t_step2_avg_min</th>\n",
       "      <th>t_step3_avg_min</th>\n",
       "      <th>t_conf_avg_min</th>\n",
       "      <th>n_back_jumps</th>\n",
       "      <th>avg_back_jumps</th>\n",
       "    </tr>\n",
       "  </thead>\n",
       "  <tbody>\n",
       "    <tr>\n",
       "      <th>0</th>\n",
       "      <td>4.349371</td>\n",
       "      <td>1.1773</td>\n",
       "      <td>0.542394</td>\n",
       "      <td>1.327059</td>\n",
       "      <td>1.460345</td>\n",
       "      <td>7475</td>\n",
       "      <td>0.336515</td>\n",
       "    </tr>\n",
       "  </tbody>\n",
       "</table>\n",
       "</div>"
      ],
      "text/plain": [
       "   t_total_avg_min  t_step1_avg_min  t_step2_avg_min  t_step3_avg_min  \\\n",
       "0         4.349371           1.1773         0.542394         1.327059   \n",
       "\n",
       "   t_conf_avg_min  n_back_jumps  avg_back_jumps  \n",
       "0        1.460345          7475        0.336515  "
      ]
     },
     "metadata": {},
     "output_type": "display_data"
    },
    {
     "data": {
      "text/html": [
       "<div>\n",
       "<style scoped>\n",
       "    .dataframe tbody tr th:only-of-type {\n",
       "        vertical-align: middle;\n",
       "    }\n",
       "\n",
       "    .dataframe tbody tr th {\n",
       "        vertical-align: top;\n",
       "    }\n",
       "\n",
       "    .dataframe thead th {\n",
       "        text-align: right;\n",
       "    }\n",
       "</style>\n",
       "<table border=\"1\" class=\"dataframe\">\n",
       "  <thead>\n",
       "    <tr style=\"text-align: right;\">\n",
       "      <th></th>\n",
       "      <th>from_to</th>\n",
       "      <th>n_from</th>\n",
       "      <th>n_to</th>\n",
       "      <th>conv_rate_%</th>\n",
       "      <th>dropoff_%</th>\n",
       "    </tr>\n",
       "  </thead>\n",
       "  <tbody>\n",
       "    <tr>\n",
       "      <th>0</th>\n",
       "      <td>start→step_1</td>\n",
       "      <td>22213</td>\n",
       "      <td>18569</td>\n",
       "      <td>83.595192</td>\n",
       "      <td>16.404808</td>\n",
       "    </tr>\n",
       "    <tr>\n",
       "      <th>1</th>\n",
       "      <td>step_1→step_2</td>\n",
       "      <td>18569</td>\n",
       "      <td>15725</td>\n",
       "      <td>84.684151</td>\n",
       "      <td>15.315849</td>\n",
       "    </tr>\n",
       "    <tr>\n",
       "      <th>2</th>\n",
       "      <td>step_2→step_3</td>\n",
       "      <td>15725</td>\n",
       "      <td>14050</td>\n",
       "      <td>89.348172</td>\n",
       "      <td>10.651828</td>\n",
       "    </tr>\n",
       "    <tr>\n",
       "      <th>3</th>\n",
       "      <td>step_3→confirm</td>\n",
       "      <td>14050</td>\n",
       "      <td>11897</td>\n",
       "      <td>84.676157</td>\n",
       "      <td>15.323843</td>\n",
       "    </tr>\n",
       "  </tbody>\n",
       "</table>\n",
       "</div>"
      ],
      "text/plain": [
       "          from_to  n_from   n_to  conv_rate_%  dropoff_%\n",
       "0    start→step_1   22213  18569    83.595192  16.404808\n",
       "1   step_1→step_2   18569  15725    84.684151  15.315849\n",
       "2   step_2→step_3   15725  14050    89.348172  10.651828\n",
       "3  step_3→confirm   14050  11897    84.676157  15.323843"
      ]
     },
     "metadata": {},
     "output_type": "display_data"
    },
    {
     "name": "stdout",
     "output_type": "stream",
     "text": [
      "Valid processes: 22213\n",
      "Distinct control clients with activity: 19095\n"
     ]
    }
   ],
   "source": [
    "kpis_test = kpis_from_processes(test)                        # KPIs\n",
    "dropoff_test = step_dropoff_table(test)\n",
    "\n",
    "display(test[['client_id', 'visitor_id', 'visit_id','reached_start','reached_step_1', 'reached_step_2', 'reached_step_3', 'reached_confirm','completed']].head(5))\n",
    "display(test[['client_id', 'visitor_id', 'visit_id','t_start_step1', 't_step1_step2', 't_step2_step3','t_step3_conf', 't_total', 'n_back_jumps', 'outcome']].head(5))\n",
    "# display(test.head(5))\n",
    "display(kpis_test[['n_processes', 'started', 'step1_rate_%', 'step2_rate_%','step3_rate_%', 'completion_rate_%', 'successful_%', 'completed_with_errors_%', 'fail%']])\n",
    "display(kpis_test[['t_total_avg_min', 't_step1_avg_min', 't_step2_avg_min', 't_step3_avg_min','t_conf_avg_min', 'n_back_jumps', 'avg_back_jumps']])\n",
    "# display(kpis_test)\n",
    "display(dropoff_test)\n",
    "\n",
    "print(\"Valid processes:\", len(test))\n",
    "\n",
    "# Count distinct control clients represented in web data\n",
    "print(\"Distinct control clients with activity:\", test['client_id'].nunique())"
   ]
  },
  {
   "cell_type": "markdown",
   "id": "b284954c",
   "metadata": {},
   "source": [
    "**1) Build the aggregates we need to test (checked with values in kpis_test and dropoff_test)**"
   ]
  },
  {
   "cell_type": "code",
   "execution_count": 10,
   "id": "a9f608ac",
   "metadata": {},
   "outputs": [
    {
     "name": "stdout",
     "output_type": "stream",
     "text": [
      "Control: 7436/17327 = 42.9157%\n",
      "Test   : 11897/22213 = 53.5587%\n",
      "Diff (test - control): 10.6430%\n"
     ]
    }
   ],
   "source": [
    "# --- CONTROL group counts ---\n",
    "n_c = int(control['reached_start'].sum())   # total \"trials\": how many control processes actually started the funnel\n",
    "x_c = int(control['completed'].sum())       # total \"successes\": how many control processes reached 'confirm'\n",
    "\n",
    "# --- TEST group counts ---\n",
    "n_t = int(test['reached_start'].sum())   # total \"trials\": how many test processes started the funnel\n",
    "x_t = int(test['completed'].sum())       # total \"successes\": how many test processes completed\n",
    "\n",
    "# --- Proportions (completion rates) with safe division (NaN if no starters) ---\n",
    "p_c = 100*(x_c / n_c) if n_c else np.nan    # control completion rate = completed / started\n",
    "p_t = 100*(x_t / n_t) if n_t else np.nan    # test completion rate    = completed / started\n",
    "\n",
    "# --- Quick summary printout ---\n",
    "print(f\"Control: {x_c}/{n_c} = {p_c:.4f}%\")\n",
    "print(f\"Test   : {x_t}/{n_t} = {p_t:.4f}%\")\n",
    "print(f\"Diff (test - control): {p_t - p_c:.4f}%\") # difference in completion rates (percentage points in decimal form)\n",
    "\n",
    "alpha = 0.05"
   ]
  },
  {
   "cell_type": "markdown",
   "id": "d56f64ce",
   "metadata": {},
   "source": [
    "**2) Generic two-proportion Z-test (one-sided) | Helpers to compute test statistics**"
   ]
  },
  {
   "cell_type": "code",
   "execution_count": 11,
   "id": "95f8c25d",
   "metadata": {},
   "outputs": [
    {
     "data": {
      "text/plain": [
       "{'z_stat': 11.137729953054288,\n",
       " 'p_value': 4.109377226772415e-29,\n",
       " 'p_test': 0.5355872687165174,\n",
       " 'p_control': 0.4291568072949732,\n",
       " 'diff': 0.10643046142154422,\n",
       " 'null_diff': 0.05,\n",
       " 'ci_test': (0.5290230717273287, 0.542139159093394),\n",
       " 'ci_control': (0.42180355901064576, 0.43654146100276475),\n",
       " 'n_test': 22213,\n",
       " 'x_test': 11897,\n",
       " 'n_control': 17327,\n",
       " 'x_control': 7436,\n",
       " 'alternative': 'larger'}"
      ]
     },
     "execution_count": 11,
     "metadata": {},
     "output_type": "execute_result"
    }
   ],
   "source": [
    "res_comp = two_proportion_ztest(x1=x_t, n1=n_t, x2=x_c, n2=n_c, alternative='larger', diff0=0.05, alpha=alpha)\n",
    "res_comp"
   ]
  },
  {
   "cell_type": "markdown",
   "id": "4ad88347",
   "metadata": {},
   "source": [
    "**3) Completion rate ≥5 percentage-point threshold — H₀: p_test − p_ctrl ≤ 0.05 (one-sided “greater”)**"
   ]
  },
  {
   "cell_type": "code",
   "execution_count": 12,
   "id": "8f1f03f6",
   "metadata": {},
   "outputs": [
    {
     "data": {
      "application/vnd.plotly.v1+json": {
       "config": {
        "plotlyServerURL": "https://plot.ly"
       },
       "data": [
        {
         "hovertemplate": "x=%{x}<br>pdf=%{y}<extra></extra>",
         "legendgroup": "",
         "line": {
          "color": "#636efa",
          "dash": "solid"
         },
         "marker": {
          "symbol": "circle"
         },
         "mode": "lines",
         "name": "",
         "orientation": "v",
         "showlegend": false,
         "type": "scatter",
         "x": {
          "bdata": "AAAAAAAACMDByyl4OQUHwIOXU/ByCgbARGN9aKwPBcAFL6fg5RQEwMb60FgfGgPAiMb60FgfAsBJkiRJkiQBwApeTsHLKQDAmFPwcgpe/r8a60NjfWj8v52Cl1Pwcvq/IBrrQ2N9+L+isT401of2vyVJkiRJkvS/p+DlFLyc8r8qeDkFL6fwv1gfGutDY+2/YE7Byyl46b9kfWisD43lv2isD431oeG/4LZt27Zt27/oFLycgpfTv+DlFLycgse/AIjG+tBYr7/Ah8b60FivP+DlFLycgsc/6BS8nIKX0z/Ytm3btm3bP2isD431oeE/ZH1orA+N5T9cTsHLKXjpP1gfGutDY+0/KHg5BS+n8D+o4OUUvJzyPyRJkiRJkvQ/oLE+NNaH9j8gGutDY334P5yCl1Pwcvo/GOtDY31o/D+YU/ByCl7+PwpeTsHLKQBASJIkSZIkAUCIxvrQWB8CQMb60FgfGgNABC+n4OUUBEBEY31orA8FQIKXU/ByCgZAwMspeDkFB0AAAAAAAAAIQA==",
          "dtype": "f8"
         },
         "xaxis": "x",
         "y": {
          "bdata": "iXbXPyEncj+xgjWL3gN6P6cekpooXYI/RsgNWkOKiT+eZ2Fk+H6RP6xlcNs4nZc/nj4MrsBlnz/6oyE+/o+kP64knHtCiKo/43eUSeXcsD+wZXTQox21P7QjdHA8DLo/xWUOi1Knvz9nCVoDW/LCP89ckDMVWMY/X71Bd1/1yT/XBPAzcrXNP770dA9Yv9A/QNUmS8qZ0j/gHMV4CFrUP0WvVP2i79U/jzZlP71K1z+GGvsQE13YP1RMqP3wGtk/kbRUCQh82T+StFQJCHzZP1RMqP3wGtk/hhr7EBNd2D+RNmU/vUrXP0WvVP2i79U/4BzFeAha1D9C1SZLypnSP770dA9Yv9A/2gTwM3K1zT9evUF3X/XJP9FckDMVWMY/awlaA1vywj/FZQ6LUqe/P7cjdHA8DLo/tGV00KMdtT/jd5RJ5dywP64knHtCiKo//6MhPv6PpD+ePgyuwGWfP6xlcNs4nZc/pWdhZPh+kT9GyA1aQ4qJP64ekpooXYI/t4I1i94Dej+Jdtc/ISdyPw==",
          "dtype": "f8"
         },
         "yaxis": "y"
        },
        {
         "fill": "tozeroy",
         "fillcolor": "red",
         "mode": "none",
         "type": "scatter",
         "x": {
          "bdata": "u2pnCVJR+j/2FGCBmcL6PzG/WPngM/s/bGlRcSil+z+mE0rpbxb8P+G9QmG3h/w/HGg72f74/D9XEjRRRmr9P5K8LMmN2/0/zWYlQdVM/j8IER65HL7+P0K7FjFkL/8/fmUPqaug/z/cB4SQ+QgAQPpcgEydQQBAF7J8CEF6AEA0B3nE5LIAQFJcdYCI6wBAb7FxPCwkAUCNBm74z1wBQKpbarRzlQFAyLBmcBfOAUDlBWMsuwYCQAJbX+hePwJAILBbpAJ4AkA+BVhgprACQFtaVBxK6QJAeK9Q2O0hA0CWBE2UkVoDQLNZSVA1kwNA0K5FDNnLA0DuA0LIfAQEQAxZPoQgPQRAKa46QMR1BEBGAzf8Z64EQGRYM7gL5wRAga0vdK8fBUCeAiwwU1gFQLxXKOz2kAVA2qwkqJrJBUD3ASFkPgIGQBRXHSDiOgZAMqwZ3IVzBkBQARaYKawGQGxWElTN5AZAiqsOEHEdB0CoAAvMFFYHQMVVB4i4jgdA4qoDRFzHB0AAAAAAAAAIQA==",
          "dtype": "f8"
         },
         "y": {
          "bdata": "Qdh26hhnuj8ZpXVNCzi5P4bQeDDdEbg/3PRVm5f0tj8qObIPPuC1P4iryMfO1LQ/4wdO90LSsz/CGQ4Oj9iyP09U4fui57E/pR6cdWr/sD+Topw6zR+wPyU6P7Veka4/+m0R9+LzrD8zf5494marP2doicwR6qk/wo/eryF9qD/oHG9BvR+nP+j7WquL0aU/uDxcZzCSpD+I3HC6S2GjP2toiix7PqI/lDn1+1kpoT8JPjOMgSGgP9mDIKATTZ4/9+R+XRNwnD9/mLbHLquaP3+RVLSR/Zg/2MImAmhmlz9cqWs53uSVP3D/PiEieJQ/YRpJSmMfkz+/UsSO09mRPwS4+IenppA/Kk608i0Kjz/jU/9iuuiMPxOSacJy54o/xmDc0d0EiT+MeuU5iz+HPxN1IQEUloU/sI558RoHhD+xTPnsTJGCPyYXCDNhM4E/K9uxLTPYfz9uKs1PhXR9P+OmqppnOXs/6f8oqp4keT85JTTvBDR3PxzHIaKKZXU/CXufoTW3cz+Jdtc/ISdyPw==",
          "dtype": "f8"
         }
        }
       ],
       "layout": {
        "annotations": [
         {
          "text": "Critical value  1.64",
          "x": 1.6448536269514722,
          "xref": "x",
          "y": 0,
          "yanchor": "bottom",
          "yref": "paper"
         },
         {
          "text": "Statistic  11.14",
          "x": 11.137729953054288,
          "xref": "x",
          "y": 0,
          "yanchor": "bottom",
          "yref": "paper"
         }
        ],
        "legend": {
         "tracegroupgap": 0
        },
        "shapes": [
         {
          "line": {
           "color": "red"
          },
          "type": "line",
          "x0": 1.6448536269514722,
          "x1": 1.6448536269514722,
          "xref": "x",
          "y0": 0,
          "y1": 1,
          "yref": "y domain"
         },
         {
          "type": "line",
          "x0": 11.137729953054288,
          "x1": 11.137729953054288,
          "xref": "x",
          "y0": 0,
          "y1": 1,
          "yref": "y domain"
         }
        ],
        "showlegend": false,
        "template": {
         "data": {
          "bar": [
           {
            "error_x": {
             "color": "#2a3f5f"
            },
            "error_y": {
             "color": "#2a3f5f"
            },
            "marker": {
             "line": {
              "color": "#E5ECF6",
              "width": 0.5
             },
             "pattern": {
              "fillmode": "overlay",
              "size": 10,
              "solidity": 0.2
             }
            },
            "type": "bar"
           }
          ],
          "barpolar": [
           {
            "marker": {
             "line": {
              "color": "#E5ECF6",
              "width": 0.5
             },
             "pattern": {
              "fillmode": "overlay",
              "size": 10,
              "solidity": 0.2
             }
            },
            "type": "barpolar"
           }
          ],
          "carpet": [
           {
            "aaxis": {
             "endlinecolor": "#2a3f5f",
             "gridcolor": "white",
             "linecolor": "white",
             "minorgridcolor": "white",
             "startlinecolor": "#2a3f5f"
            },
            "baxis": {
             "endlinecolor": "#2a3f5f",
             "gridcolor": "white",
             "linecolor": "white",
             "minorgridcolor": "white",
             "startlinecolor": "#2a3f5f"
            },
            "type": "carpet"
           }
          ],
          "choropleth": [
           {
            "colorbar": {
             "outlinewidth": 0,
             "ticks": ""
            },
            "type": "choropleth"
           }
          ],
          "contour": [
           {
            "colorbar": {
             "outlinewidth": 0,
             "ticks": ""
            },
            "colorscale": [
             [
              0,
              "#0d0887"
             ],
             [
              0.1111111111111111,
              "#46039f"
             ],
             [
              0.2222222222222222,
              "#7201a8"
             ],
             [
              0.3333333333333333,
              "#9c179e"
             ],
             [
              0.4444444444444444,
              "#bd3786"
             ],
             [
              0.5555555555555556,
              "#d8576b"
             ],
             [
              0.6666666666666666,
              "#ed7953"
             ],
             [
              0.7777777777777778,
              "#fb9f3a"
             ],
             [
              0.8888888888888888,
              "#fdca26"
             ],
             [
              1,
              "#f0f921"
             ]
            ],
            "type": "contour"
           }
          ],
          "contourcarpet": [
           {
            "colorbar": {
             "outlinewidth": 0,
             "ticks": ""
            },
            "type": "contourcarpet"
           }
          ],
          "heatmap": [
           {
            "colorbar": {
             "outlinewidth": 0,
             "ticks": ""
            },
            "colorscale": [
             [
              0,
              "#0d0887"
             ],
             [
              0.1111111111111111,
              "#46039f"
             ],
             [
              0.2222222222222222,
              "#7201a8"
             ],
             [
              0.3333333333333333,
              "#9c179e"
             ],
             [
              0.4444444444444444,
              "#bd3786"
             ],
             [
              0.5555555555555556,
              "#d8576b"
             ],
             [
              0.6666666666666666,
              "#ed7953"
             ],
             [
              0.7777777777777778,
              "#fb9f3a"
             ],
             [
              0.8888888888888888,
              "#fdca26"
             ],
             [
              1,
              "#f0f921"
             ]
            ],
            "type": "heatmap"
           }
          ],
          "histogram": [
           {
            "marker": {
             "pattern": {
              "fillmode": "overlay",
              "size": 10,
              "solidity": 0.2
             }
            },
            "type": "histogram"
           }
          ],
          "histogram2d": [
           {
            "colorbar": {
             "outlinewidth": 0,
             "ticks": ""
            },
            "colorscale": [
             [
              0,
              "#0d0887"
             ],
             [
              0.1111111111111111,
              "#46039f"
             ],
             [
              0.2222222222222222,
              "#7201a8"
             ],
             [
              0.3333333333333333,
              "#9c179e"
             ],
             [
              0.4444444444444444,
              "#bd3786"
             ],
             [
              0.5555555555555556,
              "#d8576b"
             ],
             [
              0.6666666666666666,
              "#ed7953"
             ],
             [
              0.7777777777777778,
              "#fb9f3a"
             ],
             [
              0.8888888888888888,
              "#fdca26"
             ],
             [
              1,
              "#f0f921"
             ]
            ],
            "type": "histogram2d"
           }
          ],
          "histogram2dcontour": [
           {
            "colorbar": {
             "outlinewidth": 0,
             "ticks": ""
            },
            "colorscale": [
             [
              0,
              "#0d0887"
             ],
             [
              0.1111111111111111,
              "#46039f"
             ],
             [
              0.2222222222222222,
              "#7201a8"
             ],
             [
              0.3333333333333333,
              "#9c179e"
             ],
             [
              0.4444444444444444,
              "#bd3786"
             ],
             [
              0.5555555555555556,
              "#d8576b"
             ],
             [
              0.6666666666666666,
              "#ed7953"
             ],
             [
              0.7777777777777778,
              "#fb9f3a"
             ],
             [
              0.8888888888888888,
              "#fdca26"
             ],
             [
              1,
              "#f0f921"
             ]
            ],
            "type": "histogram2dcontour"
           }
          ],
          "mesh3d": [
           {
            "colorbar": {
             "outlinewidth": 0,
             "ticks": ""
            },
            "type": "mesh3d"
           }
          ],
          "parcoords": [
           {
            "line": {
             "colorbar": {
              "outlinewidth": 0,
              "ticks": ""
             }
            },
            "type": "parcoords"
           }
          ],
          "pie": [
           {
            "automargin": true,
            "type": "pie"
           }
          ],
          "scatter": [
           {
            "fillpattern": {
             "fillmode": "overlay",
             "size": 10,
             "solidity": 0.2
            },
            "type": "scatter"
           }
          ],
          "scatter3d": [
           {
            "line": {
             "colorbar": {
              "outlinewidth": 0,
              "ticks": ""
             }
            },
            "marker": {
             "colorbar": {
              "outlinewidth": 0,
              "ticks": ""
             }
            },
            "type": "scatter3d"
           }
          ],
          "scattercarpet": [
           {
            "marker": {
             "colorbar": {
              "outlinewidth": 0,
              "ticks": ""
             }
            },
            "type": "scattercarpet"
           }
          ],
          "scattergeo": [
           {
            "marker": {
             "colorbar": {
              "outlinewidth": 0,
              "ticks": ""
             }
            },
            "type": "scattergeo"
           }
          ],
          "scattergl": [
           {
            "marker": {
             "colorbar": {
              "outlinewidth": 0,
              "ticks": ""
             }
            },
            "type": "scattergl"
           }
          ],
          "scattermap": [
           {
            "marker": {
             "colorbar": {
              "outlinewidth": 0,
              "ticks": ""
             }
            },
            "type": "scattermap"
           }
          ],
          "scattermapbox": [
           {
            "marker": {
             "colorbar": {
              "outlinewidth": 0,
              "ticks": ""
             }
            },
            "type": "scattermapbox"
           }
          ],
          "scatterpolar": [
           {
            "marker": {
             "colorbar": {
              "outlinewidth": 0,
              "ticks": ""
             }
            },
            "type": "scatterpolar"
           }
          ],
          "scatterpolargl": [
           {
            "marker": {
             "colorbar": {
              "outlinewidth": 0,
              "ticks": ""
             }
            },
            "type": "scatterpolargl"
           }
          ],
          "scatterternary": [
           {
            "marker": {
             "colorbar": {
              "outlinewidth": 0,
              "ticks": ""
             }
            },
            "type": "scatterternary"
           }
          ],
          "surface": [
           {
            "colorbar": {
             "outlinewidth": 0,
             "ticks": ""
            },
            "colorscale": [
             [
              0,
              "#0d0887"
             ],
             [
              0.1111111111111111,
              "#46039f"
             ],
             [
              0.2222222222222222,
              "#7201a8"
             ],
             [
              0.3333333333333333,
              "#9c179e"
             ],
             [
              0.4444444444444444,
              "#bd3786"
             ],
             [
              0.5555555555555556,
              "#d8576b"
             ],
             [
              0.6666666666666666,
              "#ed7953"
             ],
             [
              0.7777777777777778,
              "#fb9f3a"
             ],
             [
              0.8888888888888888,
              "#fdca26"
             ],
             [
              1,
              "#f0f921"
             ]
            ],
            "type": "surface"
           }
          ],
          "table": [
           {
            "cells": {
             "fill": {
              "color": "#EBF0F8"
             },
             "line": {
              "color": "white"
             }
            },
            "header": {
             "fill": {
              "color": "#C8D4E3"
             },
             "line": {
              "color": "white"
             }
            },
            "type": "table"
           }
          ]
         },
         "layout": {
          "annotationdefaults": {
           "arrowcolor": "#2a3f5f",
           "arrowhead": 0,
           "arrowwidth": 1
          },
          "autotypenumbers": "strict",
          "coloraxis": {
           "colorbar": {
            "outlinewidth": 0,
            "ticks": ""
           }
          },
          "colorscale": {
           "diverging": [
            [
             0,
             "#8e0152"
            ],
            [
             0.1,
             "#c51b7d"
            ],
            [
             0.2,
             "#de77ae"
            ],
            [
             0.3,
             "#f1b6da"
            ],
            [
             0.4,
             "#fde0ef"
            ],
            [
             0.5,
             "#f7f7f7"
            ],
            [
             0.6,
             "#e6f5d0"
            ],
            [
             0.7,
             "#b8e186"
            ],
            [
             0.8,
             "#7fbc41"
            ],
            [
             0.9,
             "#4d9221"
            ],
            [
             1,
             "#276419"
            ]
           ],
           "sequential": [
            [
             0,
             "#0d0887"
            ],
            [
             0.1111111111111111,
             "#46039f"
            ],
            [
             0.2222222222222222,
             "#7201a8"
            ],
            [
             0.3333333333333333,
             "#9c179e"
            ],
            [
             0.4444444444444444,
             "#bd3786"
            ],
            [
             0.5555555555555556,
             "#d8576b"
            ],
            [
             0.6666666666666666,
             "#ed7953"
            ],
            [
             0.7777777777777778,
             "#fb9f3a"
            ],
            [
             0.8888888888888888,
             "#fdca26"
            ],
            [
             1,
             "#f0f921"
            ]
           ],
           "sequentialminus": [
            [
             0,
             "#0d0887"
            ],
            [
             0.1111111111111111,
             "#46039f"
            ],
            [
             0.2222222222222222,
             "#7201a8"
            ],
            [
             0.3333333333333333,
             "#9c179e"
            ],
            [
             0.4444444444444444,
             "#bd3786"
            ],
            [
             0.5555555555555556,
             "#d8576b"
            ],
            [
             0.6666666666666666,
             "#ed7953"
            ],
            [
             0.7777777777777778,
             "#fb9f3a"
            ],
            [
             0.8888888888888888,
             "#fdca26"
            ],
            [
             1,
             "#f0f921"
            ]
           ]
          },
          "colorway": [
           "#636efa",
           "#EF553B",
           "#00cc96",
           "#ab63fa",
           "#FFA15A",
           "#19d3f3",
           "#FF6692",
           "#B6E880",
           "#FF97FF",
           "#FECB52"
          ],
          "font": {
           "color": "#2a3f5f"
          },
          "geo": {
           "bgcolor": "white",
           "lakecolor": "white",
           "landcolor": "#E5ECF6",
           "showlakes": true,
           "showland": true,
           "subunitcolor": "white"
          },
          "hoverlabel": {
           "align": "left"
          },
          "hovermode": "closest",
          "mapbox": {
           "style": "light"
          },
          "paper_bgcolor": "white",
          "plot_bgcolor": "#E5ECF6",
          "polar": {
           "angularaxis": {
            "gridcolor": "white",
            "linecolor": "white",
            "ticks": ""
           },
           "bgcolor": "#E5ECF6",
           "radialaxis": {
            "gridcolor": "white",
            "linecolor": "white",
            "ticks": ""
           }
          },
          "scene": {
           "xaxis": {
            "backgroundcolor": "#E5ECF6",
            "gridcolor": "white",
            "gridwidth": 2,
            "linecolor": "white",
            "showbackground": true,
            "ticks": "",
            "zerolinecolor": "white"
           },
           "yaxis": {
            "backgroundcolor": "#E5ECF6",
            "gridcolor": "white",
            "gridwidth": 2,
            "linecolor": "white",
            "showbackground": true,
            "ticks": "",
            "zerolinecolor": "white"
           },
           "zaxis": {
            "backgroundcolor": "#E5ECF6",
            "gridcolor": "white",
            "gridwidth": 2,
            "linecolor": "white",
            "showbackground": true,
            "ticks": "",
            "zerolinecolor": "white"
           }
          },
          "shapedefaults": {
           "line": {
            "color": "#2a3f5f"
           }
          },
          "ternary": {
           "aaxis": {
            "gridcolor": "white",
            "linecolor": "white",
            "ticks": ""
           },
           "baxis": {
            "gridcolor": "white",
            "linecolor": "white",
            "ticks": ""
           },
           "bgcolor": "#E5ECF6",
           "caxis": {
            "gridcolor": "white",
            "linecolor": "white",
            "ticks": ""
           }
          },
          "title": {
           "x": 0.05
          },
          "xaxis": {
           "automargin": true,
           "gridcolor": "white",
           "linecolor": "white",
           "ticks": "",
           "title": {
            "standoff": 15
           },
           "zerolinecolor": "white",
           "zerolinewidth": 2
          },
          "yaxis": {
           "automargin": true,
           "gridcolor": "white",
           "linecolor": "white",
           "ticks": "",
           "title": {
            "standoff": 15
           },
           "zerolinecolor": "white",
           "zerolinewidth": 2
          }
         }
        },
        "title": {
         "text": "normal Probability Density Function",
         "x": 0.5
        },
        "xaxis": {
         "anchor": "y",
         "domain": [
          0,
          1
         ],
         "title": {
          "text": "x"
         }
        },
        "yaxis": {
         "anchor": "x",
         "domain": [
          0,
          1
         ],
         "title": {
          "text": "pdf"
         }
        }
       }
      }
     },
     "metadata": {},
     "output_type": "display_data"
    }
   ],
   "source": [
    "# Visualize with  existing function (normal z, one-sided \"greater\")\n",
    "# n is only used to draw the reference curve; we pass a large-ish n for display.\n",
    "show_statistical_test(\n",
    "    statistic=res_comp['z_stat'],\n",
    "    alpha=alpha,\n",
    "    n=max(res_comp['n_test'], res_comp['n_control']),\n",
    "    distribution='normal',\n",
    "    alternative='greater'\n",
    ")"
   ]
  },
  {
   "cell_type": "markdown",
   "id": "b168447b",
   "metadata": {},
   "source": [
    "**5) Error rate — H₀: p_err_test − p_err_ctrl ≥ 0 (one-sided “smaller”)**"
   ]
  },
  {
   "cell_type": "code",
   "execution_count": 13,
   "id": "d651ec62",
   "metadata": {},
   "outputs": [
    {
     "name": "stdout",
     "output_type": "stream",
     "text": [
      "{'z_stat': 83.5343577058352, 'p_value': 1.0, 'p_test': 0.3365146535812362, 'p_control': 0.0, 'diff': 0.3365146535812362, 'null_diff': 0.005, 'ci_test': (0.3303295246804194, 0.3427563181716305), 'ci_control': (0.0, 0.00022165448976160245), 'n_test': 22213, 'x_test': 7475, 'n_control': 17327, 'x_control': 0, 'alternative': 'smaller'}\n"
     ]
    },
    {
     "name": "stderr",
     "output_type": "stream",
     "text": [
      "C:\\Users\\pablo\\AppData\\Local\\Temp\\ipykernel_28656\\2036246025.py:2: FutureWarning:\n",
      "\n",
      "Calling int on a single element Series is deprecated and will raise a TypeError in the future. Use int(ser.iloc[0]) instead\n",
      "\n",
      "C:\\Users\\pablo\\AppData\\Local\\Temp\\ipykernel_28656\\2036246025.py:3: FutureWarning:\n",
      "\n",
      "Calling int on a single element Series is deprecated and will raise a TypeError in the future. Use int(ser.iloc[0]) instead\n",
      "\n"
     ]
    },
    {
     "data": {
      "application/vnd.plotly.v1+json": {
       "config": {
        "plotlyServerURL": "https://plot.ly"
       },
       "data": [
        {
         "hovertemplate": "x=%{x}<br>pdf=%{y}<extra></extra>",
         "legendgroup": "",
         "line": {
          "color": "#636efa",
          "dash": "solid"
         },
         "marker": {
          "symbol": "circle"
         },
         "mode": "lines",
         "name": "",
         "orientation": "v",
         "showlegend": false,
         "type": "scatter",
         "x": {
          "bdata": "AAAAAAAACMDByyl4OQUHwIOXU/ByCgbARGN9aKwPBcAFL6fg5RQEwMb60FgfGgPAiMb60FgfAsBJkiRJkiQBwApeTsHLKQDAmFPwcgpe/r8a60NjfWj8v52Cl1Pwcvq/IBrrQ2N9+L+isT401of2vyVJkiRJkvS/p+DlFLyc8r8qeDkFL6fwv1gfGutDY+2/YE7Byyl46b9kfWisD43lv2isD431oeG/4LZt27Zt27/oFLycgpfTv+DlFLycgse/AIjG+tBYr7/Ah8b60FivP+DlFLycgsc/6BS8nIKX0z/Ytm3btm3bP2isD431oeE/ZH1orA+N5T9cTsHLKXjpP1gfGutDY+0/KHg5BS+n8D+o4OUUvJzyPyRJkiRJkvQ/oLE+NNaH9j8gGutDY334P5yCl1Pwcvo/GOtDY31o/D+YU/ByCl7+PwpeTsHLKQBASJIkSZIkAUCIxvrQWB8CQMb60FgfGgNABC+n4OUUBEBEY31orA8FQIKXU/ByCgZAwMspeDkFB0AAAAAAAAAIQA==",
          "dtype": "f8"
         },
         "xaxis": "x",
         "y": {
          "bdata": "iXbXPyEncj+xgjWL3gN6P6cekpooXYI/RsgNWkOKiT+eZ2Fk+H6RP6xlcNs4nZc/nj4MrsBlnz/6oyE+/o+kP64knHtCiKo/43eUSeXcsD+wZXTQox21P7QjdHA8DLo/xWUOi1Knvz9nCVoDW/LCP89ckDMVWMY/X71Bd1/1yT/XBPAzcrXNP770dA9Yv9A/QNUmS8qZ0j/gHMV4CFrUP0WvVP2i79U/jzZlP71K1z+GGvsQE13YP1RMqP3wGtk/kbRUCQh82T+StFQJCHzZP1RMqP3wGtk/hhr7EBNd2D+RNmU/vUrXP0WvVP2i79U/4BzFeAha1D9C1SZLypnSP770dA9Yv9A/2gTwM3K1zT9evUF3X/XJP9FckDMVWMY/awlaA1vywj/FZQ6LUqe/P7cjdHA8DLo/tGV00KMdtT/jd5RJ5dywP64knHtCiKo//6MhPv6PpD+ePgyuwGWfP6xlcNs4nZc/pWdhZPh+kT9GyA1aQ4qJP64ekpooXYI/t4I1i94Dej+Jdtc/ISdyPw==",
          "dtype": "f8"
         },
         "yaxis": "y"
        },
        {
         "fill": "tozeroy",
         "fillcolor": "red",
         "mode": "none",
         "type": "scatter",
         "x": {
          "bdata": "u2pnCVJR+j/2FGCBmcL6PzG/WPngM/s/bGlRcSil+z+mE0rpbxb8P+G9QmG3h/w/HGg72f74/D9XEjRRRmr9P5K8LMmN2/0/zWYlQdVM/j8IER65HL7+P0K7FjFkL/8/fmUPqaug/z/cB4SQ+QgAQPpcgEydQQBAF7J8CEF6AEA0B3nE5LIAQFJcdYCI6wBAb7FxPCwkAUCNBm74z1wBQKpbarRzlQFAyLBmcBfOAUDlBWMsuwYCQAJbX+hePwJAILBbpAJ4AkA+BVhgprACQFtaVBxK6QJAeK9Q2O0hA0CWBE2UkVoDQLNZSVA1kwNA0K5FDNnLA0DuA0LIfAQEQAxZPoQgPQRAKa46QMR1BEBGAzf8Z64EQGRYM7gL5wRAga0vdK8fBUCeAiwwU1gFQLxXKOz2kAVA2qwkqJrJBUD3ASFkPgIGQBRXHSDiOgZAMqwZ3IVzBkBQARaYKawGQGxWElTN5AZAiqsOEHEdB0CoAAvMFFYHQMVVB4i4jgdA4qoDRFzHB0AAAAAAAAAIQA==",
          "dtype": "f8"
         },
         "y": {
          "bdata": "Qdh26hhnuj8ZpXVNCzi5P4bQeDDdEbg/3PRVm5f0tj8qObIPPuC1P4iryMfO1LQ/4wdO90LSsz/CGQ4Oj9iyP09U4fui57E/pR6cdWr/sD+Topw6zR+wPyU6P7Veka4/+m0R9+LzrD8zf5494marP2doicwR6qk/wo/eryF9qD/oHG9BvR+nP+j7WquL0aU/uDxcZzCSpD+I3HC6S2GjP2toiix7PqI/lDn1+1kpoT8JPjOMgSGgP9mDIKATTZ4/9+R+XRNwnD9/mLbHLquaP3+RVLSR/Zg/2MImAmhmlz9cqWs53uSVP3D/PiEieJQ/YRpJSmMfkz+/UsSO09mRPwS4+IenppA/Kk608i0Kjz/jU/9iuuiMPxOSacJy54o/xmDc0d0EiT+MeuU5iz+HPxN1IQEUloU/sI558RoHhD+xTPnsTJGCPyYXCDNhM4E/K9uxLTPYfz9uKs1PhXR9P+OmqppnOXs/6f8oqp4keT85JTTvBDR3PxzHIaKKZXU/CXufoTW3cz+Jdtc/ISdyPw==",
          "dtype": "f8"
         }
        }
       ],
       "layout": {
        "annotations": [
         {
          "text": "Critical value  1.64",
          "x": 1.6448536269514722,
          "xref": "x",
          "y": 0,
          "yanchor": "bottom",
          "yref": "paper"
         },
         {
          "text": "Statistic  83.53",
          "x": 83.5343577058352,
          "xref": "x",
          "y": 0,
          "yanchor": "bottom",
          "yref": "paper"
         }
        ],
        "legend": {
         "tracegroupgap": 0
        },
        "shapes": [
         {
          "line": {
           "color": "red"
          },
          "type": "line",
          "x0": 1.6448536269514722,
          "x1": 1.6448536269514722,
          "xref": "x",
          "y0": 0,
          "y1": 1,
          "yref": "y domain"
         },
         {
          "type": "line",
          "x0": 83.5343577058352,
          "x1": 83.5343577058352,
          "xref": "x",
          "y0": 0,
          "y1": 1,
          "yref": "y domain"
         }
        ],
        "showlegend": false,
        "template": {
         "data": {
          "bar": [
           {
            "error_x": {
             "color": "#2a3f5f"
            },
            "error_y": {
             "color": "#2a3f5f"
            },
            "marker": {
             "line": {
              "color": "#E5ECF6",
              "width": 0.5
             },
             "pattern": {
              "fillmode": "overlay",
              "size": 10,
              "solidity": 0.2
             }
            },
            "type": "bar"
           }
          ],
          "barpolar": [
           {
            "marker": {
             "line": {
              "color": "#E5ECF6",
              "width": 0.5
             },
             "pattern": {
              "fillmode": "overlay",
              "size": 10,
              "solidity": 0.2
             }
            },
            "type": "barpolar"
           }
          ],
          "carpet": [
           {
            "aaxis": {
             "endlinecolor": "#2a3f5f",
             "gridcolor": "white",
             "linecolor": "white",
             "minorgridcolor": "white",
             "startlinecolor": "#2a3f5f"
            },
            "baxis": {
             "endlinecolor": "#2a3f5f",
             "gridcolor": "white",
             "linecolor": "white",
             "minorgridcolor": "white",
             "startlinecolor": "#2a3f5f"
            },
            "type": "carpet"
           }
          ],
          "choropleth": [
           {
            "colorbar": {
             "outlinewidth": 0,
             "ticks": ""
            },
            "type": "choropleth"
           }
          ],
          "contour": [
           {
            "colorbar": {
             "outlinewidth": 0,
             "ticks": ""
            },
            "colorscale": [
             [
              0,
              "#0d0887"
             ],
             [
              0.1111111111111111,
              "#46039f"
             ],
             [
              0.2222222222222222,
              "#7201a8"
             ],
             [
              0.3333333333333333,
              "#9c179e"
             ],
             [
              0.4444444444444444,
              "#bd3786"
             ],
             [
              0.5555555555555556,
              "#d8576b"
             ],
             [
              0.6666666666666666,
              "#ed7953"
             ],
             [
              0.7777777777777778,
              "#fb9f3a"
             ],
             [
              0.8888888888888888,
              "#fdca26"
             ],
             [
              1,
              "#f0f921"
             ]
            ],
            "type": "contour"
           }
          ],
          "contourcarpet": [
           {
            "colorbar": {
             "outlinewidth": 0,
             "ticks": ""
            },
            "type": "contourcarpet"
           }
          ],
          "heatmap": [
           {
            "colorbar": {
             "outlinewidth": 0,
             "ticks": ""
            },
            "colorscale": [
             [
              0,
              "#0d0887"
             ],
             [
              0.1111111111111111,
              "#46039f"
             ],
             [
              0.2222222222222222,
              "#7201a8"
             ],
             [
              0.3333333333333333,
              "#9c179e"
             ],
             [
              0.4444444444444444,
              "#bd3786"
             ],
             [
              0.5555555555555556,
              "#d8576b"
             ],
             [
              0.6666666666666666,
              "#ed7953"
             ],
             [
              0.7777777777777778,
              "#fb9f3a"
             ],
             [
              0.8888888888888888,
              "#fdca26"
             ],
             [
              1,
              "#f0f921"
             ]
            ],
            "type": "heatmap"
           }
          ],
          "histogram": [
           {
            "marker": {
             "pattern": {
              "fillmode": "overlay",
              "size": 10,
              "solidity": 0.2
             }
            },
            "type": "histogram"
           }
          ],
          "histogram2d": [
           {
            "colorbar": {
             "outlinewidth": 0,
             "ticks": ""
            },
            "colorscale": [
             [
              0,
              "#0d0887"
             ],
             [
              0.1111111111111111,
              "#46039f"
             ],
             [
              0.2222222222222222,
              "#7201a8"
             ],
             [
              0.3333333333333333,
              "#9c179e"
             ],
             [
              0.4444444444444444,
              "#bd3786"
             ],
             [
              0.5555555555555556,
              "#d8576b"
             ],
             [
              0.6666666666666666,
              "#ed7953"
             ],
             [
              0.7777777777777778,
              "#fb9f3a"
             ],
             [
              0.8888888888888888,
              "#fdca26"
             ],
             [
              1,
              "#f0f921"
             ]
            ],
            "type": "histogram2d"
           }
          ],
          "histogram2dcontour": [
           {
            "colorbar": {
             "outlinewidth": 0,
             "ticks": ""
            },
            "colorscale": [
             [
              0,
              "#0d0887"
             ],
             [
              0.1111111111111111,
              "#46039f"
             ],
             [
              0.2222222222222222,
              "#7201a8"
             ],
             [
              0.3333333333333333,
              "#9c179e"
             ],
             [
              0.4444444444444444,
              "#bd3786"
             ],
             [
              0.5555555555555556,
              "#d8576b"
             ],
             [
              0.6666666666666666,
              "#ed7953"
             ],
             [
              0.7777777777777778,
              "#fb9f3a"
             ],
             [
              0.8888888888888888,
              "#fdca26"
             ],
             [
              1,
              "#f0f921"
             ]
            ],
            "type": "histogram2dcontour"
           }
          ],
          "mesh3d": [
           {
            "colorbar": {
             "outlinewidth": 0,
             "ticks": ""
            },
            "type": "mesh3d"
           }
          ],
          "parcoords": [
           {
            "line": {
             "colorbar": {
              "outlinewidth": 0,
              "ticks": ""
             }
            },
            "type": "parcoords"
           }
          ],
          "pie": [
           {
            "automargin": true,
            "type": "pie"
           }
          ],
          "scatter": [
           {
            "fillpattern": {
             "fillmode": "overlay",
             "size": 10,
             "solidity": 0.2
            },
            "type": "scatter"
           }
          ],
          "scatter3d": [
           {
            "line": {
             "colorbar": {
              "outlinewidth": 0,
              "ticks": ""
             }
            },
            "marker": {
             "colorbar": {
              "outlinewidth": 0,
              "ticks": ""
             }
            },
            "type": "scatter3d"
           }
          ],
          "scattercarpet": [
           {
            "marker": {
             "colorbar": {
              "outlinewidth": 0,
              "ticks": ""
             }
            },
            "type": "scattercarpet"
           }
          ],
          "scattergeo": [
           {
            "marker": {
             "colorbar": {
              "outlinewidth": 0,
              "ticks": ""
             }
            },
            "type": "scattergeo"
           }
          ],
          "scattergl": [
           {
            "marker": {
             "colorbar": {
              "outlinewidth": 0,
              "ticks": ""
             }
            },
            "type": "scattergl"
           }
          ],
          "scattermap": [
           {
            "marker": {
             "colorbar": {
              "outlinewidth": 0,
              "ticks": ""
             }
            },
            "type": "scattermap"
           }
          ],
          "scattermapbox": [
           {
            "marker": {
             "colorbar": {
              "outlinewidth": 0,
              "ticks": ""
             }
            },
            "type": "scattermapbox"
           }
          ],
          "scatterpolar": [
           {
            "marker": {
             "colorbar": {
              "outlinewidth": 0,
              "ticks": ""
             }
            },
            "type": "scatterpolar"
           }
          ],
          "scatterpolargl": [
           {
            "marker": {
             "colorbar": {
              "outlinewidth": 0,
              "ticks": ""
             }
            },
            "type": "scatterpolargl"
           }
          ],
          "scatterternary": [
           {
            "marker": {
             "colorbar": {
              "outlinewidth": 0,
              "ticks": ""
             }
            },
            "type": "scatterternary"
           }
          ],
          "surface": [
           {
            "colorbar": {
             "outlinewidth": 0,
             "ticks": ""
            },
            "colorscale": [
             [
              0,
              "#0d0887"
             ],
             [
              0.1111111111111111,
              "#46039f"
             ],
             [
              0.2222222222222222,
              "#7201a8"
             ],
             [
              0.3333333333333333,
              "#9c179e"
             ],
             [
              0.4444444444444444,
              "#bd3786"
             ],
             [
              0.5555555555555556,
              "#d8576b"
             ],
             [
              0.6666666666666666,
              "#ed7953"
             ],
             [
              0.7777777777777778,
              "#fb9f3a"
             ],
             [
              0.8888888888888888,
              "#fdca26"
             ],
             [
              1,
              "#f0f921"
             ]
            ],
            "type": "surface"
           }
          ],
          "table": [
           {
            "cells": {
             "fill": {
              "color": "#EBF0F8"
             },
             "line": {
              "color": "white"
             }
            },
            "header": {
             "fill": {
              "color": "#C8D4E3"
             },
             "line": {
              "color": "white"
             }
            },
            "type": "table"
           }
          ]
         },
         "layout": {
          "annotationdefaults": {
           "arrowcolor": "#2a3f5f",
           "arrowhead": 0,
           "arrowwidth": 1
          },
          "autotypenumbers": "strict",
          "coloraxis": {
           "colorbar": {
            "outlinewidth": 0,
            "ticks": ""
           }
          },
          "colorscale": {
           "diverging": [
            [
             0,
             "#8e0152"
            ],
            [
             0.1,
             "#c51b7d"
            ],
            [
             0.2,
             "#de77ae"
            ],
            [
             0.3,
             "#f1b6da"
            ],
            [
             0.4,
             "#fde0ef"
            ],
            [
             0.5,
             "#f7f7f7"
            ],
            [
             0.6,
             "#e6f5d0"
            ],
            [
             0.7,
             "#b8e186"
            ],
            [
             0.8,
             "#7fbc41"
            ],
            [
             0.9,
             "#4d9221"
            ],
            [
             1,
             "#276419"
            ]
           ],
           "sequential": [
            [
             0,
             "#0d0887"
            ],
            [
             0.1111111111111111,
             "#46039f"
            ],
            [
             0.2222222222222222,
             "#7201a8"
            ],
            [
             0.3333333333333333,
             "#9c179e"
            ],
            [
             0.4444444444444444,
             "#bd3786"
            ],
            [
             0.5555555555555556,
             "#d8576b"
            ],
            [
             0.6666666666666666,
             "#ed7953"
            ],
            [
             0.7777777777777778,
             "#fb9f3a"
            ],
            [
             0.8888888888888888,
             "#fdca26"
            ],
            [
             1,
             "#f0f921"
            ]
           ],
           "sequentialminus": [
            [
             0,
             "#0d0887"
            ],
            [
             0.1111111111111111,
             "#46039f"
            ],
            [
             0.2222222222222222,
             "#7201a8"
            ],
            [
             0.3333333333333333,
             "#9c179e"
            ],
            [
             0.4444444444444444,
             "#bd3786"
            ],
            [
             0.5555555555555556,
             "#d8576b"
            ],
            [
             0.6666666666666666,
             "#ed7953"
            ],
            [
             0.7777777777777778,
             "#fb9f3a"
            ],
            [
             0.8888888888888888,
             "#fdca26"
            ],
            [
             1,
             "#f0f921"
            ]
           ]
          },
          "colorway": [
           "#636efa",
           "#EF553B",
           "#00cc96",
           "#ab63fa",
           "#FFA15A",
           "#19d3f3",
           "#FF6692",
           "#B6E880",
           "#FF97FF",
           "#FECB52"
          ],
          "font": {
           "color": "#2a3f5f"
          },
          "geo": {
           "bgcolor": "white",
           "lakecolor": "white",
           "landcolor": "#E5ECF6",
           "showlakes": true,
           "showland": true,
           "subunitcolor": "white"
          },
          "hoverlabel": {
           "align": "left"
          },
          "hovermode": "closest",
          "mapbox": {
           "style": "light"
          },
          "paper_bgcolor": "white",
          "plot_bgcolor": "#E5ECF6",
          "polar": {
           "angularaxis": {
            "gridcolor": "white",
            "linecolor": "white",
            "ticks": ""
           },
           "bgcolor": "#E5ECF6",
           "radialaxis": {
            "gridcolor": "white",
            "linecolor": "white",
            "ticks": ""
           }
          },
          "scene": {
           "xaxis": {
            "backgroundcolor": "#E5ECF6",
            "gridcolor": "white",
            "gridwidth": 2,
            "linecolor": "white",
            "showbackground": true,
            "ticks": "",
            "zerolinecolor": "white"
           },
           "yaxis": {
            "backgroundcolor": "#E5ECF6",
            "gridcolor": "white",
            "gridwidth": 2,
            "linecolor": "white",
            "showbackground": true,
            "ticks": "",
            "zerolinecolor": "white"
           },
           "zaxis": {
            "backgroundcolor": "#E5ECF6",
            "gridcolor": "white",
            "gridwidth": 2,
            "linecolor": "white",
            "showbackground": true,
            "ticks": "",
            "zerolinecolor": "white"
           }
          },
          "shapedefaults": {
           "line": {
            "color": "#2a3f5f"
           }
          },
          "ternary": {
           "aaxis": {
            "gridcolor": "white",
            "linecolor": "white",
            "ticks": ""
           },
           "baxis": {
            "gridcolor": "white",
            "linecolor": "white",
            "ticks": ""
           },
           "bgcolor": "#E5ECF6",
           "caxis": {
            "gridcolor": "white",
            "linecolor": "white",
            "ticks": ""
           }
          },
          "title": {
           "x": 0.05
          },
          "xaxis": {
           "automargin": true,
           "gridcolor": "white",
           "linecolor": "white",
           "ticks": "",
           "title": {
            "standoff": 15
           },
           "zerolinecolor": "white",
           "zerolinewidth": 2
          },
          "yaxis": {
           "automargin": true,
           "gridcolor": "white",
           "linecolor": "white",
           "ticks": "",
           "title": {
            "standoff": 15
           },
           "zerolinecolor": "white",
           "zerolinewidth": 2
          }
         }
        },
        "title": {
         "text": "normal Probability Density Function",
         "x": 0.5
        },
        "xaxis": {
         "anchor": "y",
         "domain": [
          0,
          1
         ],
         "title": {
          "text": "x"
         }
        },
        "yaxis": {
         "anchor": "x",
         "domain": [
          0,
          1
         ],
         "title": {
          "text": "pdf"
         }
        }
       }
      }
     },
     "metadata": {},
     "output_type": "display_data"
    }
   ],
   "source": [
    "# Define error as \"at least one back-jump\" over the process\n",
    "err_c = int(kpis_control['n_back_jumps']); base_c = int(kpis_control['n_processes'])\n",
    "err_t = int(kpis_test['n_back_jumps']); base_t =int(kpis_test['n_processes'])\n",
    "\n",
    "res_err = two_proportion_ztest(err_t, base_t, err_c, base_c, alternative='smaller', diff0=0.005, alpha=alpha)\n",
    "print(res_err)\n",
    "\n",
    "show_statistical_test(\n",
    "    statistic=res_err['z_stat'],\n",
    "    alpha=alpha,\n",
    "    n=max(res_err['n_test'], res_err['n_control']),\n",
    "    distribution='normal',\n",
    "    alternative='greater'  # test is \"smaller\" → lower tail\n",
    ")\n"
   ]
  },
  {
   "cell_type": "markdown",
   "id": "149b2f28",
   "metadata": {},
   "source": [
    "**6) Time (example with t_total) — H₀: mean_test − mean_ctrl ≥ 0 (one-sided “less”)**"
   ]
  },
  {
   "cell_type": "code",
   "execution_count": 14,
   "id": "b3b10153",
   "metadata": {},
   "outputs": [
    {
     "name": "stdout",
     "output_type": "stream",
     "text": [
      "{'w_stat': -5.758094960007894, 'p_value': 4.3273921875238935e-09, 'n_test': 11897, 'n_ctrl': 7436}\n"
     ]
    },
    {
     "data": {
      "application/vnd.plotly.v1+json": {
       "config": {
        "plotlyServerURL": "https://plot.ly"
       },
       "data": [
        {
         "hovertemplate": "x=%{x}<br>pdf=%{y}<extra></extra>",
         "legendgroup": "",
         "line": {
          "color": "#636efa",
          "dash": "solid"
         },
         "marker": {
          "symbol": "circle"
         },
         "mode": "lines",
         "name": "",
         "orientation": "v",
         "showlegend": false,
         "type": "scatter",
         "x": {
          "bdata": "AAAAAAAACMDByyl4OQUHwIOXU/ByCgbARGN9aKwPBcAFL6fg5RQEwMb60FgfGgPAiMb60FgfAsBJkiRJkiQBwApeTsHLKQDAmFPwcgpe/r8a60NjfWj8v52Cl1Pwcvq/IBrrQ2N9+L+isT401of2vyVJkiRJkvS/p+DlFLyc8r8qeDkFL6fwv1gfGutDY+2/YE7Byyl46b9kfWisD43lv2isD431oeG/4LZt27Zt27/oFLycgpfTv+DlFLycgse/AIjG+tBYr7/Ah8b60FivP+DlFLycgsc/6BS8nIKX0z/Ytm3btm3bP2isD431oeE/ZH1orA+N5T9cTsHLKXjpP1gfGutDY+0/KHg5BS+n8D+o4OUUvJzyPyRJkiRJkvQ/oLE+NNaH9j8gGutDY334P5yCl1Pwcvo/GOtDY31o/D+YU/ByCl7+PwpeTsHLKQBASJIkSZIkAUCIxvrQWB8CQMb60FgfGgNABC+n4OUUBEBEY31orA8FQIKXU/ByCgZAwMspeDkFB0AAAAAAAAAIQA==",
          "dtype": "f8"
         },
         "xaxis": "x",
         "y": {
          "bdata": "SgLdQdsqcj/77IovQwh6P7Uq+oqtX4I/9NdkeRGNiT/fwi9we4CRPxnw/S3Lnpc/ABZGr1Fnnz/5eio2vJCkPz2FrRnriKo/DqI4eindsD/yv9jt0h21Pw5RpI1SDLo/K1MyQU2nvz+HqcZoSvLCP91ytWb3V8Y/KtrkNDb1yT83W0gEQLXNP8yC3wQ8v9A/c4JW4ayZ0j9Ojn8f61nUP8paEtKG79U/2klr66JK1z+ISiW6+lzYP3+p6kzaGtk/o69DRvJ72T+jr0NG8nvZP3+p6kzaGtk/iEoluvpc2D/cSWvrokrXP8paEtKG79U/To5/H+tZ1D90glbhrJnSP8yC3wQ8v9A/OltIBEC1zT8o2uQ0NvXJP99ytWb3V8Y/iqnGaErywj8rUzJBTae/PxFRpI1SDLo/97/Y7dIdtT8Oojh6Kd2wPz2FrRnriKo//HoqNryQpD8AFkavUWefPxnw/S3Lnpc/6MIvcHuAkT/012R5EY2JP74q+oqtX4I/Au2KL0MIej9KAt1B2ypyPw==",
          "dtype": "f8"
         },
         "yaxis": "y"
        },
        {
         "fill": "tozeroy",
         "fillcolor": "red",
         "mode": "none",
         "type": "scatter",
         "x": {
          "bdata": "AAAAAAAACMBB5/IbXccHwIPO5Te6jgfAxLXYUxdWB8AGnctvdB0HwEeEvovR5AbAiWuxpy6sBsDKUqTDi3MGwAw6l9/oOgbATSGK+0UCBsCOCH0Xo8kFwNDvbzMAkQXAEddiT11YBcBTvlVruh8FwJSlSIcX5wTA1ow7o3SuBMAXdC6/0XUEwFhbIdsuPQTAmkIU94sEBMDbKQcT6csDwB0R+i5GkwPAXvjsSqNaA8Cg399mACIDwOHG0oJd6QLAIq7FnrqwAsBklbi6F3gCwKZ8q9Z0PwLA52Oe8tEGAsAoS5EOL84BwGoyhCqMlQHAqxl3RulcAcDsAGpiRiQBwC7oXH6j6wDAcM9PmgCzAMCxtkK2XXoAwPKdNdK6QQDANIUo7hcJAMDq2DYU6qD/v22nHEykL/+/8HUChF6+/r9zROi7GE3+v/YSzvPS2/2/eeGzK41q/b/8r5ljR/n8v35+f5sBiPy/AU1l07sW/L+EG0sLdqX7vwfqMEMwNPu/irgWe+rC+r8Nh/yypFH6vw==",
          "dtype": "f8"
         },
         "y": {
          "bdata": "SgLdQdsqcj+I86DeD7tzP1QxVliEaXU/ic2cKB04dz+h+D451Ch5P4HYEhe5PXs//JsYE/F4fT+rNTBQt9x/P8Ro3V2uNYE/c3S796OTgj+OeXF9egmEP6IuOYl6mIU/mWxxEfdBhz+ZtoIjTQeJP2eXK4/j6Yo/+LBogSrrjD+WBDQOmwyPP+o7MFTbp5A/Yv5wQwPbkT8EEHB7jSCTP+QMAE1FeZQ/p3UyyPjllT8vxvtGeGeXP5ZgT+2V/pg/PuqSHiWsmj8ElVXo+XCcP+uoRWLoTZ4/Rb22AeIhoD9LYGh2rymhP6vyyZTEPqI/ezh08odhoz+88wVLXpKkPzW0XBGq0aU/x+9A/Mofpz8uTcmOHX2oP586w5z66ak/qzt5y7Zmqz/muTkPovOsP/OBCyYHka4/LLADiJUfsD9EOOxCJv+wP8pJ97ZR57E/hAl8KDDYsj/wTCDn1dGzP94qTghT1LQ/BxFHIrPftT/Rgi8I/fO2P+f1cYcyEbg/gCbaJlA3uT8Bq8znTGa6Pw==",
          "dtype": "f8"
         }
        }
       ],
       "layout": {
        "annotations": [
         {
          "text": "Critical value -1.64",
          "x": -1.6449324599893231,
          "xref": "x",
          "y": 0,
          "yanchor": "bottom",
          "yref": "paper"
         },
         {
          "text": "Statistic -5.76",
          "x": -5.758094960007894,
          "xref": "x",
          "y": 0,
          "yanchor": "bottom",
          "yref": "paper"
         }
        ],
        "legend": {
         "tracegroupgap": 0
        },
        "shapes": [
         {
          "line": {
           "color": "red"
          },
          "type": "line",
          "x0": -1.6449324599893231,
          "x1": -1.6449324599893231,
          "xref": "x",
          "y0": 0,
          "y1": 1,
          "yref": "y domain"
         },
         {
          "type": "line",
          "x0": -5.758094960007894,
          "x1": -5.758094960007894,
          "xref": "x",
          "y0": 0,
          "y1": 1,
          "yref": "y domain"
         }
        ],
        "showlegend": false,
        "template": {
         "data": {
          "bar": [
           {
            "error_x": {
             "color": "#2a3f5f"
            },
            "error_y": {
             "color": "#2a3f5f"
            },
            "marker": {
             "line": {
              "color": "#E5ECF6",
              "width": 0.5
             },
             "pattern": {
              "fillmode": "overlay",
              "size": 10,
              "solidity": 0.2
             }
            },
            "type": "bar"
           }
          ],
          "barpolar": [
           {
            "marker": {
             "line": {
              "color": "#E5ECF6",
              "width": 0.5
             },
             "pattern": {
              "fillmode": "overlay",
              "size": 10,
              "solidity": 0.2
             }
            },
            "type": "barpolar"
           }
          ],
          "carpet": [
           {
            "aaxis": {
             "endlinecolor": "#2a3f5f",
             "gridcolor": "white",
             "linecolor": "white",
             "minorgridcolor": "white",
             "startlinecolor": "#2a3f5f"
            },
            "baxis": {
             "endlinecolor": "#2a3f5f",
             "gridcolor": "white",
             "linecolor": "white",
             "minorgridcolor": "white",
             "startlinecolor": "#2a3f5f"
            },
            "type": "carpet"
           }
          ],
          "choropleth": [
           {
            "colorbar": {
             "outlinewidth": 0,
             "ticks": ""
            },
            "type": "choropleth"
           }
          ],
          "contour": [
           {
            "colorbar": {
             "outlinewidth": 0,
             "ticks": ""
            },
            "colorscale": [
             [
              0,
              "#0d0887"
             ],
             [
              0.1111111111111111,
              "#46039f"
             ],
             [
              0.2222222222222222,
              "#7201a8"
             ],
             [
              0.3333333333333333,
              "#9c179e"
             ],
             [
              0.4444444444444444,
              "#bd3786"
             ],
             [
              0.5555555555555556,
              "#d8576b"
             ],
             [
              0.6666666666666666,
              "#ed7953"
             ],
             [
              0.7777777777777778,
              "#fb9f3a"
             ],
             [
              0.8888888888888888,
              "#fdca26"
             ],
             [
              1,
              "#f0f921"
             ]
            ],
            "type": "contour"
           }
          ],
          "contourcarpet": [
           {
            "colorbar": {
             "outlinewidth": 0,
             "ticks": ""
            },
            "type": "contourcarpet"
           }
          ],
          "heatmap": [
           {
            "colorbar": {
             "outlinewidth": 0,
             "ticks": ""
            },
            "colorscale": [
             [
              0,
              "#0d0887"
             ],
             [
              0.1111111111111111,
              "#46039f"
             ],
             [
              0.2222222222222222,
              "#7201a8"
             ],
             [
              0.3333333333333333,
              "#9c179e"
             ],
             [
              0.4444444444444444,
              "#bd3786"
             ],
             [
              0.5555555555555556,
              "#d8576b"
             ],
             [
              0.6666666666666666,
              "#ed7953"
             ],
             [
              0.7777777777777778,
              "#fb9f3a"
             ],
             [
              0.8888888888888888,
              "#fdca26"
             ],
             [
              1,
              "#f0f921"
             ]
            ],
            "type": "heatmap"
           }
          ],
          "histogram": [
           {
            "marker": {
             "pattern": {
              "fillmode": "overlay",
              "size": 10,
              "solidity": 0.2
             }
            },
            "type": "histogram"
           }
          ],
          "histogram2d": [
           {
            "colorbar": {
             "outlinewidth": 0,
             "ticks": ""
            },
            "colorscale": [
             [
              0,
              "#0d0887"
             ],
             [
              0.1111111111111111,
              "#46039f"
             ],
             [
              0.2222222222222222,
              "#7201a8"
             ],
             [
              0.3333333333333333,
              "#9c179e"
             ],
             [
              0.4444444444444444,
              "#bd3786"
             ],
             [
              0.5555555555555556,
              "#d8576b"
             ],
             [
              0.6666666666666666,
              "#ed7953"
             ],
             [
              0.7777777777777778,
              "#fb9f3a"
             ],
             [
              0.8888888888888888,
              "#fdca26"
             ],
             [
              1,
              "#f0f921"
             ]
            ],
            "type": "histogram2d"
           }
          ],
          "histogram2dcontour": [
           {
            "colorbar": {
             "outlinewidth": 0,
             "ticks": ""
            },
            "colorscale": [
             [
              0,
              "#0d0887"
             ],
             [
              0.1111111111111111,
              "#46039f"
             ],
             [
              0.2222222222222222,
              "#7201a8"
             ],
             [
              0.3333333333333333,
              "#9c179e"
             ],
             [
              0.4444444444444444,
              "#bd3786"
             ],
             [
              0.5555555555555556,
              "#d8576b"
             ],
             [
              0.6666666666666666,
              "#ed7953"
             ],
             [
              0.7777777777777778,
              "#fb9f3a"
             ],
             [
              0.8888888888888888,
              "#fdca26"
             ],
             [
              1,
              "#f0f921"
             ]
            ],
            "type": "histogram2dcontour"
           }
          ],
          "mesh3d": [
           {
            "colorbar": {
             "outlinewidth": 0,
             "ticks": ""
            },
            "type": "mesh3d"
           }
          ],
          "parcoords": [
           {
            "line": {
             "colorbar": {
              "outlinewidth": 0,
              "ticks": ""
             }
            },
            "type": "parcoords"
           }
          ],
          "pie": [
           {
            "automargin": true,
            "type": "pie"
           }
          ],
          "scatter": [
           {
            "fillpattern": {
             "fillmode": "overlay",
             "size": 10,
             "solidity": 0.2
            },
            "type": "scatter"
           }
          ],
          "scatter3d": [
           {
            "line": {
             "colorbar": {
              "outlinewidth": 0,
              "ticks": ""
             }
            },
            "marker": {
             "colorbar": {
              "outlinewidth": 0,
              "ticks": ""
             }
            },
            "type": "scatter3d"
           }
          ],
          "scattercarpet": [
           {
            "marker": {
             "colorbar": {
              "outlinewidth": 0,
              "ticks": ""
             }
            },
            "type": "scattercarpet"
           }
          ],
          "scattergeo": [
           {
            "marker": {
             "colorbar": {
              "outlinewidth": 0,
              "ticks": ""
             }
            },
            "type": "scattergeo"
           }
          ],
          "scattergl": [
           {
            "marker": {
             "colorbar": {
              "outlinewidth": 0,
              "ticks": ""
             }
            },
            "type": "scattergl"
           }
          ],
          "scattermap": [
           {
            "marker": {
             "colorbar": {
              "outlinewidth": 0,
              "ticks": ""
             }
            },
            "type": "scattermap"
           }
          ],
          "scattermapbox": [
           {
            "marker": {
             "colorbar": {
              "outlinewidth": 0,
              "ticks": ""
             }
            },
            "type": "scattermapbox"
           }
          ],
          "scatterpolar": [
           {
            "marker": {
             "colorbar": {
              "outlinewidth": 0,
              "ticks": ""
             }
            },
            "type": "scatterpolar"
           }
          ],
          "scatterpolargl": [
           {
            "marker": {
             "colorbar": {
              "outlinewidth": 0,
              "ticks": ""
             }
            },
            "type": "scatterpolargl"
           }
          ],
          "scatterternary": [
           {
            "marker": {
             "colorbar": {
              "outlinewidth": 0,
              "ticks": ""
             }
            },
            "type": "scatterternary"
           }
          ],
          "surface": [
           {
            "colorbar": {
             "outlinewidth": 0,
             "ticks": ""
            },
            "colorscale": [
             [
              0,
              "#0d0887"
             ],
             [
              0.1111111111111111,
              "#46039f"
             ],
             [
              0.2222222222222222,
              "#7201a8"
             ],
             [
              0.3333333333333333,
              "#9c179e"
             ],
             [
              0.4444444444444444,
              "#bd3786"
             ],
             [
              0.5555555555555556,
              "#d8576b"
             ],
             [
              0.6666666666666666,
              "#ed7953"
             ],
             [
              0.7777777777777778,
              "#fb9f3a"
             ],
             [
              0.8888888888888888,
              "#fdca26"
             ],
             [
              1,
              "#f0f921"
             ]
            ],
            "type": "surface"
           }
          ],
          "table": [
           {
            "cells": {
             "fill": {
              "color": "#EBF0F8"
             },
             "line": {
              "color": "white"
             }
            },
            "header": {
             "fill": {
              "color": "#C8D4E3"
             },
             "line": {
              "color": "white"
             }
            },
            "type": "table"
           }
          ]
         },
         "layout": {
          "annotationdefaults": {
           "arrowcolor": "#2a3f5f",
           "arrowhead": 0,
           "arrowwidth": 1
          },
          "autotypenumbers": "strict",
          "coloraxis": {
           "colorbar": {
            "outlinewidth": 0,
            "ticks": ""
           }
          },
          "colorscale": {
           "diverging": [
            [
             0,
             "#8e0152"
            ],
            [
             0.1,
             "#c51b7d"
            ],
            [
             0.2,
             "#de77ae"
            ],
            [
             0.3,
             "#f1b6da"
            ],
            [
             0.4,
             "#fde0ef"
            ],
            [
             0.5,
             "#f7f7f7"
            ],
            [
             0.6,
             "#e6f5d0"
            ],
            [
             0.7,
             "#b8e186"
            ],
            [
             0.8,
             "#7fbc41"
            ],
            [
             0.9,
             "#4d9221"
            ],
            [
             1,
             "#276419"
            ]
           ],
           "sequential": [
            [
             0,
             "#0d0887"
            ],
            [
             0.1111111111111111,
             "#46039f"
            ],
            [
             0.2222222222222222,
             "#7201a8"
            ],
            [
             0.3333333333333333,
             "#9c179e"
            ],
            [
             0.4444444444444444,
             "#bd3786"
            ],
            [
             0.5555555555555556,
             "#d8576b"
            ],
            [
             0.6666666666666666,
             "#ed7953"
            ],
            [
             0.7777777777777778,
             "#fb9f3a"
            ],
            [
             0.8888888888888888,
             "#fdca26"
            ],
            [
             1,
             "#f0f921"
            ]
           ],
           "sequentialminus": [
            [
             0,
             "#0d0887"
            ],
            [
             0.1111111111111111,
             "#46039f"
            ],
            [
             0.2222222222222222,
             "#7201a8"
            ],
            [
             0.3333333333333333,
             "#9c179e"
            ],
            [
             0.4444444444444444,
             "#bd3786"
            ],
            [
             0.5555555555555556,
             "#d8576b"
            ],
            [
             0.6666666666666666,
             "#ed7953"
            ],
            [
             0.7777777777777778,
             "#fb9f3a"
            ],
            [
             0.8888888888888888,
             "#fdca26"
            ],
            [
             1,
             "#f0f921"
            ]
           ]
          },
          "colorway": [
           "#636efa",
           "#EF553B",
           "#00cc96",
           "#ab63fa",
           "#FFA15A",
           "#19d3f3",
           "#FF6692",
           "#B6E880",
           "#FF97FF",
           "#FECB52"
          ],
          "font": {
           "color": "#2a3f5f"
          },
          "geo": {
           "bgcolor": "white",
           "lakecolor": "white",
           "landcolor": "#E5ECF6",
           "showlakes": true,
           "showland": true,
           "subunitcolor": "white"
          },
          "hoverlabel": {
           "align": "left"
          },
          "hovermode": "closest",
          "mapbox": {
           "style": "light"
          },
          "paper_bgcolor": "white",
          "plot_bgcolor": "#E5ECF6",
          "polar": {
           "angularaxis": {
            "gridcolor": "white",
            "linecolor": "white",
            "ticks": ""
           },
           "bgcolor": "#E5ECF6",
           "radialaxis": {
            "gridcolor": "white",
            "linecolor": "white",
            "ticks": ""
           }
          },
          "scene": {
           "xaxis": {
            "backgroundcolor": "#E5ECF6",
            "gridcolor": "white",
            "gridwidth": 2,
            "linecolor": "white",
            "showbackground": true,
            "ticks": "",
            "zerolinecolor": "white"
           },
           "yaxis": {
            "backgroundcolor": "#E5ECF6",
            "gridcolor": "white",
            "gridwidth": 2,
            "linecolor": "white",
            "showbackground": true,
            "ticks": "",
            "zerolinecolor": "white"
           },
           "zaxis": {
            "backgroundcolor": "#E5ECF6",
            "gridcolor": "white",
            "gridwidth": 2,
            "linecolor": "white",
            "showbackground": true,
            "ticks": "",
            "zerolinecolor": "white"
           }
          },
          "shapedefaults": {
           "line": {
            "color": "#2a3f5f"
           }
          },
          "ternary": {
           "aaxis": {
            "gridcolor": "white",
            "linecolor": "white",
            "ticks": ""
           },
           "baxis": {
            "gridcolor": "white",
            "linecolor": "white",
            "ticks": ""
           },
           "bgcolor": "#E5ECF6",
           "caxis": {
            "gridcolor": "white",
            "linecolor": "white",
            "ticks": ""
           }
          },
          "title": {
           "x": 0.05
          },
          "xaxis": {
           "automargin": true,
           "gridcolor": "white",
           "linecolor": "white",
           "ticks": "",
           "title": {
            "standoff": 15
           },
           "zerolinecolor": "white",
           "zerolinewidth": 2
          },
          "yaxis": {
           "automargin": true,
           "gridcolor": "white",
           "linecolor": "white",
           "ticks": "",
           "title": {
            "standoff": 15
           },
           "zerolinecolor": "white",
           "zerolinewidth": 2
          }
         }
        },
        "title": {
         "text": "t-student Probability Density Function",
         "x": 0.5
        },
        "xaxis": {
         "anchor": "y",
         "domain": [
          0,
          1
         ],
         "title": {
          "text": "x"
         }
        },
        "yaxis": {
         "anchor": "x",
         "domain": [
          0,
          1
         ],
         "title": {
          "text": "pdf"
         }
        }
       }
      }
     },
     "metadata": {},
     "output_type": "display_data"
    }
   ],
   "source": [
    "metric = 't_total'  # switch to 't_start_step1', 't_step1_step2', etc.\n",
    "res_time = welch_t_one_sided(test[metric], control[metric], alternative='less')\n",
    "print(res_time)\n",
    "\n",
    "# show_statistical_test needs df via n; we approximate df ≈ n_test + n_ctrl - 2 for display\n",
    "show_statistical_test(\n",
    "    statistic=res_time['w_stat'],\n",
    "    alpha=alpha,\n",
    "    n=(res_time['n_test'] + res_time['n_ctrl'] - 2),\n",
    "    distribution='t-student',\n",
    "    alternative='lower'  # \"Test is faster\" = lower mean → left tail\n",
    ")"
   ]
  },
  {
   "cell_type": "markdown",
   "id": "c1585291",
   "metadata": {},
   "source": [
    "**7) Optional: Stratified completion tests by age/tenure quantiles**"
   ]
  },
  {
   "cell_type": "code",
   "execution_count": 15,
   "id": "4b4e0fdf",
   "metadata": {},
   "outputs": [
    {
     "data": {
      "text/html": [
       "<div>\n",
       "<style scoped>\n",
       "    .dataframe tbody tr th:only-of-type {\n",
       "        vertical-align: middle;\n",
       "    }\n",
       "\n",
       "    .dataframe tbody tr th {\n",
       "        vertical-align: top;\n",
       "    }\n",
       "\n",
       "    .dataframe thead th {\n",
       "        text-align: right;\n",
       "    }\n",
       "</style>\n",
       "<table border=\"1\" class=\"dataframe\">\n",
       "  <thead>\n",
       "    <tr style=\"text-align: right;\">\n",
       "      <th></th>\n",
       "      <th>level</th>\n",
       "      <th>n_test</th>\n",
       "      <th>n_control</th>\n",
       "      <th>p_test</th>\n",
       "      <th>p_control</th>\n",
       "      <th>diff</th>\n",
       "      <th>z_stat</th>\n",
       "      <th>p_value</th>\n",
       "    </tr>\n",
       "  </thead>\n",
       "  <tbody>\n",
       "    <tr>\n",
       "      <th>0</th>\n",
       "      <td>A1</td>\n",
       "      <td>5291</td>\n",
       "      <td>3778</td>\n",
       "      <td>0.618031</td>\n",
       "      <td>0.478560</td>\n",
       "      <td>0.139471</td>\n",
       "      <td>-34.098330</td>\n",
       "      <td>1.0</td>\n",
       "    </tr>\n",
       "    <tr>\n",
       "      <th>1</th>\n",
       "      <td>A2</td>\n",
       "      <td>5337</td>\n",
       "      <td>4101</td>\n",
       "      <td>0.568297</td>\n",
       "      <td>0.467691</td>\n",
       "      <td>0.100606</td>\n",
       "      <td>-38.513281</td>\n",
       "      <td>1.0</td>\n",
       "    </tr>\n",
       "    <tr>\n",
       "      <th>2</th>\n",
       "      <td>A3</td>\n",
       "      <td>5605</td>\n",
       "      <td>4315</td>\n",
       "      <td>0.509723</td>\n",
       "      <td>0.441483</td>\n",
       "      <td>0.068240</td>\n",
       "      <td>-42.671786</td>\n",
       "      <td>1.0</td>\n",
       "    </tr>\n",
       "    <tr>\n",
       "      <th>3</th>\n",
       "      <td>A4</td>\n",
       "      <td>5980</td>\n",
       "      <td>5133</td>\n",
       "      <td>0.457692</td>\n",
       "      <td>0.351646</td>\n",
       "      <td>0.106046</td>\n",
       "      <td>-42.117054</td>\n",
       "      <td>1.0</td>\n",
       "    </tr>\n",
       "  </tbody>\n",
       "</table>\n",
       "</div>"
      ],
      "text/plain": [
       "  level  n_test  n_control    p_test  p_control      diff     z_stat  p_value\n",
       "0    A1    5291       3778  0.618031   0.478560  0.139471 -34.098330      1.0\n",
       "1    A2    5337       4101  0.568297   0.467691  0.100606 -38.513281      1.0\n",
       "2    A3    5605       4315  0.509723   0.441483  0.068240 -42.671786      1.0\n",
       "3    A4    5980       5133  0.457692   0.351646  0.106046 -42.117054      1.0"
      ]
     },
     "metadata": {},
     "output_type": "display_data"
    }
   ],
   "source": [
    "# By age quantile\n",
    "comp_by_age = stratified_completion_tests(test, control, by_col='clnt_age_quantile', alpha=alpha)\n",
    "display(comp_by_age)"
   ]
  },
  {
   "cell_type": "code",
   "execution_count": 16,
   "id": "41ed97d5",
   "metadata": {},
   "outputs": [
    {
     "data": {
      "text/html": [
       "<div>\n",
       "<style scoped>\n",
       "    .dataframe tbody tr th:only-of-type {\n",
       "        vertical-align: middle;\n",
       "    }\n",
       "\n",
       "    .dataframe tbody tr th {\n",
       "        vertical-align: top;\n",
       "    }\n",
       "\n",
       "    .dataframe thead th {\n",
       "        text-align: right;\n",
       "    }\n",
       "</style>\n",
       "<table border=\"1\" class=\"dataframe\">\n",
       "  <thead>\n",
       "    <tr style=\"text-align: right;\">\n",
       "      <th></th>\n",
       "      <th>level</th>\n",
       "      <th>n_test</th>\n",
       "      <th>n_control</th>\n",
       "      <th>p_test</th>\n",
       "      <th>p_control</th>\n",
       "      <th>diff</th>\n",
       "      <th>z_stat</th>\n",
       "      <th>p_value</th>\n",
       "    </tr>\n",
       "  </thead>\n",
       "  <tbody>\n",
       "    <tr>\n",
       "      <th>0</th>\n",
       "      <td>T1</td>\n",
       "      <td>6110</td>\n",
       "      <td>4570</td>\n",
       "      <td>0.549427</td>\n",
       "      <td>0.425164</td>\n",
       "      <td>0.124263</td>\n",
       "      <td>-38.425467</td>\n",
       "      <td>1.0</td>\n",
       "    </tr>\n",
       "    <tr>\n",
       "      <th>1</th>\n",
       "      <td>T2</td>\n",
       "      <td>5748</td>\n",
       "      <td>4361</td>\n",
       "      <td>0.546625</td>\n",
       "      <td>0.443935</td>\n",
       "      <td>0.102690</td>\n",
       "      <td>-39.569583</td>\n",
       "      <td>1.0</td>\n",
       "    </tr>\n",
       "    <tr>\n",
       "      <th>2</th>\n",
       "      <td>T3</td>\n",
       "      <td>5633</td>\n",
       "      <td>4366</td>\n",
       "      <td>0.531866</td>\n",
       "      <td>0.446404</td>\n",
       "      <td>0.085462</td>\n",
       "      <td>-41.120071</td>\n",
       "      <td>1.0</td>\n",
       "    </tr>\n",
       "    <tr>\n",
       "      <th>3</th>\n",
       "      <td>T4</td>\n",
       "      <td>4722</td>\n",
       "      <td>4030</td>\n",
       "      <td>0.508683</td>\n",
       "      <td>0.399007</td>\n",
       "      <td>0.109675</td>\n",
       "      <td>-36.529373</td>\n",
       "      <td>1.0</td>\n",
       "    </tr>\n",
       "  </tbody>\n",
       "</table>\n",
       "</div>"
      ],
      "text/plain": [
       "  level  n_test  n_control    p_test  p_control      diff     z_stat  p_value\n",
       "0    T1    6110       4570  0.549427   0.425164  0.124263 -38.425467      1.0\n",
       "1    T2    5748       4361  0.546625   0.443935  0.102690 -39.569583      1.0\n",
       "2    T3    5633       4366  0.531866   0.446404  0.085462 -41.120071      1.0\n",
       "3    T4    4722       4030  0.508683   0.399007  0.109675 -36.529373      1.0"
      ]
     },
     "metadata": {},
     "output_type": "display_data"
    }
   ],
   "source": [
    "# By tenure quantile\n",
    "comp_by_tenure = stratified_completion_tests(test, control, by_col='tenure_quantile', alpha=alpha)\n",
    "display(comp_by_tenure)"
   ]
  },
  {
   "cell_type": "code",
   "execution_count": 18,
   "id": "c6bb5c86",
   "metadata": {},
   "outputs": [
    {
     "name": "stdout",
     "output_type": "stream",
     "text": [
      "Completion (TEST > CONTROL): p=4.109e-29 → Reject H0; higher completion in TEST\n",
      "Error rate (TEST < CONTROL): p=1 → Fail to reject H0.\n",
      "Time t_total (TEST faster): p=4.327e-09 → Reject H0; TEST mean time is lower\n"
     ]
    }
   ],
   "source": [
    "decision_line(\"Completion (TEST > CONTROL)\", res_comp['p_value'], alpha, \"higher completion in TEST\")\n",
    "#decision_line(\"≥5pp lift (TEST - CONTROL > 0.05)\", res_comp_5pp['p'], alpha, \"≥5pp improvement confirmed\")\n",
    "decision_line(\"Error rate (TEST < CONTROL)\", res_err['p_value'], alpha, \"lower error rate in TEST\")\n",
    "decision_line(f\"Time {metric} (TEST faster)\", res_time['p_value'], alpha, \"TEST mean time is lower\")"
   ]
  }
 ],
 "metadata": {
  "kernelspec": {
   "display_name": "vanguard_project",
   "language": "python",
   "name": "python3"
  },
  "language_info": {
   "codemirror_mode": {
    "name": "ipython",
    "version": 3
   },
   "file_extension": ".py",
   "mimetype": "text/x-python",
   "name": "python",
   "nbconvert_exporter": "python",
   "pygments_lexer": "ipython3",
   "version": "3.13.5"
  }
 },
 "nbformat": 4,
 "nbformat_minor": 5
}
