{
 "cells": [
  {
   "cell_type": "code",
   "execution_count": null,
   "id": "24093136",
   "metadata": {},
   "outputs": [],
   "source": [
    "# <-- Import libraries, custom functions, and load configuration & datasets <-- #\n",
    "\n",
    "import yaml\n",
    "import datetime as dt\n",
    "import re\n",
    "import pandas as pd\n",
    "import scipy.stats as st\n",
    "import numpy as np\n",
    "import matplotlib.pyplot as plt\n",
    "import plotly.express as px\n",
    "import statsmodels.api as sm\n",
    "import seaborn as sns\n",
    "\n",
    "from statsmodels.multivariate.manova import MANOVA\n",
    "from scipy import stats\n",
    "from scipy.stats import pearsonr, boxcox, chi2_contingency\n",
    "from scipy.stats.contingency import association\n",
    "\n",
    "# <-- Imports custom preprocessing functions from 'functions.py' <-- #\n",
    "\n",
    "# from functions import ()\n",
    "\n",
    "# <-- Loads YAML configuration to dynamically reference CSV output files. <-- #\n",
    "\n",
    "config = None  # <-- Initialize config\n",
    "try:\n",
    "    with open(\"../config.yaml\", \"r\") as file:\n",
    "        config = yaml.safe_load(file)\n",
    "except:\n",
    "    print(\"Yaml configuration file not found!\")\n",
    "\n",
    "\n",
    "df_demo = pd.read_csv(config['input_data']['file1'])\n",
    "df_exp_clients = pd.read_csv(config['input_data']['file2'])\n",
    "df_web_data_pt_1 = pd.read_csv(config['input_data']['file3'])\n",
    "df_web_data_pt_2 = pd.read_csv(config['input_data']['file3'])"
   ]
  },
  {
   "cell_type": "code",
   "execution_count": 4,
   "id": "025c86c6",
   "metadata": {},
   "outputs": [
    {
     "data": {
      "text/html": [
       "<div>\n",
       "<style scoped>\n",
       "    .dataframe tbody tr th:only-of-type {\n",
       "        vertical-align: middle;\n",
       "    }\n",
       "\n",
       "    .dataframe tbody tr th {\n",
       "        vertical-align: top;\n",
       "    }\n",
       "\n",
       "    .dataframe thead th {\n",
       "        text-align: right;\n",
       "    }\n",
       "</style>\n",
       "<table border=\"1\" class=\"dataframe\">\n",
       "  <thead>\n",
       "    <tr style=\"text-align: right;\">\n",
       "      <th></th>\n",
       "      <th>client_id</th>\n",
       "      <th>clnt_tenure_yr</th>\n",
       "      <th>clnt_tenure_mnth</th>\n",
       "      <th>clnt_age</th>\n",
       "      <th>gendr</th>\n",
       "      <th>num_accts</th>\n",
       "      <th>bal</th>\n",
       "      <th>calls_6_mnth</th>\n",
       "      <th>logons_6_mnth</th>\n",
       "    </tr>\n",
       "  </thead>\n",
       "  <tbody>\n",
       "    <tr>\n",
       "      <th>0</th>\n",
       "      <td>836976</td>\n",
       "      <td>6.0</td>\n",
       "      <td>73.0</td>\n",
       "      <td>60.5</td>\n",
       "      <td>U</td>\n",
       "      <td>2.0</td>\n",
       "      <td>45105.30</td>\n",
       "      <td>6.0</td>\n",
       "      <td>9.0</td>\n",
       "    </tr>\n",
       "    <tr>\n",
       "      <th>1</th>\n",
       "      <td>2304905</td>\n",
       "      <td>7.0</td>\n",
       "      <td>94.0</td>\n",
       "      <td>58.0</td>\n",
       "      <td>U</td>\n",
       "      <td>2.0</td>\n",
       "      <td>110860.30</td>\n",
       "      <td>6.0</td>\n",
       "      <td>9.0</td>\n",
       "    </tr>\n",
       "    <tr>\n",
       "      <th>2</th>\n",
       "      <td>1439522</td>\n",
       "      <td>5.0</td>\n",
       "      <td>64.0</td>\n",
       "      <td>32.0</td>\n",
       "      <td>U</td>\n",
       "      <td>2.0</td>\n",
       "      <td>52467.79</td>\n",
       "      <td>6.0</td>\n",
       "      <td>9.0</td>\n",
       "    </tr>\n",
       "    <tr>\n",
       "      <th>3</th>\n",
       "      <td>1562045</td>\n",
       "      <td>16.0</td>\n",
       "      <td>198.0</td>\n",
       "      <td>49.0</td>\n",
       "      <td>M</td>\n",
       "      <td>2.0</td>\n",
       "      <td>67454.65</td>\n",
       "      <td>3.0</td>\n",
       "      <td>6.0</td>\n",
       "    </tr>\n",
       "    <tr>\n",
       "      <th>4</th>\n",
       "      <td>5126305</td>\n",
       "      <td>12.0</td>\n",
       "      <td>145.0</td>\n",
       "      <td>33.0</td>\n",
       "      <td>F</td>\n",
       "      <td>2.0</td>\n",
       "      <td>103671.75</td>\n",
       "      <td>0.0</td>\n",
       "      <td>3.0</td>\n",
       "    </tr>\n",
       "    <tr>\n",
       "      <th>...</th>\n",
       "      <td>...</td>\n",
       "      <td>...</td>\n",
       "      <td>...</td>\n",
       "      <td>...</td>\n",
       "      <td>...</td>\n",
       "      <td>...</td>\n",
       "      <td>...</td>\n",
       "      <td>...</td>\n",
       "      <td>...</td>\n",
       "    </tr>\n",
       "    <tr>\n",
       "      <th>70604</th>\n",
       "      <td>7993686</td>\n",
       "      <td>4.0</td>\n",
       "      <td>56.0</td>\n",
       "      <td>38.5</td>\n",
       "      <td>U</td>\n",
       "      <td>3.0</td>\n",
       "      <td>1411062.68</td>\n",
       "      <td>5.0</td>\n",
       "      <td>5.0</td>\n",
       "    </tr>\n",
       "    <tr>\n",
       "      <th>70605</th>\n",
       "      <td>8981690</td>\n",
       "      <td>12.0</td>\n",
       "      <td>148.0</td>\n",
       "      <td>31.0</td>\n",
       "      <td>M</td>\n",
       "      <td>2.0</td>\n",
       "      <td>101867.07</td>\n",
       "      <td>6.0</td>\n",
       "      <td>6.0</td>\n",
       "    </tr>\n",
       "    <tr>\n",
       "      <th>70606</th>\n",
       "      <td>333913</td>\n",
       "      <td>16.0</td>\n",
       "      <td>198.0</td>\n",
       "      <td>61.5</td>\n",
       "      <td>F</td>\n",
       "      <td>2.0</td>\n",
       "      <td>40745.00</td>\n",
       "      <td>3.0</td>\n",
       "      <td>3.0</td>\n",
       "    </tr>\n",
       "    <tr>\n",
       "      <th>70607</th>\n",
       "      <td>1573142</td>\n",
       "      <td>21.0</td>\n",
       "      <td>255.0</td>\n",
       "      <td>68.0</td>\n",
       "      <td>M</td>\n",
       "      <td>3.0</td>\n",
       "      <td>475114.69</td>\n",
       "      <td>4.0</td>\n",
       "      <td>4.0</td>\n",
       "    </tr>\n",
       "    <tr>\n",
       "      <th>70608</th>\n",
       "      <td>5602139</td>\n",
       "      <td>21.0</td>\n",
       "      <td>254.0</td>\n",
       "      <td>59.5</td>\n",
       "      <td>F</td>\n",
       "      <td>3.0</td>\n",
       "      <td>157498.73</td>\n",
       "      <td>7.0</td>\n",
       "      <td>7.0</td>\n",
       "    </tr>\n",
       "  </tbody>\n",
       "</table>\n",
       "<p>70609 rows × 9 columns</p>\n",
       "</div>"
      ],
      "text/plain": [
       "       client_id  clnt_tenure_yr  clnt_tenure_mnth  clnt_age gendr  num_accts  \\\n",
       "0         836976             6.0              73.0      60.5     U        2.0   \n",
       "1        2304905             7.0              94.0      58.0     U        2.0   \n",
       "2        1439522             5.0              64.0      32.0     U        2.0   \n",
       "3        1562045            16.0             198.0      49.0     M        2.0   \n",
       "4        5126305            12.0             145.0      33.0     F        2.0   \n",
       "...          ...             ...               ...       ...   ...        ...   \n",
       "70604    7993686             4.0              56.0      38.5     U        3.0   \n",
       "70605    8981690            12.0             148.0      31.0     M        2.0   \n",
       "70606     333913            16.0             198.0      61.5     F        2.0   \n",
       "70607    1573142            21.0             255.0      68.0     M        3.0   \n",
       "70608    5602139            21.0             254.0      59.5     F        3.0   \n",
       "\n",
       "              bal  calls_6_mnth  logons_6_mnth  \n",
       "0        45105.30           6.0            9.0  \n",
       "1       110860.30           6.0            9.0  \n",
       "2        52467.79           6.0            9.0  \n",
       "3        67454.65           3.0            6.0  \n",
       "4       103671.75           0.0            3.0  \n",
       "...           ...           ...            ...  \n",
       "70604  1411062.68           5.0            5.0  \n",
       "70605   101867.07           6.0            6.0  \n",
       "70606    40745.00           3.0            3.0  \n",
       "70607   475114.69           4.0            4.0  \n",
       "70608   157498.73           7.0            7.0  \n",
       "\n",
       "[70609 rows x 9 columns]"
      ]
     },
     "execution_count": 4,
     "metadata": {},
     "output_type": "execute_result"
    }
   ],
   "source": [
    "df_demo"
   ]
  },
  {
   "cell_type": "code",
   "execution_count": 5,
   "id": "d9b33980",
   "metadata": {},
   "outputs": [
    {
     "data": {
      "text/html": [
       "<div>\n",
       "<style scoped>\n",
       "    .dataframe tbody tr th:only-of-type {\n",
       "        vertical-align: middle;\n",
       "    }\n",
       "\n",
       "    .dataframe tbody tr th {\n",
       "        vertical-align: top;\n",
       "    }\n",
       "\n",
       "    .dataframe thead th {\n",
       "        text-align: right;\n",
       "    }\n",
       "</style>\n",
       "<table border=\"1\" class=\"dataframe\">\n",
       "  <thead>\n",
       "    <tr style=\"text-align: right;\">\n",
       "      <th></th>\n",
       "      <th>client_id</th>\n",
       "      <th>Variation</th>\n",
       "    </tr>\n",
       "  </thead>\n",
       "  <tbody>\n",
       "    <tr>\n",
       "      <th>0</th>\n",
       "      <td>9988021</td>\n",
       "      <td>Test</td>\n",
       "    </tr>\n",
       "    <tr>\n",
       "      <th>1</th>\n",
       "      <td>8320017</td>\n",
       "      <td>Test</td>\n",
       "    </tr>\n",
       "    <tr>\n",
       "      <th>2</th>\n",
       "      <td>4033851</td>\n",
       "      <td>Control</td>\n",
       "    </tr>\n",
       "    <tr>\n",
       "      <th>3</th>\n",
       "      <td>1982004</td>\n",
       "      <td>Test</td>\n",
       "    </tr>\n",
       "    <tr>\n",
       "      <th>4</th>\n",
       "      <td>9294070</td>\n",
       "      <td>Control</td>\n",
       "    </tr>\n",
       "    <tr>\n",
       "      <th>...</th>\n",
       "      <td>...</td>\n",
       "      <td>...</td>\n",
       "    </tr>\n",
       "    <tr>\n",
       "      <th>70604</th>\n",
       "      <td>2443347</td>\n",
       "      <td>NaN</td>\n",
       "    </tr>\n",
       "    <tr>\n",
       "      <th>70605</th>\n",
       "      <td>8788427</td>\n",
       "      <td>NaN</td>\n",
       "    </tr>\n",
       "    <tr>\n",
       "      <th>70606</th>\n",
       "      <td>266828</td>\n",
       "      <td>NaN</td>\n",
       "    </tr>\n",
       "    <tr>\n",
       "      <th>70607</th>\n",
       "      <td>1266421</td>\n",
       "      <td>NaN</td>\n",
       "    </tr>\n",
       "    <tr>\n",
       "      <th>70608</th>\n",
       "      <td>9895983</td>\n",
       "      <td>NaN</td>\n",
       "    </tr>\n",
       "  </tbody>\n",
       "</table>\n",
       "<p>70609 rows × 2 columns</p>\n",
       "</div>"
      ],
      "text/plain": [
       "       client_id Variation\n",
       "0        9988021      Test\n",
       "1        8320017      Test\n",
       "2        4033851   Control\n",
       "3        1982004      Test\n",
       "4        9294070   Control\n",
       "...          ...       ...\n",
       "70604    2443347       NaN\n",
       "70605    8788427       NaN\n",
       "70606     266828       NaN\n",
       "70607    1266421       NaN\n",
       "70608    9895983       NaN\n",
       "\n",
       "[70609 rows x 2 columns]"
      ]
     },
     "execution_count": 5,
     "metadata": {},
     "output_type": "execute_result"
    }
   ],
   "source": [
    "df_exp_clients"
   ]
  },
  {
   "cell_type": "code",
   "execution_count": 6,
   "id": "5f02b78f",
   "metadata": {},
   "outputs": [
    {
     "data": {
      "text/html": [
       "<div>\n",
       "<style scoped>\n",
       "    .dataframe tbody tr th:only-of-type {\n",
       "        vertical-align: middle;\n",
       "    }\n",
       "\n",
       "    .dataframe tbody tr th {\n",
       "        vertical-align: top;\n",
       "    }\n",
       "\n",
       "    .dataframe thead th {\n",
       "        text-align: right;\n",
       "    }\n",
       "</style>\n",
       "<table border=\"1\" class=\"dataframe\">\n",
       "  <thead>\n",
       "    <tr style=\"text-align: right;\">\n",
       "      <th></th>\n",
       "      <th>non_nulls</th>\n",
       "      <th>nulls</th>\n",
       "      <th>total</th>\n",
       "    </tr>\n",
       "  </thead>\n",
       "  <tbody>\n",
       "    <tr>\n",
       "      <th>client_id</th>\n",
       "      <td>70609</td>\n",
       "      <td>0</td>\n",
       "      <td>70609</td>\n",
       "    </tr>\n",
       "    <tr>\n",
       "      <th>Variation</th>\n",
       "      <td>50500</td>\n",
       "      <td>20109</td>\n",
       "      <td>70609</td>\n",
       "    </tr>\n",
       "  </tbody>\n",
       "</table>\n",
       "</div>"
      ],
      "text/plain": [
       "           non_nulls  nulls  total\n",
       "client_id      70609      0  70609\n",
       "Variation      50500  20109  70609"
      ]
     },
     "metadata": {},
     "output_type": "display_data"
    }
   ],
   "source": [
    "display(pd.DataFrame({\n",
    "    \"non_nulls\": df_exp_clients.count(),\n",
    "    \"nulls\": df_exp_clients.isnull().sum(),\n",
    "    \"total\": len(df_exp_clients)\n",
    "}))"
   ]
  },
  {
   "cell_type": "code",
   "execution_count": 7,
   "id": "ced8e7ee",
   "metadata": {},
   "outputs": [],
   "source": [
    "df_exp_clients.dropna(inplace=True)"
   ]
  },
  {
   "cell_type": "code",
   "execution_count": 8,
   "id": "2c0d51d0",
   "metadata": {},
   "outputs": [
    {
     "data": {
      "text/plain": [
       "((50500, 2),\n",
       " client_id    0\n",
       " Variation    0\n",
       " dtype: int64)"
      ]
     },
     "execution_count": 8,
     "metadata": {},
     "output_type": "execute_result"
    }
   ],
   "source": [
    "# Drop rows of clients not inlcuded in the experiment\n",
    "df_exp_clients.shape, df_exp_clients.isnull().sum()"
   ]
  },
  {
   "cell_type": "code",
   "execution_count": 9,
   "id": "491be6d0",
   "metadata": {},
   "outputs": [
    {
     "data": {
      "text/html": [
       "<div>\n",
       "<style scoped>\n",
       "    .dataframe tbody tr th:only-of-type {\n",
       "        vertical-align: middle;\n",
       "    }\n",
       "\n",
       "    .dataframe tbody tr th {\n",
       "        vertical-align: top;\n",
       "    }\n",
       "\n",
       "    .dataframe thead th {\n",
       "        text-align: right;\n",
       "    }\n",
       "</style>\n",
       "<table border=\"1\" class=\"dataframe\">\n",
       "  <thead>\n",
       "    <tr style=\"text-align: right;\">\n",
       "      <th></th>\n",
       "      <th>client_id</th>\n",
       "      <th>Variation</th>\n",
       "    </tr>\n",
       "  </thead>\n",
       "  <tbody>\n",
       "    <tr>\n",
       "      <th>38552</th>\n",
       "      <td>4666211</td>\n",
       "      <td>Control</td>\n",
       "    </tr>\n",
       "  </tbody>\n",
       "</table>\n",
       "</div>"
      ],
      "text/plain": [
       "       client_id Variation\n",
       "38552    4666211   Control"
      ]
     },
     "execution_count": 9,
     "metadata": {},
     "output_type": "execute_result"
    }
   ],
   "source": [
    "# client_id == 4666211 [only client with not age]\n",
    "df_exp_clients[df_exp_clients['client_id'] == 4666211]"
   ]
  },
  {
   "cell_type": "code",
   "execution_count": 10,
   "id": "7e26a1f9",
   "metadata": {},
   "outputs": [
    {
     "data": {
      "text/html": [
       "<div>\n",
       "<style scoped>\n",
       "    .dataframe tbody tr th:only-of-type {\n",
       "        vertical-align: middle;\n",
       "    }\n",
       "\n",
       "    .dataframe tbody tr th {\n",
       "        vertical-align: top;\n",
       "    }\n",
       "\n",
       "    .dataframe thead th {\n",
       "        text-align: right;\n",
       "    }\n",
       "</style>\n",
       "<table border=\"1\" class=\"dataframe\">\n",
       "  <thead>\n",
       "    <tr style=\"text-align: right;\">\n",
       "      <th></th>\n",
       "      <th>client_id</th>\n",
       "      <th>visitor_id</th>\n",
       "      <th>visit_id</th>\n",
       "      <th>process_step</th>\n",
       "      <th>date_time</th>\n",
       "    </tr>\n",
       "  </thead>\n",
       "  <tbody>\n",
       "    <tr>\n",
       "      <th>0</th>\n",
       "      <td>9988021</td>\n",
       "      <td>580560515_7732621733</td>\n",
       "      <td>781255054_21935453173_531117</td>\n",
       "      <td>step_3</td>\n",
       "      <td>2017-04-17 15:27:07</td>\n",
       "    </tr>\n",
       "    <tr>\n",
       "      <th>1</th>\n",
       "      <td>9988021</td>\n",
       "      <td>580560515_7732621733</td>\n",
       "      <td>781255054_21935453173_531117</td>\n",
       "      <td>step_2</td>\n",
       "      <td>2017-04-17 15:26:51</td>\n",
       "    </tr>\n",
       "    <tr>\n",
       "      <th>2</th>\n",
       "      <td>9988021</td>\n",
       "      <td>580560515_7732621733</td>\n",
       "      <td>781255054_21935453173_531117</td>\n",
       "      <td>step_3</td>\n",
       "      <td>2017-04-17 15:19:22</td>\n",
       "    </tr>\n",
       "    <tr>\n",
       "      <th>3</th>\n",
       "      <td>9988021</td>\n",
       "      <td>580560515_7732621733</td>\n",
       "      <td>781255054_21935453173_531117</td>\n",
       "      <td>step_2</td>\n",
       "      <td>2017-04-17 15:19:13</td>\n",
       "    </tr>\n",
       "    <tr>\n",
       "      <th>4</th>\n",
       "      <td>9988021</td>\n",
       "      <td>580560515_7732621733</td>\n",
       "      <td>781255054_21935453173_531117</td>\n",
       "      <td>step_3</td>\n",
       "      <td>2017-04-17 15:18:04</td>\n",
       "    </tr>\n",
       "    <tr>\n",
       "      <th>...</th>\n",
       "      <td>...</td>\n",
       "      <td>...</td>\n",
       "      <td>...</td>\n",
       "      <td>...</td>\n",
       "      <td>...</td>\n",
       "    </tr>\n",
       "    <tr>\n",
       "      <th>343136</th>\n",
       "      <td>2443347</td>\n",
       "      <td>465784886_73090545671</td>\n",
       "      <td>136329900_10529659391_316129</td>\n",
       "      <td>confirm</td>\n",
       "      <td>2017-03-31 15:15:46</td>\n",
       "    </tr>\n",
       "    <tr>\n",
       "      <th>343137</th>\n",
       "      <td>2443347</td>\n",
       "      <td>465784886_73090545671</td>\n",
       "      <td>136329900_10529659391_316129</td>\n",
       "      <td>step_3</td>\n",
       "      <td>2017-03-31 15:14:53</td>\n",
       "    </tr>\n",
       "    <tr>\n",
       "      <th>343138</th>\n",
       "      <td>2443347</td>\n",
       "      <td>465784886_73090545671</td>\n",
       "      <td>136329900_10529659391_316129</td>\n",
       "      <td>step_2</td>\n",
       "      <td>2017-03-31 15:12:08</td>\n",
       "    </tr>\n",
       "    <tr>\n",
       "      <th>343139</th>\n",
       "      <td>2443347</td>\n",
       "      <td>465784886_73090545671</td>\n",
       "      <td>136329900_10529659391_316129</td>\n",
       "      <td>step_1</td>\n",
       "      <td>2017-03-31 15:11:37</td>\n",
       "    </tr>\n",
       "    <tr>\n",
       "      <th>343140</th>\n",
       "      <td>2443347</td>\n",
       "      <td>465784886_73090545671</td>\n",
       "      <td>136329900_10529659391_316129</td>\n",
       "      <td>start</td>\n",
       "      <td>2017-03-31 15:10:47</td>\n",
       "    </tr>\n",
       "  </tbody>\n",
       "</table>\n",
       "<p>343141 rows × 5 columns</p>\n",
       "</div>"
      ],
      "text/plain": [
       "        client_id             visitor_id                      visit_id  \\\n",
       "0         9988021   580560515_7732621733  781255054_21935453173_531117   \n",
       "1         9988021   580560515_7732621733  781255054_21935453173_531117   \n",
       "2         9988021   580560515_7732621733  781255054_21935453173_531117   \n",
       "3         9988021   580560515_7732621733  781255054_21935453173_531117   \n",
       "4         9988021   580560515_7732621733  781255054_21935453173_531117   \n",
       "...           ...                    ...                           ...   \n",
       "343136    2443347  465784886_73090545671  136329900_10529659391_316129   \n",
       "343137    2443347  465784886_73090545671  136329900_10529659391_316129   \n",
       "343138    2443347  465784886_73090545671  136329900_10529659391_316129   \n",
       "343139    2443347  465784886_73090545671  136329900_10529659391_316129   \n",
       "343140    2443347  465784886_73090545671  136329900_10529659391_316129   \n",
       "\n",
       "       process_step            date_time  \n",
       "0            step_3  2017-04-17 15:27:07  \n",
       "1            step_2  2017-04-17 15:26:51  \n",
       "2            step_3  2017-04-17 15:19:22  \n",
       "3            step_2  2017-04-17 15:19:13  \n",
       "4            step_3  2017-04-17 15:18:04  \n",
       "...             ...                  ...  \n",
       "343136      confirm  2017-03-31 15:15:46  \n",
       "343137       step_3  2017-03-31 15:14:53  \n",
       "343138       step_2  2017-03-31 15:12:08  \n",
       "343139       step_1  2017-03-31 15:11:37  \n",
       "343140        start  2017-03-31 15:10:47  \n",
       "\n",
       "[343141 rows x 5 columns]"
      ]
     },
     "execution_count": 10,
     "metadata": {},
     "output_type": "execute_result"
    }
   ],
   "source": [
    "df_web_data_pt_1"
   ]
  },
  {
   "cell_type": "code",
   "execution_count": 11,
   "id": "95f9789f",
   "metadata": {},
   "outputs": [
    {
     "data": {
      "text/html": [
       "<div>\n",
       "<style scoped>\n",
       "    .dataframe tbody tr th:only-of-type {\n",
       "        vertical-align: middle;\n",
       "    }\n",
       "\n",
       "    .dataframe tbody tr th {\n",
       "        vertical-align: top;\n",
       "    }\n",
       "\n",
       "    .dataframe thead th {\n",
       "        text-align: right;\n",
       "    }\n",
       "</style>\n",
       "<table border=\"1\" class=\"dataframe\">\n",
       "  <thead>\n",
       "    <tr style=\"text-align: right;\">\n",
       "      <th></th>\n",
       "      <th>client_id</th>\n",
       "      <th>visitor_id</th>\n",
       "      <th>visit_id</th>\n",
       "      <th>process_step</th>\n",
       "      <th>date_time</th>\n",
       "    </tr>\n",
       "  </thead>\n",
       "  <tbody>\n",
       "    <tr>\n",
       "      <th>0</th>\n",
       "      <td>9988021</td>\n",
       "      <td>580560515_7732621733</td>\n",
       "      <td>781255054_21935453173_531117</td>\n",
       "      <td>step_3</td>\n",
       "      <td>2017-04-17 15:27:07</td>\n",
       "    </tr>\n",
       "    <tr>\n",
       "      <th>1</th>\n",
       "      <td>9988021</td>\n",
       "      <td>580560515_7732621733</td>\n",
       "      <td>781255054_21935453173_531117</td>\n",
       "      <td>step_2</td>\n",
       "      <td>2017-04-17 15:26:51</td>\n",
       "    </tr>\n",
       "    <tr>\n",
       "      <th>2</th>\n",
       "      <td>9988021</td>\n",
       "      <td>580560515_7732621733</td>\n",
       "      <td>781255054_21935453173_531117</td>\n",
       "      <td>step_3</td>\n",
       "      <td>2017-04-17 15:19:22</td>\n",
       "    </tr>\n",
       "    <tr>\n",
       "      <th>3</th>\n",
       "      <td>9988021</td>\n",
       "      <td>580560515_7732621733</td>\n",
       "      <td>781255054_21935453173_531117</td>\n",
       "      <td>step_2</td>\n",
       "      <td>2017-04-17 15:19:13</td>\n",
       "    </tr>\n",
       "    <tr>\n",
       "      <th>4</th>\n",
       "      <td>9988021</td>\n",
       "      <td>580560515_7732621733</td>\n",
       "      <td>781255054_21935453173_531117</td>\n",
       "      <td>step_3</td>\n",
       "      <td>2017-04-17 15:18:04</td>\n",
       "    </tr>\n",
       "    <tr>\n",
       "      <th>...</th>\n",
       "      <td>...</td>\n",
       "      <td>...</td>\n",
       "      <td>...</td>\n",
       "      <td>...</td>\n",
       "      <td>...</td>\n",
       "    </tr>\n",
       "    <tr>\n",
       "      <th>343136</th>\n",
       "      <td>2443347</td>\n",
       "      <td>465784886_73090545671</td>\n",
       "      <td>136329900_10529659391_316129</td>\n",
       "      <td>confirm</td>\n",
       "      <td>2017-03-31 15:15:46</td>\n",
       "    </tr>\n",
       "    <tr>\n",
       "      <th>343137</th>\n",
       "      <td>2443347</td>\n",
       "      <td>465784886_73090545671</td>\n",
       "      <td>136329900_10529659391_316129</td>\n",
       "      <td>step_3</td>\n",
       "      <td>2017-03-31 15:14:53</td>\n",
       "    </tr>\n",
       "    <tr>\n",
       "      <th>343138</th>\n",
       "      <td>2443347</td>\n",
       "      <td>465784886_73090545671</td>\n",
       "      <td>136329900_10529659391_316129</td>\n",
       "      <td>step_2</td>\n",
       "      <td>2017-03-31 15:12:08</td>\n",
       "    </tr>\n",
       "    <tr>\n",
       "      <th>343139</th>\n",
       "      <td>2443347</td>\n",
       "      <td>465784886_73090545671</td>\n",
       "      <td>136329900_10529659391_316129</td>\n",
       "      <td>step_1</td>\n",
       "      <td>2017-03-31 15:11:37</td>\n",
       "    </tr>\n",
       "    <tr>\n",
       "      <th>343140</th>\n",
       "      <td>2443347</td>\n",
       "      <td>465784886_73090545671</td>\n",
       "      <td>136329900_10529659391_316129</td>\n",
       "      <td>start</td>\n",
       "      <td>2017-03-31 15:10:47</td>\n",
       "    </tr>\n",
       "  </tbody>\n",
       "</table>\n",
       "<p>343141 rows × 5 columns</p>\n",
       "</div>"
      ],
      "text/plain": [
       "        client_id             visitor_id                      visit_id  \\\n",
       "0         9988021   580560515_7732621733  781255054_21935453173_531117   \n",
       "1         9988021   580560515_7732621733  781255054_21935453173_531117   \n",
       "2         9988021   580560515_7732621733  781255054_21935453173_531117   \n",
       "3         9988021   580560515_7732621733  781255054_21935453173_531117   \n",
       "4         9988021   580560515_7732621733  781255054_21935453173_531117   \n",
       "...           ...                    ...                           ...   \n",
       "343136    2443347  465784886_73090545671  136329900_10529659391_316129   \n",
       "343137    2443347  465784886_73090545671  136329900_10529659391_316129   \n",
       "343138    2443347  465784886_73090545671  136329900_10529659391_316129   \n",
       "343139    2443347  465784886_73090545671  136329900_10529659391_316129   \n",
       "343140    2443347  465784886_73090545671  136329900_10529659391_316129   \n",
       "\n",
       "       process_step            date_time  \n",
       "0            step_3  2017-04-17 15:27:07  \n",
       "1            step_2  2017-04-17 15:26:51  \n",
       "2            step_3  2017-04-17 15:19:22  \n",
       "3            step_2  2017-04-17 15:19:13  \n",
       "4            step_3  2017-04-17 15:18:04  \n",
       "...             ...                  ...  \n",
       "343136      confirm  2017-03-31 15:15:46  \n",
       "343137       step_3  2017-03-31 15:14:53  \n",
       "343138       step_2  2017-03-31 15:12:08  \n",
       "343139       step_1  2017-03-31 15:11:37  \n",
       "343140        start  2017-03-31 15:10:47  \n",
       "\n",
       "[343141 rows x 5 columns]"
      ]
     },
     "execution_count": 11,
     "metadata": {},
     "output_type": "execute_result"
    }
   ],
   "source": [
    "df_web_data_pt_2"
   ]
  },
  {
   "cell_type": "code",
   "execution_count": 12,
   "id": "dcefcf56",
   "metadata": {},
   "outputs": [
    {
     "name": "stdout",
     "output_type": "stream",
     "text": [
      "Combined shape: (341046, 5)\n",
      "Original shapes: (343141, 5) + (343141, 5)\n"
     ]
    },
    {
     "data": {
      "text/html": [
       "<div>\n",
       "<style scoped>\n",
       "    .dataframe tbody tr th:only-of-type {\n",
       "        vertical-align: middle;\n",
       "    }\n",
       "\n",
       "    .dataframe tbody tr th {\n",
       "        vertical-align: top;\n",
       "    }\n",
       "\n",
       "    .dataframe thead th {\n",
       "        text-align: right;\n",
       "    }\n",
       "</style>\n",
       "<table border=\"1\" class=\"dataframe\">\n",
       "  <thead>\n",
       "    <tr style=\"text-align: right;\">\n",
       "      <th></th>\n",
       "      <th>client_id</th>\n",
       "      <th>visitor_id</th>\n",
       "      <th>visit_id</th>\n",
       "      <th>process_step</th>\n",
       "      <th>date_time</th>\n",
       "    </tr>\n",
       "  </thead>\n",
       "  <tbody>\n",
       "    <tr>\n",
       "      <th>0</th>\n",
       "      <td>9988021</td>\n",
       "      <td>580560515_7732621733</td>\n",
       "      <td>781255054_21935453173_531117</td>\n",
       "      <td>step_3</td>\n",
       "      <td>2017-04-17 15:27:07</td>\n",
       "    </tr>\n",
       "    <tr>\n",
       "      <th>1</th>\n",
       "      <td>9988021</td>\n",
       "      <td>580560515_7732621733</td>\n",
       "      <td>781255054_21935453173_531117</td>\n",
       "      <td>step_2</td>\n",
       "      <td>2017-04-17 15:26:51</td>\n",
       "    </tr>\n",
       "    <tr>\n",
       "      <th>2</th>\n",
       "      <td>9988021</td>\n",
       "      <td>580560515_7732621733</td>\n",
       "      <td>781255054_21935453173_531117</td>\n",
       "      <td>step_3</td>\n",
       "      <td>2017-04-17 15:19:22</td>\n",
       "    </tr>\n",
       "    <tr>\n",
       "      <th>3</th>\n",
       "      <td>9988021</td>\n",
       "      <td>580560515_7732621733</td>\n",
       "      <td>781255054_21935453173_531117</td>\n",
       "      <td>step_2</td>\n",
       "      <td>2017-04-17 15:19:13</td>\n",
       "    </tr>\n",
       "    <tr>\n",
       "      <th>4</th>\n",
       "      <td>9988021</td>\n",
       "      <td>580560515_7732621733</td>\n",
       "      <td>781255054_21935453173_531117</td>\n",
       "      <td>step_3</td>\n",
       "      <td>2017-04-17 15:18:04</td>\n",
       "    </tr>\n",
       "    <tr>\n",
       "      <th>...</th>\n",
       "      <td>...</td>\n",
       "      <td>...</td>\n",
       "      <td>...</td>\n",
       "      <td>...</td>\n",
       "      <td>...</td>\n",
       "    </tr>\n",
       "    <tr>\n",
       "      <th>341041</th>\n",
       "      <td>2443347</td>\n",
       "      <td>465784886_73090545671</td>\n",
       "      <td>136329900_10529659391_316129</td>\n",
       "      <td>confirm</td>\n",
       "      <td>2017-03-31 15:15:46</td>\n",
       "    </tr>\n",
       "    <tr>\n",
       "      <th>341042</th>\n",
       "      <td>2443347</td>\n",
       "      <td>465784886_73090545671</td>\n",
       "      <td>136329900_10529659391_316129</td>\n",
       "      <td>step_3</td>\n",
       "      <td>2017-03-31 15:14:53</td>\n",
       "    </tr>\n",
       "    <tr>\n",
       "      <th>341043</th>\n",
       "      <td>2443347</td>\n",
       "      <td>465784886_73090545671</td>\n",
       "      <td>136329900_10529659391_316129</td>\n",
       "      <td>step_2</td>\n",
       "      <td>2017-03-31 15:12:08</td>\n",
       "    </tr>\n",
       "    <tr>\n",
       "      <th>341044</th>\n",
       "      <td>2443347</td>\n",
       "      <td>465784886_73090545671</td>\n",
       "      <td>136329900_10529659391_316129</td>\n",
       "      <td>step_1</td>\n",
       "      <td>2017-03-31 15:11:37</td>\n",
       "    </tr>\n",
       "    <tr>\n",
       "      <th>341045</th>\n",
       "      <td>2443347</td>\n",
       "      <td>465784886_73090545671</td>\n",
       "      <td>136329900_10529659391_316129</td>\n",
       "      <td>start</td>\n",
       "      <td>2017-03-31 15:10:47</td>\n",
       "    </tr>\n",
       "  </tbody>\n",
       "</table>\n",
       "<p>341046 rows × 5 columns</p>\n",
       "</div>"
      ],
      "text/plain": [
       "        client_id             visitor_id                      visit_id  \\\n",
       "0         9988021   580560515_7732621733  781255054_21935453173_531117   \n",
       "1         9988021   580560515_7732621733  781255054_21935453173_531117   \n",
       "2         9988021   580560515_7732621733  781255054_21935453173_531117   \n",
       "3         9988021   580560515_7732621733  781255054_21935453173_531117   \n",
       "4         9988021   580560515_7732621733  781255054_21935453173_531117   \n",
       "...           ...                    ...                           ...   \n",
       "341041    2443347  465784886_73090545671  136329900_10529659391_316129   \n",
       "341042    2443347  465784886_73090545671  136329900_10529659391_316129   \n",
       "341043    2443347  465784886_73090545671  136329900_10529659391_316129   \n",
       "341044    2443347  465784886_73090545671  136329900_10529659391_316129   \n",
       "341045    2443347  465784886_73090545671  136329900_10529659391_316129   \n",
       "\n",
       "       process_step            date_time  \n",
       "0            step_3  2017-04-17 15:27:07  \n",
       "1            step_2  2017-04-17 15:26:51  \n",
       "2            step_3  2017-04-17 15:19:22  \n",
       "3            step_2  2017-04-17 15:19:13  \n",
       "4            step_3  2017-04-17 15:18:04  \n",
       "...             ...                  ...  \n",
       "341041      confirm  2017-03-31 15:15:46  \n",
       "341042       step_3  2017-03-31 15:14:53  \n",
       "341043       step_2  2017-03-31 15:12:08  \n",
       "341044       step_1  2017-03-31 15:11:37  \n",
       "341045        start  2017-03-31 15:10:47  \n",
       "\n",
       "[341046 rows x 5 columns]"
      ]
     },
     "execution_count": 12,
     "metadata": {},
     "output_type": "execute_result"
    }
   ],
   "source": [
    "# Concatenate the two web data parts vertically and drop duplicates\n",
    "df_web_data = pd.concat([df_web_data_pt_1, df_web_data_pt_2], ignore_index=True).drop_duplicates().reset_index(drop=True)\n",
    "print(f\"Combined shape: {df_web_data.shape}\")\n",
    "print(f\"Original shapes: {df_web_data_pt_1.shape} + {df_web_data_pt_2.shape}\")\n",
    "df_web_data"
   ]
  },
  {
   "cell_type": "code",
   "execution_count": 13,
   "id": "c6f0de91",
   "metadata": {},
   "outputs": [
    {
     "data": {
      "text/plain": [
       "Index(['client_id', 'clnt_tenure_yr', 'clnt_tenure_mnth', 'clnt_age', 'gendr',\n",
       "       'num_accts', 'bal', 'calls_6_mnth', 'logons_6_mnth'],\n",
       "      dtype='object')"
      ]
     },
     "execution_count": 13,
     "metadata": {},
     "output_type": "execute_result"
    }
   ],
   "source": [
    "df_demo.columns"
   ]
  },
  {
   "cell_type": "code",
   "execution_count": 14,
   "id": "86ba66cd",
   "metadata": {},
   "outputs": [
    {
     "data": {
      "text/plain": [
       "Index(['client_id', 'Variation'], dtype='object')"
      ]
     },
     "execution_count": 14,
     "metadata": {},
     "output_type": "execute_result"
    }
   ],
   "source": [
    "df_exp_clients.columns"
   ]
  },
  {
   "cell_type": "code",
   "execution_count": 15,
   "id": "149f107b",
   "metadata": {},
   "outputs": [
    {
     "data": {
      "text/plain": [
       "client_id           70609\n",
       "bal                 70328\n",
       "clnt_tenure_mnth      482\n",
       "clnt_age              165\n",
       "clnt_tenure_yr         54\n",
       "logons_6_mnth           9\n",
       "num_accts               8\n",
       "calls_6_mnth            8\n",
       "dtype: int64"
      ]
     },
     "execution_count": 15,
     "metadata": {},
     "output_type": "execute_result"
    }
   ],
   "source": [
    "# Counting and sorting the unique values for each numerical column in descending order\n",
    "df_demo.select_dtypes(\"number\").nunique().sort_values(ascending=False)"
   ]
  },
  {
   "cell_type": "code",
   "execution_count": 16,
   "id": "12618093",
   "metadata": {},
   "outputs": [
    {
     "data": {
      "text/html": [
       "<div>\n",
       "<style scoped>\n",
       "    .dataframe tbody tr th:only-of-type {\n",
       "        vertical-align: middle;\n",
       "    }\n",
       "\n",
       "    .dataframe tbody tr th {\n",
       "        vertical-align: top;\n",
       "    }\n",
       "\n",
       "    .dataframe thead th {\n",
       "        text-align: right;\n",
       "    }\n",
       "</style>\n",
       "<table border=\"1\" class=\"dataframe\">\n",
       "  <thead>\n",
       "    <tr style=\"text-align: right;\">\n",
       "      <th></th>\n",
       "      <th>non_nulls</th>\n",
       "      <th>nulls</th>\n",
       "      <th>total</th>\n",
       "    </tr>\n",
       "  </thead>\n",
       "  <tbody>\n",
       "    <tr>\n",
       "      <th>client_id</th>\n",
       "      <td>70609</td>\n",
       "      <td>0</td>\n",
       "      <td>70609</td>\n",
       "    </tr>\n",
       "    <tr>\n",
       "      <th>clnt_tenure_yr</th>\n",
       "      <td>70595</td>\n",
       "      <td>14</td>\n",
       "      <td>70609</td>\n",
       "    </tr>\n",
       "    <tr>\n",
       "      <th>clnt_tenure_mnth</th>\n",
       "      <td>70595</td>\n",
       "      <td>14</td>\n",
       "      <td>70609</td>\n",
       "    </tr>\n",
       "    <tr>\n",
       "      <th>clnt_age</th>\n",
       "      <td>70594</td>\n",
       "      <td>15</td>\n",
       "      <td>70609</td>\n",
       "    </tr>\n",
       "    <tr>\n",
       "      <th>gendr</th>\n",
       "      <td>70595</td>\n",
       "      <td>14</td>\n",
       "      <td>70609</td>\n",
       "    </tr>\n",
       "    <tr>\n",
       "      <th>num_accts</th>\n",
       "      <td>70595</td>\n",
       "      <td>14</td>\n",
       "      <td>70609</td>\n",
       "    </tr>\n",
       "    <tr>\n",
       "      <th>bal</th>\n",
       "      <td>70595</td>\n",
       "      <td>14</td>\n",
       "      <td>70609</td>\n",
       "    </tr>\n",
       "    <tr>\n",
       "      <th>calls_6_mnth</th>\n",
       "      <td>70595</td>\n",
       "      <td>14</td>\n",
       "      <td>70609</td>\n",
       "    </tr>\n",
       "    <tr>\n",
       "      <th>logons_6_mnth</th>\n",
       "      <td>70595</td>\n",
       "      <td>14</td>\n",
       "      <td>70609</td>\n",
       "    </tr>\n",
       "  </tbody>\n",
       "</table>\n",
       "</div>"
      ],
      "text/plain": [
       "                  non_nulls  nulls  total\n",
       "client_id             70609      0  70609\n",
       "clnt_tenure_yr        70595     14  70609\n",
       "clnt_tenure_mnth      70595     14  70609\n",
       "clnt_age              70594     15  70609\n",
       "gendr                 70595     14  70609\n",
       "num_accts             70595     14  70609\n",
       "bal                   70595     14  70609\n",
       "calls_6_mnth          70595     14  70609\n",
       "logons_6_mnth         70595     14  70609"
      ]
     },
     "metadata": {},
     "output_type": "display_data"
    }
   ],
   "source": [
    "display(pd.DataFrame({\n",
    "    \"non_nulls\": df_demo.count(),\n",
    "    \"nulls\": df_demo.isnull().sum(),\n",
    "    \"total\": len(df_demo)\n",
    "}))"
   ]
  },
  {
   "cell_type": "code",
   "execution_count": 17,
   "id": "ec158c0f",
   "metadata": {},
   "outputs": [],
   "source": [
    "# Drop the rows are missing elements.\n",
    "df_demo.dropna(thresh=7, inplace=True)"
   ]
  },
  {
   "cell_type": "code",
   "execution_count": 18,
   "id": "bbef0bf8",
   "metadata": {},
   "outputs": [
    {
     "data": {
      "text/plain": [
       "((70595, 9),\n",
       " client_id           0\n",
       " clnt_tenure_yr      0\n",
       " clnt_tenure_mnth    0\n",
       " clnt_age            1\n",
       " gendr               0\n",
       " num_accts           0\n",
       " bal                 0\n",
       " calls_6_mnth        0\n",
       " logons_6_mnth       0\n",
       " dtype: int64)"
      ]
     },
     "execution_count": 18,
     "metadata": {},
     "output_type": "execute_result"
    }
   ],
   "source": [
    "df_demo.shape, df_demo.isnull().sum()"
   ]
  },
  {
   "cell_type": "code",
   "execution_count": 19,
   "id": "81b1e846",
   "metadata": {},
   "outputs": [
    {
     "data": {
      "text/plain": [
       "client_id           70595\n",
       "clnt_tenure_yr      70595\n",
       "clnt_tenure_mnth    70595\n",
       "clnt_age            70594\n",
       "gendr               70595\n",
       "num_accts           70595\n",
       "bal                 70595\n",
       "calls_6_mnth        70595\n",
       "logons_6_mnth       70595\n",
       "dtype: int64"
      ]
     },
     "execution_count": 19,
     "metadata": {},
     "output_type": "execute_result"
    }
   ],
   "source": [
    "df_demo.drop_duplicates(subset='client_id').count()"
   ]
  },
  {
   "cell_type": "code",
   "execution_count": 20,
   "id": "291ebc31",
   "metadata": {},
   "outputs": [
    {
     "data": {
      "text/html": [
       "<div>\n",
       "<style scoped>\n",
       "    .dataframe tbody tr th:only-of-type {\n",
       "        vertical-align: middle;\n",
       "    }\n",
       "\n",
       "    .dataframe tbody tr th {\n",
       "        vertical-align: top;\n",
       "    }\n",
       "\n",
       "    .dataframe thead th {\n",
       "        text-align: right;\n",
       "    }\n",
       "</style>\n",
       "<table border=\"1\" class=\"dataframe\">\n",
       "  <thead>\n",
       "    <tr style=\"text-align: right;\">\n",
       "      <th></th>\n",
       "      <th>non_nulls</th>\n",
       "      <th>nulls</th>\n",
       "      <th>total</th>\n",
       "    </tr>\n",
       "  </thead>\n",
       "  <tbody>\n",
       "    <tr>\n",
       "      <th>client_id</th>\n",
       "      <td>50500</td>\n",
       "      <td>0</td>\n",
       "      <td>50500</td>\n",
       "    </tr>\n",
       "    <tr>\n",
       "      <th>Variation</th>\n",
       "      <td>50500</td>\n",
       "      <td>0</td>\n",
       "      <td>50500</td>\n",
       "    </tr>\n",
       "  </tbody>\n",
       "</table>\n",
       "</div>"
      ],
      "text/plain": [
       "           non_nulls  nulls  total\n",
       "client_id      50500      0  50500\n",
       "Variation      50500      0  50500"
      ]
     },
     "metadata": {},
     "output_type": "display_data"
    }
   ],
   "source": [
    "display(pd.DataFrame({\n",
    "    \"non_nulls\": df_exp_clients.count(),\n",
    "    \"nulls\": df_exp_clients.isnull().sum(),\n",
    "    \"total\": len(df_exp_clients)\n",
    "}))"
   ]
  },
  {
   "cell_type": "code",
   "execution_count": 21,
   "id": "87684f00",
   "metadata": {},
   "outputs": [
    {
     "data": {
      "text/html": [
       "<div>\n",
       "<style scoped>\n",
       "    .dataframe tbody tr th:only-of-type {\n",
       "        vertical-align: middle;\n",
       "    }\n",
       "\n",
       "    .dataframe tbody tr th {\n",
       "        vertical-align: top;\n",
       "    }\n",
       "\n",
       "    .dataframe thead th {\n",
       "        text-align: right;\n",
       "    }\n",
       "</style>\n",
       "<table border=\"1\" class=\"dataframe\">\n",
       "  <thead>\n",
       "    <tr style=\"text-align: right;\">\n",
       "      <th></th>\n",
       "      <th>mean</th>\n",
       "      <th>median</th>\n",
       "      <th>mode</th>\n",
       "      <th>sd</th>\n",
       "    </tr>\n",
       "  </thead>\n",
       "  <tbody>\n",
       "    <tr>\n",
       "      <th>0</th>\n",
       "      <td>46.44224</td>\n",
       "      <td>47.0</td>\n",
       "      <td>58.5</td>\n",
       "      <td>15.591273</td>\n",
       "    </tr>\n",
       "  </tbody>\n",
       "</table>\n",
       "</div>"
      ],
      "text/plain": [
       "       mean  median  mode         sd\n",
       "0  46.44224    47.0  58.5  15.591273"
      ]
     },
     "metadata": {},
     "output_type": "display_data"
    }
   ],
   "source": [
    "# Calculate the mean, median, mode, variance, and standard deviation of 'clnt_age'.\n",
    "data={\"mean\": [df_demo['clnt_age'].mean()], \"median\": [df_demo['clnt_age'].median()],\n",
    " \"mode\": [df_demo['clnt_age'].mode()[0]], \"sd\": [df_demo['clnt_age'].std()]}\n",
    "display(pd.DataFrame(data))"
   ]
  },
  {
   "cell_type": "code",
   "execution_count": 22,
   "id": "5655c7a7",
   "metadata": {},
   "outputs": [
    {
     "data": {
      "text/plain": [
       "clnt_age_quantile\n",
       "A3    18041\n",
       "A1    17853\n",
       "A2    17674\n",
       "A4    17026\n",
       "Name: count, dtype: int64"
      ]
     },
     "execution_count": 22,
     "metadata": {},
     "output_type": "execute_result"
    }
   ],
   "source": [
    "# Discretizing 'clnt_age' into quartiles\n",
    "df_demo['clnt_age_quantile'] = pd.qcut(df_demo['clnt_age'], q=4, labels=['A1', 'A2', 'A3', 'A4'])\n",
    "df_demo.clnt_age_quantile.value_counts()"
   ]
  },
  {
   "cell_type": "code",
   "execution_count": 23,
   "id": "f42f2fb7",
   "metadata": {},
   "outputs": [
    {
     "data": {
      "text/html": [
       "<div>\n",
       "<style scoped>\n",
       "    .dataframe tbody tr th:only-of-type {\n",
       "        vertical-align: middle;\n",
       "    }\n",
       "\n",
       "    .dataframe tbody tr th {\n",
       "        vertical-align: top;\n",
       "    }\n",
       "\n",
       "    .dataframe thead th {\n",
       "        text-align: right;\n",
       "    }\n",
       "</style>\n",
       "<table border=\"1\" class=\"dataframe\">\n",
       "  <thead>\n",
       "    <tr style=\"text-align: right;\">\n",
       "      <th></th>\n",
       "      <th>client_id</th>\n",
       "      <th>clnt_tenure_yr</th>\n",
       "      <th>clnt_tenure_mnth</th>\n",
       "      <th>clnt_age</th>\n",
       "      <th>gendr</th>\n",
       "      <th>num_accts</th>\n",
       "      <th>bal</th>\n",
       "      <th>calls_6_mnth</th>\n",
       "      <th>logons_6_mnth</th>\n",
       "      <th>clnt_age_quantile</th>\n",
       "    </tr>\n",
       "  </thead>\n",
       "  <tbody>\n",
       "    <tr>\n",
       "      <th>9583</th>\n",
       "      <td>4666211</td>\n",
       "      <td>8.0</td>\n",
       "      <td>106.0</td>\n",
       "      <td>NaN</td>\n",
       "      <td>F</td>\n",
       "      <td>2.0</td>\n",
       "      <td>42550.55</td>\n",
       "      <td>4.0</td>\n",
       "      <td>7.0</td>\n",
       "      <td>NaN</td>\n",
       "    </tr>\n",
       "  </tbody>\n",
       "</table>\n",
       "</div>"
      ],
      "text/plain": [
       "      client_id  clnt_tenure_yr  clnt_tenure_mnth  clnt_age gendr  num_accts  \\\n",
       "9583    4666211             8.0             106.0       NaN     F        2.0   \n",
       "\n",
       "           bal  calls_6_mnth  logons_6_mnth clnt_age_quantile  \n",
       "9583  42550.55           4.0            7.0               NaN  "
      ]
     },
     "execution_count": 23,
     "metadata": {},
     "output_type": "execute_result"
    }
   ],
   "source": [
    "# Show rows that have at least one missing value\n",
    "df_demo[df_demo.isnull().any(axis=1)]"
   ]
  },
  {
   "cell_type": "code",
   "execution_count": 24,
   "id": "40f46719",
   "metadata": {},
   "outputs": [],
   "source": [
    "#df_demo.groupby('tenure_quantile')['clnt_age'].agg('median')\n",
    "\n",
    "# sns.boxplot(x=new_df['clnt_age'], color=\"lightblue\")\n",
    "# plt.show()"
   ]
  },
  {
   "cell_type": "code",
   "execution_count": 25,
   "id": "973bc20e",
   "metadata": {},
   "outputs": [
    {
     "name": "stderr",
     "output_type": "stream",
     "text": [
      "C:\\Users\\pablo\\AppData\\Local\\Temp\\ipykernel_25856\\2651193523.py:1: FutureWarning: The default of observed=False is deprecated and will be changed to True in a future version of pandas. Pass observed=False to retain current behavior or observed=True to adopt the future default and silence this warning.\n",
      "  df_demo.groupby(\"clnt_age_quantile\")['clnt_age'].agg(['mean','median','std'])\n"
     ]
    },
    {
     "data": {
      "text/html": [
       "<div>\n",
       "<style scoped>\n",
       "    .dataframe tbody tr th:only-of-type {\n",
       "        vertical-align: middle;\n",
       "    }\n",
       "\n",
       "    .dataframe tbody tr th {\n",
       "        vertical-align: top;\n",
       "    }\n",
       "\n",
       "    .dataframe thead th {\n",
       "        text-align: right;\n",
       "    }\n",
       "</style>\n",
       "<table border=\"1\" class=\"dataframe\">\n",
       "  <thead>\n",
       "    <tr style=\"text-align: right;\">\n",
       "      <th></th>\n",
       "      <th>mean</th>\n",
       "      <th>median</th>\n",
       "      <th>std</th>\n",
       "    </tr>\n",
       "    <tr>\n",
       "      <th>clnt_age_quantile</th>\n",
       "      <th></th>\n",
       "      <th></th>\n",
       "      <th></th>\n",
       "    </tr>\n",
       "  </thead>\n",
       "  <tbody>\n",
       "    <tr>\n",
       "      <th>A1</th>\n",
       "      <td>26.464992</td>\n",
       "      <td>27.0</td>\n",
       "      <td>4.046262</td>\n",
       "    </tr>\n",
       "    <tr>\n",
       "      <th>A2</th>\n",
       "      <td>39.978301</td>\n",
       "      <td>40.0</td>\n",
       "      <td>4.273162</td>\n",
       "    </tr>\n",
       "    <tr>\n",
       "      <th>A3</th>\n",
       "      <td>53.421401</td>\n",
       "      <td>53.5</td>\n",
       "      <td>3.386708</td>\n",
       "    </tr>\n",
       "    <tr>\n",
       "      <th>A4</th>\n",
       "      <td>66.704569</td>\n",
       "      <td>65.5</td>\n",
       "      <td>5.966074</td>\n",
       "    </tr>\n",
       "  </tbody>\n",
       "</table>\n",
       "</div>"
      ],
      "text/plain": [
       "                        mean  median       std\n",
       "clnt_age_quantile                             \n",
       "A1                 26.464992    27.0  4.046262\n",
       "A2                 39.978301    40.0  4.273162\n",
       "A3                 53.421401    53.5  3.386708\n",
       "A4                 66.704569    65.5  5.966074"
      ]
     },
     "execution_count": 25,
     "metadata": {},
     "output_type": "execute_result"
    }
   ],
   "source": [
    "df_demo.groupby(\"clnt_age_quantile\")['clnt_age'].agg(['mean','median','std'])"
   ]
  },
  {
   "cell_type": "code",
   "execution_count": 26,
   "id": "17859902",
   "metadata": {},
   "outputs": [
    {
     "data": {
      "text/plain": [
       "count    70594.000000\n",
       "mean        46.442240\n",
       "std         15.591273\n",
       "min         13.500000\n",
       "25%         32.500000\n",
       "50%         47.000000\n",
       "75%         59.000000\n",
       "max         96.000000\n",
       "Name: clnt_age, dtype: float64"
      ]
     },
     "execution_count": 26,
     "metadata": {},
     "output_type": "execute_result"
    }
   ],
   "source": [
    "df_demo['clnt_age'].describe()"
   ]
  },
  {
   "cell_type": "code",
   "execution_count": 27,
   "id": "fa27b6fd",
   "metadata": {},
   "outputs": [
    {
     "name": "stdout",
     "output_type": "stream",
     "text": [
      "Age Variance: 243.09\n",
      "Age Std Deviation: 15.59\n",
      "Age Range: (np.float64(13.5), np.float64(96.0))\n",
      "Age Interquartile Range: 26.5\n"
     ]
    }
   ],
   "source": [
    "desc = df_demo['clnt_age'].describe()\n",
    "# desc['std'], desc['min'], desc['max'], desc['25%'], desc['75%']\n",
    "variance = round(df_demo['clnt_age'].var(), 2)\n",
    "std_dev = round(df_demo['clnt_age'].std(), 2)\n",
    "price_range = (desc['min'], desc['max'])\n",
    "iqr = desc['75%'] - desc['25%']\n",
    "\n",
    "print(f'Age Variance: {variance}')\n",
    "print(f\"Age Std Deviation: {std_dev}\")\n",
    "print(f'Age Range: {price_range}')\n",
    "print(f\"Age Interquartile Range: {iqr}\")"
   ]
  },
  {
   "cell_type": "code",
   "execution_count": 28,
   "id": "0a8f8597",
   "metadata": {},
   "outputs": [
    {
     "data": {
      "text/plain": [
       "(0, -1)"
      ]
     },
     "execution_count": 28,
     "metadata": {},
     "output_type": "execute_result"
    }
   ],
   "source": [
    "skewness_age = round(df_demo['clnt_age'].skew())\n",
    "kurtosis_age = round(df_demo['clnt_age'].kurtosis())\n",
    "\n",
    "skewness_age, kurtosis_age"
   ]
  },
  {
   "cell_type": "code",
   "execution_count": 29,
   "id": "4f041b9e",
   "metadata": {},
   "outputs": [
    {
     "data": {
      "image/png": "[encoded data removed]",
      "text/plain": [
       "<Figure size 1000x500 with 2 Axes>"
      ]
     },
     "metadata": {},
     "output_type": "display_data"
    }
   ],
   "source": [
    "# Age distribution\n",
    "fig, axes = plt.subplots(1,2,figsize=(10,5))\n",
    "sns.boxplot(data=df_demo, y='clnt_age',ax=axes[0])\n",
    "sns.histplot(df_demo['clnt_age'], kde=True, bins=10, ax=axes[1]);\n",
    "plt.show()"
   ]
  },
  {
   "cell_type": "code",
   "execution_count": 30,
   "id": "22e0d740",
   "metadata": {},
   "outputs": [
    {
     "data": {
      "text/plain": [
       "array(['U', 'M', 'F', 'X'], dtype=object)"
      ]
     },
     "execution_count": 30,
     "metadata": {},
     "output_type": "execute_result"
    }
   ],
   "source": [
    "df_demo['gendr'].unique()"
   ]
  },
  {
   "cell_type": "code",
   "execution_count": 31,
   "id": "88d56eed",
   "metadata": {},
   "outputs": [
    {
     "data": {
      "text/plain": [
       "gendr\n",
       "U    24122\n",
       "M    23724\n",
       "F    22746\n",
       "X        3\n",
       "Name: count, dtype: int64"
      ]
     },
     "execution_count": 31,
     "metadata": {},
     "output_type": "execute_result"
    }
   ],
   "source": [
    "df_demo['gendr'].value_counts(dropna=False)"
   ]
  },
  {
   "cell_type": "code",
   "execution_count": 32,
   "id": "9cb9b6e0",
   "metadata": {},
   "outputs": [
    {
     "data": {
      "text/plain": [
       "<Axes: xlabel='count', ylabel='gendr_clean'>"
      ]
     },
     "execution_count": 32,
     "metadata": {},
     "output_type": "execute_result"
    },
    {
     "data": {
      "image/png": "[encoded data removed]",
      "text/plain": [
       "<Figure size 640x480 with 1 Axes>"
      ]
     },
     "metadata": {},
     "output_type": "display_data"
    }
   ],
   "source": [
    "df_demo['gendr_clean'] = df_demo['gendr'].apply(lambda x: x if x in ['M', 'F'] else 'U')\n",
    "sns.countplot(data=df_demo, y='gendr_clean', palette=\"Set3\", hue='gendr_clean', legend=False)"
   ]
  },
  {
   "cell_type": "code",
   "execution_count": 33,
   "id": "d4f8d7ed",
   "metadata": {},
   "outputs": [
    {
     "data": {
      "image/png": "[encoded data removed]",
      "text/plain": [
       "<Figure size 1200x600 with 2 Axes>"
      ]
     },
     "metadata": {},
     "output_type": "display_data"
    }
   ],
   "source": [
    "# Gender distribution\n",
    "fig, axes = plt.subplots(1,2,figsize=(12,6))\n",
    "sns.boxplot(x = df_demo['clnt_tenure_yr'], color=\"lightblue\", ax=axes[0])\n",
    "sns.histplot(df_demo['clnt_tenure_yr'], bins=10, kde=True, ax=axes[1]);\n",
    "plt.show()"
   ]
  },
  {
   "cell_type": "code",
   "execution_count": 34,
   "id": "dd6edc54",
   "metadata": {},
   "outputs": [
    {
     "data": {
      "text/html": [
       "<div>\n",
       "<style scoped>\n",
       "    .dataframe tbody tr th:only-of-type {\n",
       "        vertical-align: middle;\n",
       "    }\n",
       "\n",
       "    .dataframe tbody tr th {\n",
       "        vertical-align: top;\n",
       "    }\n",
       "\n",
       "    .dataframe thead th {\n",
       "        text-align: right;\n",
       "    }\n",
       "</style>\n",
       "<table border=\"1\" class=\"dataframe\">\n",
       "  <thead>\n",
       "    <tr style=\"text-align: right;\">\n",
       "      <th>tenure_quantile</th>\n",
       "      <th>T1</th>\n",
       "      <th>T2</th>\n",
       "      <th>T3</th>\n",
       "      <th>T4</th>\n",
       "    </tr>\n",
       "    <tr>\n",
       "      <th>clnt_age_quantile</th>\n",
       "      <th></th>\n",
       "      <th></th>\n",
       "      <th></th>\n",
       "      <th></th>\n",
       "    </tr>\n",
       "  </thead>\n",
       "  <tbody>\n",
       "    <tr>\n",
       "      <th>A1</th>\n",
       "      <td>7976</td>\n",
       "      <td>5339</td>\n",
       "      <td>2867</td>\n",
       "      <td>1671</td>\n",
       "    </tr>\n",
       "    <tr>\n",
       "      <th>A2</th>\n",
       "      <td>4180</td>\n",
       "      <td>4736</td>\n",
       "      <td>5881</td>\n",
       "      <td>2877</td>\n",
       "    </tr>\n",
       "    <tr>\n",
       "      <th>A3</th>\n",
       "      <td>3980</td>\n",
       "      <td>4212</td>\n",
       "      <td>5011</td>\n",
       "      <td>4838</td>\n",
       "    </tr>\n",
       "    <tr>\n",
       "      <th>A4</th>\n",
       "      <td>3128</td>\n",
       "      <td>3764</td>\n",
       "      <td>4403</td>\n",
       "      <td>5731</td>\n",
       "    </tr>\n",
       "  </tbody>\n",
       "</table>\n",
       "</div>"
      ],
      "text/plain": [
       "tenure_quantile      T1    T2    T3    T4\n",
       "clnt_age_quantile                        \n",
       "A1                 7976  5339  2867  1671\n",
       "A2                 4180  4736  5881  2877\n",
       "A3                 3980  4212  5011  4838\n",
       "A4                 3128  3764  4403  5731"
      ]
     },
     "execution_count": 34,
     "metadata": {},
     "output_type": "execute_result"
    }
   ],
   "source": [
    "# Cross-tab age quantiles with tenure quantiles (Are younger clients newer? Are older clients more tenured?)\n",
    "df_demo['tenure_quantile'] = pd.qcut(df_demo['clnt_tenure_yr'], q=4, labels=['T1','T2','T3','T4'])\n",
    "crosstab_result = pd.crosstab(df_demo['clnt_age_quantile'], df_demo['tenure_quantile'])\n",
    "crosstab_result"
   ]
  },
  {
   "cell_type": "code",
   "execution_count": 35,
   "id": "0a7ca561",
   "metadata": {},
   "outputs": [
    {
     "data": {
      "text/html": [
       "<div>\n",
       "<style scoped>\n",
       "    .dataframe tbody tr th:only-of-type {\n",
       "        vertical-align: middle;\n",
       "    }\n",
       "\n",
       "    .dataframe tbody tr th {\n",
       "        vertical-align: top;\n",
       "    }\n",
       "\n",
       "    .dataframe thead th {\n",
       "        text-align: right;\n",
       "    }\n",
       "</style>\n",
       "<table border=\"1\" class=\"dataframe\">\n",
       "  <thead>\n",
       "    <tr style=\"text-align: right;\">\n",
       "      <th></th>\n",
       "      <th>clnt_age</th>\n",
       "      <th>clnt_tenure_yr</th>\n",
       "    </tr>\n",
       "  </thead>\n",
       "  <tbody>\n",
       "    <tr>\n",
       "      <th>clnt_age</th>\n",
       "      <td>1.000000</td>\n",
       "      <td>0.309372</td>\n",
       "    </tr>\n",
       "    <tr>\n",
       "      <th>clnt_tenure_yr</th>\n",
       "      <td>0.309372</td>\n",
       "      <td>1.000000</td>\n",
       "    </tr>\n",
       "  </tbody>\n",
       "</table>\n",
       "</div>"
      ],
      "text/plain": [
       "                clnt_age  clnt_tenure_yr\n",
       "clnt_age        1.000000        0.309372\n",
       "clnt_tenure_yr  0.309372        1.000000"
      ]
     },
     "execution_count": 35,
     "metadata": {},
     "output_type": "execute_result"
    }
   ],
   "source": [
    "# Correlation\n",
    "df_demo[['clnt_age', 'clnt_tenure_yr']].corr()"
   ]
  },
  {
   "cell_type": "code",
   "execution_count": 36,
   "id": "d7aa8f80",
   "metadata": {},
   "outputs": [
    {
     "data": {
      "text/plain": [
       "np.float64(0.30937245195041824)"
      ]
     },
     "execution_count": 36,
     "metadata": {},
     "output_type": "execute_result"
    }
   ],
   "source": [
    "# Calculating the Pearson correlation 'Age' and 'Tenure'\n",
    "person_correlation = df_demo['clnt_age'].corr(df_demo['clnt_tenure_yr'])\n",
    "person_correlation"
   ]
  },
  {
   "cell_type": "code",
   "execution_count": 37,
   "id": "494e39cc",
   "metadata": {},
   "outputs": [
    {
     "data": {
      "text/plain": [
       "np.float64(0.30097573143540785)"
      ]
     },
     "execution_count": 37,
     "metadata": {},
     "output_type": "execute_result"
    }
   ],
   "source": [
    "# Calculating the Spearman rank correlation 'Age' and 'Tenure'\n",
    "spearman_correlation = df_demo['clnt_age'].corr(df_demo['clnt_tenure_yr'], method='spearman')\n",
    "spearman_correlation"
   ]
  },
  {
   "cell_type": "code",
   "execution_count": 38,
   "id": "431841b3",
   "metadata": {},
   "outputs": [
    {
     "data": {
      "image/png": "[encoded data removed]",
      "text/plain": [
       "<Figure size 640x480 with 2 Axes>"
      ]
     },
     "metadata": {},
     "output_type": "display_data"
    }
   ],
   "source": [
    "sns.heatmap(crosstab_result, annot=True, cmap=\"YlGnBu\", fmt=\"d\");"
   ]
  },
  {
   "cell_type": "code",
   "execution_count": 47,
   "id": "6dfe8ba4",
   "metadata": {},
   "outputs": [
    {
     "data": {
      "image/png": "[encoded data removed]",
      "text/plain": [
       "<Figure size 500x500 with 6 Axes>"
      ]
     },
     "metadata": {},
     "output_type": "display_data"
    }
   ],
   "source": [
    "sns.pairplot(df_demo[[\"clnt_age\", \"clnt_tenure_yr\"]]);"
   ]
  }
 ],
 "metadata": {
  "kernelspec": {
   "display_name": "project-template",
   "language": "python",
   "name": "python3"
  },
  "language_info": {
   "codemirror_mode": {
    "name": "ipython",
    "version": 3
   },
   "file_extension": ".py",
   "mimetype": "text/x-python",
   "name": "python",
   "nbconvert_exporter": "python",
   "pygments_lexer": "ipython3",
   "version": "3.13.5"
  }
 },
 "nbformat": 4,
 "nbformat_minor": 5
}
