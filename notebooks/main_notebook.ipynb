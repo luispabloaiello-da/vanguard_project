{
 "cells": [
  {
   "cell_type": "code",
   "execution_count": null,
   "id": "24093136",
   "metadata": {},
   "outputs": [
    {
     "ename": "",
     "evalue": "",
     "output_type": "error",
     "traceback": [
      "\u001b[1;31mRunning cells with 'vanguard_project (Python 3.13.5)' requires the ipykernel package.\n",
      "\u001b[1;31mInstall 'ipykernel' into the Python environment. \n",
      "\u001b[1;31mCommand: 'd:/vscode101/vanguard_project/.venv/Scripts/python.exe -m pip install ipykernel -U --force-reinstall'"
     ]
    }
   ],
   "source": [
    "# <-- Import libraries, custom functions, and load configuration & datasets <-- #\n",
    "\n",
    "import yaml\n",
    "import datetime as dt\n",
    "import re\n",
    "import pandas as pd\n",
    "import scipy.stats as st\n",
    "import numpy as np\n",
    "import matplotlib.pyplot as plt\n",
    "import plotly.express as px\n",
    "import statsmodels.api as sm\n",
    "import seaborn as sns\n",
    "\n",
    "from statsmodels.multivariate.manova import MANOVA\n",
    "from scipy import stats\n",
    "from scipy.stats import pearsonr, boxcox, chi2_contingency\n",
    "from scipy.stats.contingency import association\n",
    "\n",
    "# <-- Imports custom preprocessing functions from 'functions.py' <-- #\n",
    "\n",
    "# from functions import ()\n",
    "\n",
    "# <-- Loads YAML configuration to dynamically reference CSV output files. <-- #\n",
    "\n",
    "config = None  # <-- Initialize config\n",
    "try:\n",
    "    with open(\"../config.yaml\", \"r\") as file:\n",
    "        config = yaml.safe_load(file)\n",
    "except:\n",
    "    print(\"Yaml configuration file not found!\")\n",
    "\n",
    "\n",
    "df_demo = pd.read_csv(config['input_data']['file1'])\n",
    "df_exp_clients = pd.read_csv(config['input_data']['file2'])\n",
    "df_web_data_pt_1 = pd.read_csv(config['input_data']['file3'])\n",
    "df_web_data_pt_2 = pd.read_csv(config['input_data']['file3'])"
   ]
  },
  {
   "cell_type": "code",
   "execution_count": null,
   "id": "025c86c6",
   "metadata": {},
   "outputs": [],
   "source": [
    "df_demo"
   ]
  },
  {
   "cell_type": "code",
   "execution_count": null,
   "id": "d9b33980",
   "metadata": {},
   "outputs": [],
   "source": [
    "df_exp_clients"
   ]
  },
  {
   "cell_type": "code",
   "execution_count": null,
   "id": "5f02b78f",
   "metadata": {},
   "outputs": [],
   "source": [
    "display(pd.DataFrame({\n",
    "    \"non_nulls\": df_exp_clients.count(),\n",
    "    \"nulls\": df_exp_clients.isnull().sum(),\n",
    "    \"total\": len(df_exp_clients)\n",
    "}))"
   ]
  },
  {
   "cell_type": "code",
   "execution_count": null,
   "id": "ced8e7ee",
   "metadata": {},
   "outputs": [],
   "source": [
    "df_exp_clients.dropna(inplace=True)"
   ]
  },
  {
   "cell_type": "code",
   "execution_count": null,
   "id": "2c0d51d0",
   "metadata": {},
   "outputs": [],
   "source": [
    "# Drop rows of clients not inlcuded in the experiment\n",
    "df_exp_clients.shape, df_exp_clients.isnull().sum()"
   ]
  },
  {
   "cell_type": "code",
   "execution_count": null,
   "id": "491be6d0",
   "metadata": {},
   "outputs": [],
   "source": [
    "# client_id == 4666211 [only client with not age]\n",
    "df_exp_clients[df_exp_clients['client_id'] == 4666211]"
   ]
  },
  {
   "cell_type": "code",
   "execution_count": null,
   "id": "7e26a1f9",
   "metadata": {},
   "outputs": [],
   "source": [
    "df_web_data_pt_1"
   ]
  },
  {
   "cell_type": "code",
   "execution_count": null,
   "id": "95f9789f",
   "metadata": {},
   "outputs": [],
   "source": [
    "df_web_data_pt_2"
   ]
  },
  {
   "cell_type": "code",
   "execution_count": null,
   "id": "dcefcf56",
   "metadata": {},
   "outputs": [],
   "source": [
    "# Concatenate the two web data parts vertically and drop duplicates\n",
    "df_web_data = pd.concat([df_web_data_pt_1, df_web_data_pt_2], ignore_index=True).drop_duplicates().reset_index(drop=True)\n",
    "print(f\"Combined shape: {df_web_data.shape}\")\n",
    "print(f\"Original shapes: {df_web_data_pt_1.shape} + {df_web_data_pt_2.shape}\")\n",
    "df_web_data"
   ]
  },
  {
   "cell_type": "code",
   "execution_count": null,
   "id": "c6f0de91",
   "metadata": {},
   "outputs": [],
   "source": [
    "df_demo.columns"
   ]
  },
  {
   "cell_type": "code",
   "execution_count": null,
   "id": "86ba66cd",
   "metadata": {},
   "outputs": [],
   "source": [
    "df_exp_clients.columns"
   ]
  },
  {
   "cell_type": "code",
   "execution_count": null,
   "id": "149f107b",
   "metadata": {},
   "outputs": [],
   "source": [
    "# Counting and sorting the unique values for each numerical column in descending order\n",
    "df_demo.select_dtypes(\"number\").nunique().sort_values(ascending=False)"
   ]
  },
  {
   "cell_type": "code",
   "execution_count": null,
   "id": "12618093",
   "metadata": {},
   "outputs": [],
   "source": [
    "display(pd.DataFrame({\n",
    "    \"non_nulls\": df_demo.count(),\n",
    "    \"nulls\": df_demo.isnull().sum(),\n",
    "    \"total\": len(df_demo)\n",
    "}))"
   ]
  },
  {
   "cell_type": "code",
   "execution_count": null,
   "id": "ec158c0f",
   "metadata": {},
   "outputs": [],
   "source": [
    "# Drop the rows are missing elements.\n",
    "df_demo.dropna(thresh=7, inplace=True)"
   ]
  },
  {
   "cell_type": "code",
   "execution_count": null,
   "id": "bbef0bf8",
   "metadata": {},
   "outputs": [],
   "source": [
    "df_demo.shape, df_demo.isnull().sum()"
   ]
  },
  {
   "cell_type": "code",
   "execution_count": null,
   "id": "81b1e846",
   "metadata": {},
   "outputs": [],
   "source": [
    "df_demo.drop_duplicates(subset='client_id').count()"
   ]
  },
  {
   "cell_type": "code",
   "execution_count": null,
   "id": "291ebc31",
   "metadata": {},
   "outputs": [],
   "source": [
    "display(pd.DataFrame({\n",
    "    \"non_nulls\": df_exp_clients.count(),\n",
    "    \"nulls\": df_exp_clients.isnull().sum(),\n",
    "    \"total\": len(df_exp_clients)\n",
    "}))"
   ]
  },
  {
   "cell_type": "code",
   "execution_count": null,
   "id": "87684f00",
   "metadata": {},
   "outputs": [],
   "source": [
    "# Calculate the mean, median, mode, variance, and standard deviation of 'clnt_age'.\n",
    "data={\"mean\": [df_demo['clnt_age'].mean()], \"median\": [df_demo['clnt_age'].median()],\n",
    " \"mode\": [df_demo['clnt_age'].mode()[0]], \"sd\": [df_demo['clnt_age'].std()]}\n",
    "display(pd.DataFrame(data))"
   ]
  },
  {
   "cell_type": "code",
   "execution_count": null,
   "id": "5655c7a7",
   "metadata": {},
   "outputs": [],
   "source": [
    "# Discretizing 'clnt_age' into quartiles\n",
    "df_demo['clnt_age_quantile'] = pd.qcut(df_demo['clnt_age'], q=4, labels=['A1', 'A2', 'A3', 'A4'])\n",
    "df_demo.clnt_age_quantile.value_counts()"
   ]
  },
  {
   "cell_type": "code",
   "execution_count": null,
   "id": "f42f2fb7",
   "metadata": {},
   "outputs": [],
   "source": [
    "# Show rows that have at least one missing value\n",
    "df_demo[df_demo.isnull().any(axis=1)]"
   ]
  },
  {
   "cell_type": "code",
   "execution_count": null,
   "id": "40f46719",
   "metadata": {},
   "outputs": [],
   "source": [
    "#df_demo.groupby('tenure_quantile')['clnt_age'].agg('median')\n",
    "\n",
    "# sns.boxplot(x=new_df['clnt_age'], color=\"lightblue\")\n",
    "# plt.show()"
   ]
  },
  {
   "cell_type": "code",
   "execution_count": null,
   "id": "dea9def9",
   "metadata": {},
   "outputs": [],
   "source": [
    "df_demo.describe"
   ]
  },
  {
   "cell_type": "code",
   "execution_count": null,
   "id": "973bc20e",
   "metadata": {},
   "outputs": [],
   "source": [
    "df_demo.groupby(\"clnt_age_quantile\")['clnt_age'].agg(['mean','median','std'])"
   ]
  },
  {
   "cell_type": "code",
   "execution_count": null,
   "id": "17859902",
   "metadata": {},
   "outputs": [],
   "source": [
    "df_demo['clnt_age'].describe()"
   ]
  },
  {
   "cell_type": "code",
   "execution_count": null,
   "id": "fa27b6fd",
   "metadata": {},
   "outputs": [],
   "source": [
    "desc = df_demo['clnt_age'].describe()\n",
    "# desc['std'], desc['min'], desc['max'], desc['25%'], desc['75%']\n",
    "variance = round(df_demo['clnt_age'].var(), 2)\n",
    "std_dev = round(df_demo['clnt_age'].std(), 2)\n",
    "price_range = (desc['min'], desc['max'])\n",
    "iqr = desc['75%'] - desc['25%']\n",
    "\n",
    "print(f'Age Variance: {variance}')\n",
    "print(f\"Age Std Deviation: {std_dev}\")\n",
    "print(f'Age Range: {price_range}')\n",
    "print(f\"Age Interquartile Range: {iqr}\")"
   ]
  },
  {
   "cell_type": "code",
   "execution_count": null,
   "id": "0a8f8597",
   "metadata": {},
   "outputs": [],
   "source": [
    "skewness_age = round(df_demo['clnt_age'].skew())\n",
    "kurtosis_age = round(df_demo['clnt_age'].kurtosis())\n",
    "\n",
    "skewness_age, kurtosis_age"
   ]
  },
  {
   "cell_type": "code",
   "execution_count": null,
   "id": "4f041b9e",
   "metadata": {},
   "outputs": [],
   "source": [
    "# Age distribution\n",
    "fig, axes = plt.subplots(1,2,figsize=(10,5))\n",
    "sns.boxplot(data=df_demo, y='clnt_age',ax=axes[0])\n",
    "sns.histplot(df_demo['clnt_age'], kde=True, bins=10, ax=axes[1]);\n",
    "plt.show()"
   ]
  },
  {
   "cell_type": "code",
   "execution_count": null,
   "id": "22e0d740",
   "metadata": {},
   "outputs": [],
   "source": [
    "df_demo['gendr'].unique()"
   ]
  },
  {
   "cell_type": "code",
   "execution_count": null,
   "id": "88d56eed",
   "metadata": {},
   "outputs": [],
   "source": [
    "df_demo['gendr'].value_counts(dropna=False)"
   ]
  },
  {
   "cell_type": "code",
   "execution_count": null,
   "id": "9cb9b6e0",
   "metadata": {},
   "outputs": [],
   "source": [
    "df_demo['gendr_clean'] = df_demo['gendr'].apply(lambda x: x if x in ['M', 'F'] else 'U')\n",
    "sns.countplot(data=df_demo, y='gendr_clean', palette=\"Set3\", hue='gendr_clean', legend=False)"
   ]
  },
  {
   "cell_type": "code",
   "execution_count": null,
   "id": "d4f8d7ed",
   "metadata": {},
   "outputs": [],
   "source": [
    "# Gender distribution\n",
    "fig, axes = plt.subplots(1,2,figsize=(12,6))\n",
    "sns.boxplot(x = df_demo['clnt_tenure_yr'], color=\"lightblue\", ax=axes[0])\n",
    "sns.histplot(df_demo['clnt_tenure_yr'], bins=10, kde=True, ax=axes[1]);\n",
    "plt.show()"
   ]
  },
  {
   "cell_type": "code",
   "execution_count": null,
   "id": "dd6edc54",
   "metadata": {},
   "outputs": [],
   "source": [
    "# Cross-tab age quantiles with tenure quantiles (Are younger clients newer? Are older clients more tenured?)\n",
    "df_demo['tenure_quantile'] = pd.qcut(df_demo['clnt_tenure_yr'], q=4, labels=['T1','T2','T3','T4'])\n",
    "crosstab_result = pd.crosstab(df_demo['clnt_age_quantile'], df_demo['tenure_quantile'])\n",
    "crosstab_result"
   ]
  },
  {
   "cell_type": "code",
   "execution_count": null,
   "id": "0a7ca561",
   "metadata": {},
   "outputs": [],
   "source": [
    "# Correlation\n",
    "df_demo[['clnt_age', 'clnt_tenure_yr']].corr()"
   ]
  },
  {
   "cell_type": "code",
   "execution_count": null,
   "id": "d7aa8f80",
   "metadata": {},
   "outputs": [],
   "source": [
    "# Calculating the Pearson correlation 'Age' and 'Tenure'\n",
    "person_correlation = df_demo['clnt_age'].corr(df_demo['clnt_tenure_yr'])\n",
    "person_correlation"
   ]
  },
  {
   "cell_type": "code",
   "execution_count": null,
   "id": "494e39cc",
   "metadata": {},
   "outputs": [],
   "source": [
    "# Calculating the Spearman rank correlation 'Age' and 'Tenure'\n",
    "spearman_correlation = df_demo['clnt_age'].corr(df_demo['clnt_tenure_yr'], method='spearman')\n",
    "spearman_correlation"
   ]
  },
  {
   "cell_type": "code",
   "execution_count": null,
   "id": "431841b3",
   "metadata": {},
   "outputs": [],
   "source": [
    "sns.heatmap(crosstab_result, annot=True, cmap=\"YlGnBu\", fmt=\"d\");"
   ]
  },
  {
   "cell_type": "code",
   "execution_count": null,
   "id": "6dfe8ba4",
   "metadata": {},
   "outputs": [],
   "source": [
    "sns.pairplot(df_demo[[\"clnt_age\", \"clnt_tenure_yr\"]]);"
   ]
  }
 ],
 "metadata": {
  "kernelspec": {
   "display_name": "vanguard_project",
   "language": "python",
   "name": "python3"
  },
  "language_info": {
   "codemirror_mode": {
    "name": "ipython",
    "version": 3
   },
   "file_extension": ".py",
   "mimetype": "text/x-python",
   "name": "python",
   "nbconvert_exporter": "python",
   "pygments_lexer": "ipython3",
   "version": "3.13.5"
  }
 },
 "nbformat": 4,
 "nbformat_minor": 5
}
