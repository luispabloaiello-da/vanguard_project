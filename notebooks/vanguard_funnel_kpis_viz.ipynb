{
 "cells": [
  {
   "cell_type": "code",
   "execution_count": 6,
   "id": "7cb4a511",
   "metadata": {},
   "outputs": [],
   "source": [
    "# <-- Import libraries, custom functions, and load configuration & datasets <-- #\n",
    "\n",
    "import yaml\n",
    "import datetime as dt\n",
    "import re\n",
    "import pandas as pd\n",
    "import scipy.stats as st\n",
    "import numpy as np\n",
    "import matplotlib.pyplot as plt\n",
    "import plotly.express as px\n",
    "import statsmodels.api as sm\n",
    "import seaborn as sns\n",
    "\n",
    "from statsmodels.multivariate.manova import MANOVA\n",
    "from scipy import stats\n",
    "from scipy.stats import pearsonr, boxcox, chi2_contingency, shapiro, probplot\n",
    "from scipy.stats.contingency import association\n",
    "\n",
    "sns.set(style=\"whitegrid\")\n",
    "\n",
    "# <-- Imports custom preprocessing functions from 'functions.py' <-- #\n",
    "\n",
    "# from functions import ()\n",
    "\n",
    "# <-- Loads YAML configuration to dynamically reference CSV output files. <-- #\n",
    "\n",
    "config = None  # <-- Initialize config\n",
    "try:\n",
    "    with open(\"../config.yaml\", \"r\") as file:\n",
    "        config = yaml.safe_load(file)\n",
    "except:\n",
    "    print(\"Yaml configuration file not found!\")\n",
    "\n",
    "df_proc_control = pd.read_csv(config['output_data']['file6'])\n",
    "df_proc_test = pd.read_csv(config['output_data']['file7'])"
   ]
  },
  {
   "cell_type": "code",
   "execution_count": 11,
   "id": "c72fe303",
   "metadata": {},
   "outputs": [
    {
     "data": {
      "text/plain": [
       "Index(['client_id', 'visitor_id', 'visit_id', 'reached_start',\n",
       "       'reached_step_1', 'reached_step_2', 'reached_step_3', 'reached_confirm',\n",
       "       'completed', 't_start_step1', 't_step1_step2', 't_step2_step3',\n",
       "       't_step3_conf', 't_total', 'n_back_jumps', 'outcome'],\n",
       "      dtype='object')"
      ]
     },
     "execution_count": 11,
     "metadata": {},
     "output_type": "execute_result"
    }
   ],
   "source": [
    "df_proc_control.columns"
   ]
  },
  {
   "cell_type": "code",
   "execution_count": 7,
   "id": "2058e81c",
   "metadata": {},
   "outputs": [],
   "source": [
    "plt.rcParams['figure.figsize'] = (7,4)\n",
    "\n",
    "# 1) Elige las columnas numéricas donde quieres buscar outliers\n",
    "NUM_COLS = [\n",
    "    't_total','t_start_step1','t_step1_step2','t_step2_step3','t_step3_conf','n_back_jumps'\n",
    "]"
   ]
  },
  {
   "cell_type": "code",
   "execution_count": 8,
   "id": "140e0f45",
   "metadata": {},
   "outputs": [],
   "source": [
    "# 2) Cálculo simple de límites IQR\n",
    "def iqr_bounds(s: pd.Series, k: float = 3.0):\n",
    "    x = s.dropna().values\n",
    "    if len(x) == 0:\n",
    "        return np.nan, np.nan\n",
    "    q1, q3 = np.percentile(x, [25, 75])\n",
    "    iqr = q3 - q1\n",
    "    return q1 - k*iqr, q3 + k*iqr"
   ]
  },
  {
   "cell_type": "code",
   "execution_count": 9,
   "id": "fd2546c9",
   "metadata": {},
   "outputs": [],
   "source": [
    "# 3) Escaneo rápido (imprime conteos y dibuja 2 gráficos por variable)\n",
    "def quick_outlier_scan(df: pd.DataFrame, cols=NUM_COLS, k: float = 3.0, title_prefix:str=\"\"):\n",
    "    for c in cols:\n",
    "        lo, hi = iqr_bounds(df[c], k)\n",
    "        n_out = int(((df[c] < lo) | (df[c] > hi)).sum())\n",
    "        print(f\"{title_prefix}{c}: outliers={n_out}, low={lo:.3f}, high={hi:.3f}\")\n",
    "\n",
    "        # Boxplot con límites IQR\n",
    "        ax = sns.boxplot(x=df[c])\n",
    "        if np.isfinite(lo): ax.axvline(lo, ls='--')\n",
    "        if np.isfinite(hi): ax.axvline(hi, ls='--')\n",
    "        ax.set_title(f\"{title_prefix}{c} (box + IQR)\"); plt.show()\n",
    "\n",
    "        # Histograma simple\n",
    "        sns.histplot(df[c], kde=True)\n",
    "        if np.isfinite(lo): plt.axvline(lo, ls='--')\n",
    "        if np.isfinite(hi): plt.axvline(hi, ls='--')\n",
    "        plt.title(f\"{title_prefix}{c} (hist)\"); plt.show()"
   ]
  },
  {
   "cell_type": "code",
   "execution_count": 14,
   "id": "a45dfea1",
   "metadata": {},
   "outputs": [
    {
     "data": {
      "image/png": "[encoded data removed]",
      "text/plain": [
       "<Figure size 800x500 with 1 Axes>"
      ]
     },
     "metadata": {},
     "output_type": "display_data"
    }
   ],
   "source": [
    "# Escaneo visual y conteos\n",
    "# quick_outlier_scan(df_proc_control, title_prefix=\"[CONTROL] \")\n",
    "# quick_outlier_scan(df_proc_test,    title_prefix=\"[TEST] \")\n",
    "\n",
    "df_age_combined = pd.concat([\n",
    "    pd.DataFrame({'ttime': df_proc_control['t_total'].dropna(), 'Group': 'Control'}),\n",
    "    pd.DataFrame({'ttime': df_proc_test['t_total'].dropna(), 'Group': 'Test'})\n",
    "])\n",
    "\n",
    "plt.figure(figsize=(8, 5))\n",
    "sns.boxplot(x='Group', y='ttime', data=df_age_combined)\n",
    "plt.title('Process Total time by Group')\n",
    "plt.xlabel('Group')\n",
    "plt.ylabel('Total Time')\n",
    "plt.show()"
   ]
  }
 ],
 "metadata": {
  "kernelspec": {
   "display_name": "vanguard_project",
   "language": "python",
   "name": "python3"
  },
  "language_info": {
   "codemirror_mode": {
    "name": "ipython",
    "version": 3
   },
   "file_extension": ".py",
   "mimetype": "text/x-python",
   "name": "python",
   "nbconvert_exporter": "python",
   "pygments_lexer": "ipython3",
   "version": "3.13.5"
  }
 },
 "nbformat": 4,
 "nbformat_minor": 5
}
